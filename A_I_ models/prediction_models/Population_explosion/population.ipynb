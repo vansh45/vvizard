{
 "cells": [
  {
   "cell_type": "code",
   "execution_count": 1,
   "id": "b3afd5ea",
   "metadata": {},
   "outputs": [],
   "source": [
    "import matplotlib.pyplot as plt\n",
    "import seaborn as sns\n",
    "import numpy as np\n",
    "import pandas as pd"
   ]
  },
  {
   "cell_type": "code",
   "execution_count": 2,
   "id": "600b48fc",
   "metadata": {},
   "outputs": [],
   "source": [
    "df1 = pd.read_csv('pop_worldometer_data.csv')"
   ]
  },
  {
   "cell_type": "code",
   "execution_count": 3,
   "id": "43fcd30a",
   "metadata": {},
   "outputs": [
    {
     "data": {
      "text/html": [
       "<div>\n",
       "<style scoped>\n",
       "    .dataframe tbody tr th:only-of-type {\n",
       "        vertical-align: middle;\n",
       "    }\n",
       "\n",
       "    .dataframe tbody tr th {\n",
       "        vertical-align: top;\n",
       "    }\n",
       "\n",
       "    .dataframe thead th {\n",
       "        text-align: right;\n",
       "    }\n",
       "</style>\n",
       "<table border=\"1\" class=\"dataframe\">\n",
       "  <thead>\n",
       "    <tr style=\"text-align: right;\">\n",
       "      <th></th>\n",
       "      <th>Country (or dependency)</th>\n",
       "      <th>Population (2020)</th>\n",
       "      <th>Yearly Change %</th>\n",
       "      <th>Net Change</th>\n",
       "      <th>Density (P/Km²)</th>\n",
       "      <th>Land Area (Km²)</th>\n",
       "      <th>Migrants (net)</th>\n",
       "      <th>Fert. Rate</th>\n",
       "      <th>Med. Age</th>\n",
       "      <th>Urban Pop %</th>\n",
       "      <th>World Share %</th>\n",
       "    </tr>\n",
       "  </thead>\n",
       "  <tbody>\n",
       "    <tr>\n",
       "      <th>0</th>\n",
       "      <td>China</td>\n",
       "      <td>1439323776</td>\n",
       "      <td>0.39</td>\n",
       "      <td>5540090</td>\n",
       "      <td>153.0</td>\n",
       "      <td>9388211.0</td>\n",
       "      <td>-348399.0</td>\n",
       "      <td>1.7</td>\n",
       "      <td>38.0</td>\n",
       "      <td>61.0</td>\n",
       "      <td>18.47</td>\n",
       "    </tr>\n",
       "    <tr>\n",
       "      <th>1</th>\n",
       "      <td>India</td>\n",
       "      <td>1380004385</td>\n",
       "      <td>0.99</td>\n",
       "      <td>13586631</td>\n",
       "      <td>464.0</td>\n",
       "      <td>2973190.0</td>\n",
       "      <td>-532687.0</td>\n",
       "      <td>2.2</td>\n",
       "      <td>28.0</td>\n",
       "      <td>35.0</td>\n",
       "      <td>17.70</td>\n",
       "    </tr>\n",
       "    <tr>\n",
       "      <th>2</th>\n",
       "      <td>United States</td>\n",
       "      <td>331002651</td>\n",
       "      <td>0.59</td>\n",
       "      <td>1937734</td>\n",
       "      <td>36.0</td>\n",
       "      <td>9147420.0</td>\n",
       "      <td>954806.0</td>\n",
       "      <td>1.8</td>\n",
       "      <td>38.0</td>\n",
       "      <td>83.0</td>\n",
       "      <td>4.25</td>\n",
       "    </tr>\n",
       "    <tr>\n",
       "      <th>3</th>\n",
       "      <td>Indonesia</td>\n",
       "      <td>273523615</td>\n",
       "      <td>1.07</td>\n",
       "      <td>2898047</td>\n",
       "      <td>151.0</td>\n",
       "      <td>1811570.0</td>\n",
       "      <td>-98955.0</td>\n",
       "      <td>2.3</td>\n",
       "      <td>30.0</td>\n",
       "      <td>56.0</td>\n",
       "      <td>3.51</td>\n",
       "    </tr>\n",
       "    <tr>\n",
       "      <th>4</th>\n",
       "      <td>Pakistan</td>\n",
       "      <td>220892340</td>\n",
       "      <td>2.00</td>\n",
       "      <td>4327022</td>\n",
       "      <td>287.0</td>\n",
       "      <td>770880.0</td>\n",
       "      <td>-233379.0</td>\n",
       "      <td>3.6</td>\n",
       "      <td>23.0</td>\n",
       "      <td>35.0</td>\n",
       "      <td>2.83</td>\n",
       "    </tr>\n",
       "    <tr>\n",
       "      <th>...</th>\n",
       "      <td>...</td>\n",
       "      <td>...</td>\n",
       "      <td>...</td>\n",
       "      <td>...</td>\n",
       "      <td>...</td>\n",
       "      <td>...</td>\n",
       "      <td>...</td>\n",
       "      <td>...</td>\n",
       "      <td>...</td>\n",
       "      <td>...</td>\n",
       "      <td>...</td>\n",
       "    </tr>\n",
       "    <tr>\n",
       "      <th>230</th>\n",
       "      <td>Montserrat</td>\n",
       "      <td>4992</td>\n",
       "      <td>0.06</td>\n",
       "      <td>3</td>\n",
       "      <td>50.0</td>\n",
       "      <td>100.0</td>\n",
       "      <td>NaN</td>\n",
       "      <td>NaN</td>\n",
       "      <td>NaN</td>\n",
       "      <td>10.0</td>\n",
       "      <td>0.00</td>\n",
       "    </tr>\n",
       "    <tr>\n",
       "      <th>231</th>\n",
       "      <td>Falkland Islands</td>\n",
       "      <td>3480</td>\n",
       "      <td>3.05</td>\n",
       "      <td>103</td>\n",
       "      <td>0.0</td>\n",
       "      <td>12170.0</td>\n",
       "      <td>NaN</td>\n",
       "      <td>NaN</td>\n",
       "      <td>NaN</td>\n",
       "      <td>66.0</td>\n",
       "      <td>0.00</td>\n",
       "    </tr>\n",
       "    <tr>\n",
       "      <th>232</th>\n",
       "      <td>Niue</td>\n",
       "      <td>1626</td>\n",
       "      <td>0.68</td>\n",
       "      <td>11</td>\n",
       "      <td>6.0</td>\n",
       "      <td>260.0</td>\n",
       "      <td>NaN</td>\n",
       "      <td>NaN</td>\n",
       "      <td>NaN</td>\n",
       "      <td>46.0</td>\n",
       "      <td>0.00</td>\n",
       "    </tr>\n",
       "    <tr>\n",
       "      <th>233</th>\n",
       "      <td>Tokelau</td>\n",
       "      <td>1357</td>\n",
       "      <td>1.27</td>\n",
       "      <td>17</td>\n",
       "      <td>136.0</td>\n",
       "      <td>10.0</td>\n",
       "      <td>NaN</td>\n",
       "      <td>NaN</td>\n",
       "      <td>NaN</td>\n",
       "      <td>0.0</td>\n",
       "      <td>0.00</td>\n",
       "    </tr>\n",
       "    <tr>\n",
       "      <th>234</th>\n",
       "      <td>Holy See</td>\n",
       "      <td>801</td>\n",
       "      <td>0.25</td>\n",
       "      <td>2</td>\n",
       "      <td>2003.0</td>\n",
       "      <td>0.0</td>\n",
       "      <td>NaN</td>\n",
       "      <td>NaN</td>\n",
       "      <td>NaN</td>\n",
       "      <td>NaN</td>\n",
       "      <td>0.00</td>\n",
       "    </tr>\n",
       "  </tbody>\n",
       "</table>\n",
       "<p>235 rows × 11 columns</p>\n",
       "</div>"
      ],
      "text/plain": [
       "    Country (or dependency)  Population (2020)  Yearly Change %  Net Change  \\\n",
       "0                     China         1439323776             0.39     5540090   \n",
       "1                     India         1380004385             0.99    13586631   \n",
       "2             United States          331002651             0.59     1937734   \n",
       "3                 Indonesia          273523615             1.07     2898047   \n",
       "4                  Pakistan          220892340             2.00     4327022   \n",
       "..                      ...                ...              ...         ...   \n",
       "230              Montserrat               4992             0.06           3   \n",
       "231        Falkland Islands               3480             3.05         103   \n",
       "232                    Niue               1626             0.68          11   \n",
       "233                 Tokelau               1357             1.27          17   \n",
       "234                Holy See                801             0.25           2   \n",
       "\n",
       "     Density (P/Km²)  Land Area (Km²)  Migrants (net)  Fert. Rate  Med. Age  \\\n",
       "0              153.0        9388211.0       -348399.0         1.7      38.0   \n",
       "1              464.0        2973190.0       -532687.0         2.2      28.0   \n",
       "2               36.0        9147420.0        954806.0         1.8      38.0   \n",
       "3              151.0        1811570.0        -98955.0         2.3      30.0   \n",
       "4              287.0         770880.0       -233379.0         3.6      23.0   \n",
       "..               ...              ...             ...         ...       ...   \n",
       "230             50.0            100.0             NaN         NaN       NaN   \n",
       "231              0.0          12170.0             NaN         NaN       NaN   \n",
       "232              6.0            260.0             NaN         NaN       NaN   \n",
       "233            136.0             10.0             NaN         NaN       NaN   \n",
       "234           2003.0              0.0             NaN         NaN       NaN   \n",
       "\n",
       "     Urban Pop %  World Share %  \n",
       "0           61.0          18.47  \n",
       "1           35.0          17.70  \n",
       "2           83.0           4.25  \n",
       "3           56.0           3.51  \n",
       "4           35.0           2.83  \n",
       "..           ...            ...  \n",
       "230         10.0           0.00  \n",
       "231         66.0           0.00  \n",
       "232         46.0           0.00  \n",
       "233          0.0           0.00  \n",
       "234          NaN           0.00  \n",
       "\n",
       "[235 rows x 11 columns]"
      ]
     },
     "execution_count": 3,
     "metadata": {},
     "output_type": "execute_result"
    }
   ],
   "source": [
    "df1"
   ]
  },
  {
   "cell_type": "code",
   "execution_count": 4,
   "id": "0b09ccd0",
   "metadata": {},
   "outputs": [],
   "source": [
    "df1.rename(columns ={'Country (or dependency)':'country'},inplace = True)"
   ]
  },
  {
   "cell_type": "code",
   "execution_count": 5,
   "id": "7d483502",
   "metadata": {},
   "outputs": [],
   "source": [
    "(df1['World Share %']<2.00).sum()\n",
    "\n",
    "other_population = 45.74"
   ]
  },
  {
   "cell_type": "code",
   "execution_count": 6,
   "id": "57220b8d",
   "metadata": {},
   "outputs": [
    {
     "name": "stdout",
     "output_type": "stream",
     "text": [
      "0            China\n",
      "1            India\n",
      "2    United States\n",
      "3        Indonesia\n",
      "4         Pakistan\n",
      "5           Brazil\n",
      "6          Nigeria\n",
      "7       Bangladesh\n",
      "Name: country, dtype: object\n",
      "['China', 'India', 'United States', 'Indonesia', 'Pakistan', 'Brazil', 'Nigeria', 'Bangladesh', 'others']\n",
      "[18.47, 17.7, 4.25, 3.51, 2.83, 2.73, 2.64, 2.11, 45.76]\n"
     ]
    }
   ],
   "source": [
    "# series\n",
    "aa =df1['country'][:8]\n",
    "aa.add('others')\n",
    "print(aa)\n",
    "\n",
    "#list\n",
    "\n",
    "aa=[]\n",
    "for m in df1['country'][:8]:\n",
    "        aa.append(m)\n",
    "aa.append('others')\n",
    "print(aa)\n",
    "bb=[]\n",
    "for l in df1['World Share %']:\n",
    "    if l> 2:\n",
    "        bb.append(l)\n",
    "bb.append(45.76)\n",
    "print(bb)"
   ]
  },
  {
   "cell_type": "code",
   "execution_count": 7,
   "id": "bc6fa212",
   "metadata": {},
   "outputs": [
    {
     "name": "stdout",
     "output_type": "stream",
     "text": [
      "100.0\n"
     ]
    }
   ],
   "source": [
    "total = sum(bb)\n",
    "print(total)"
   ]
  },
  {
   "cell_type": "code",
   "execution_count": 8,
   "id": "f6a9c490",
   "metadata": {},
   "outputs": [
    {
     "data": {
      "text/html": [
       "<div>\n",
       "<style scoped>\n",
       "    .dataframe tbody tr th:only-of-type {\n",
       "        vertical-align: middle;\n",
       "    }\n",
       "\n",
       "    .dataframe tbody tr th {\n",
       "        vertical-align: top;\n",
       "    }\n",
       "\n",
       "    .dataframe thead th {\n",
       "        text-align: right;\n",
       "    }\n",
       "</style>\n",
       "<table border=\"1\" class=\"dataframe\">\n",
       "  <thead>\n",
       "    <tr style=\"text-align: right;\">\n",
       "      <th></th>\n",
       "      <th>country</th>\n",
       "      <th>Population (2020)</th>\n",
       "      <th>World Share %</th>\n",
       "    </tr>\n",
       "  </thead>\n",
       "  <tbody>\n",
       "    <tr>\n",
       "      <th>0</th>\n",
       "      <td>China</td>\n",
       "      <td>1439323776</td>\n",
       "      <td>18.47</td>\n",
       "    </tr>\n",
       "    <tr>\n",
       "      <th>1</th>\n",
       "      <td>India</td>\n",
       "      <td>1380004385</td>\n",
       "      <td>17.70</td>\n",
       "    </tr>\n",
       "    <tr>\n",
       "      <th>2</th>\n",
       "      <td>United States</td>\n",
       "      <td>331002651</td>\n",
       "      <td>4.25</td>\n",
       "    </tr>\n",
       "    <tr>\n",
       "      <th>3</th>\n",
       "      <td>Indonesia</td>\n",
       "      <td>273523615</td>\n",
       "      <td>3.51</td>\n",
       "    </tr>\n",
       "    <tr>\n",
       "      <th>4</th>\n",
       "      <td>Pakistan</td>\n",
       "      <td>220892340</td>\n",
       "      <td>2.83</td>\n",
       "    </tr>\n",
       "    <tr>\n",
       "      <th>5</th>\n",
       "      <td>Brazil</td>\n",
       "      <td>212559417</td>\n",
       "      <td>2.73</td>\n",
       "    </tr>\n",
       "    <tr>\n",
       "      <th>6</th>\n",
       "      <td>Nigeria</td>\n",
       "      <td>206139589</td>\n",
       "      <td>2.64</td>\n",
       "    </tr>\n",
       "    <tr>\n",
       "      <th>7</th>\n",
       "      <td>Bangladesh</td>\n",
       "      <td>164689383</td>\n",
       "      <td>2.11</td>\n",
       "    </tr>\n",
       "  </tbody>\n",
       "</table>\n",
       "</div>"
      ],
      "text/plain": [
       "         country  Population (2020)  World Share %\n",
       "0          China         1439323776          18.47\n",
       "1          India         1380004385          17.70\n",
       "2  United States          331002651           4.25\n",
       "3      Indonesia          273523615           3.51\n",
       "4       Pakistan          220892340           2.83\n",
       "5         Brazil          212559417           2.73\n",
       "6        Nigeria          206139589           2.64\n",
       "7     Bangladesh          164689383           2.11"
      ]
     },
     "execution_count": 8,
     "metadata": {},
     "output_type": "execute_result"
    }
   ],
   "source": [
    "df1.loc[(df1['World Share %']>2.00),['country','Population (2020)','World Share %']]"
   ]
  },
  {
   "cell_type": "code",
   "execution_count": 9,
   "id": "870474a0",
   "metadata": {},
   "outputs": [
    {
     "data": {
      "image/png": "[encoded data removed]",
      "text/plain": [
       "<Figure size 576x576 with 1 Axes>"
      ]
     },
     "metadata": {},
     "output_type": "display_data"
    }
   ],
   "source": [
    "explode =[0.02,0.02,0.02,0.02,0.02,0.02,0.02,0.02,0.09]\n",
    "plt.figure(figsize =(8,8))\n",
    "mycolors = [\"palevioletred\",\"crimson\",\"salmon\", \"bisque\", \"plum\", \"violet\",\"mediumpurple\",\"blueviolet\",\"lightseagreen\"]\n",
    "plt.pie(bb, labels = (aa),explode =explode,autopct=lambda p: '{:.2f}%'.format(p * total / 100),colors =mycolors)\n",
    "theme = plt.get_cmap('jet')\n",
    "plt.show()"
   ]
  },
  {
   "cell_type": "code",
   "execution_count": 10,
   "id": "6ea47c25",
   "metadata": {},
   "outputs": [
    {
     "data": {
      "text/plain": [
       "[Text(0.5, 0, ''), Text(0, 0.5, 'Density (P/Km²)')]"
      ]
     },
     "execution_count": 10,
     "metadata": {},
     "output_type": "execute_result"
    },
    {
     "data": {
      "image/png": "[encoded data removed]",
      "text/plain": [
       "<Figure size 432x288 with 1 Axes>"
      ]
     },
     "metadata": {
      "needs_background": "light"
     },
     "output_type": "display_data"
    }
   ],
   "source": [
    "ax = sns.barplot(x=df1['country'][:5], y =df1['Density (P/Km²)'][:5])\n",
    "ax.set(xlabel='', ylabel='Density (P/Km²)')\n",
    "\n",
    "#sns.lineplot(x=df1['country'][:5], y =df1['Density (P/Km²)'][:5],color ='black')"
   ]
  },
  {
   "cell_type": "code",
   "execution_count": 11,
   "id": "35ca8cfb",
   "metadata": {},
   "outputs": [
    {
     "data": {
      "text/plain": [
       "Text(0.5, 0, 'Population count')"
      ]
     },
     "execution_count": 11,
     "metadata": {},
     "output_type": "execute_result"
    },
    {
     "data": {
      "image/png": "[encoded data removed]",
      "text/plain": [
       "<Figure size 960x560 with 1 Axes>"
      ]
     },
     "metadata": {
      "needs_background": "light"
     },
     "output_type": "display_data"
    }
   ],
   "source": [
    "\n",
    "\n",
    "plt.figure(figsize=(12,7), dpi= 80)\n",
    "\n",
    "plt.annotate('Peak \\n1975', xy=(94.0, 21.0), xytext=(88.0, 28),\n",
    "             bbox=dict(boxstyle='square', fc='firebrick'),\n",
    "             arrowprops=dict(facecolor='steelblue', shrink=0.05), fontsize=15, color='white')\n",
    "\n",
    "plt.fill_between(df1['World Share %'][:200],df1['Migrants (net)'][:200], 0, where=df1['Migrants (net)'][:200] >= 0, facecolor='green', interpolate=True, alpha=0.7)\n",
    "plt.fill_between(df1['World Share %'][:200],df1['Migrants (net)'][:200], 0, where=df1['Migrants (net)'][:200] <= 0, facecolor='red', interpolate=True, alpha=0.7)\n",
    "plt.ylim(-1000000,1000000)\n",
    "\n",
    "ticks = ['300 million','600 million', '900 million', '1.2billion', '1.5billion']\n",
    "x = np.array([0.5, 5, 10, 15, 20])\n",
    "plt.xticks(x, ticks)\n",
    "\n",
    "plt.ylabel('Million migrants',size =14)\n",
    "plt.xlabel('Population count',size =14)"
   ]
  },
  {
   "cell_type": "code",
   "execution_count": null,
   "id": "2c0fbbf8",
   "metadata": {},
   "outputs": [],
   "source": []
  },
  {
   "cell_type": "code",
   "execution_count": 12,
   "id": "d1240f99",
   "metadata": {},
   "outputs": [
    {
     "data": {
      "image/png": "[encoded data removed]",
      "text/plain": [
       "<Figure size 1008x504 with 1 Axes>"
      ]
     },
     "metadata": {
      "needs_background": "light"
     },
     "output_type": "display_data"
    }
   ],
   "source": [
    "plt.figure(figsize =(14,7))\n",
    "x = plt.bar(df1['country'][:10],df1['Fert. Rate'][0:10], color ='mediumturquoise')\n",
    "plt.xlabel('country',size =15)\n",
    "plt.ylabel('fertility rate',size =15)\n",
    "x[1].set_color('red')"
   ]
  },
  {
   "cell_type": "code",
   "execution_count": 13,
   "id": "bb6149dc",
   "metadata": {},
   "outputs": [
    {
     "data": {
      "text/html": [
       "<div>\n",
       "<style scoped>\n",
       "    .dataframe tbody tr th:only-of-type {\n",
       "        vertical-align: middle;\n",
       "    }\n",
       "\n",
       "    .dataframe tbody tr th {\n",
       "        vertical-align: top;\n",
       "    }\n",
       "\n",
       "    .dataframe thead th {\n",
       "        text-align: right;\n",
       "    }\n",
       "</style>\n",
       "<table border=\"1\" class=\"dataframe\">\n",
       "  <thead>\n",
       "    <tr style=\"text-align: right;\">\n",
       "      <th></th>\n",
       "      <th>country</th>\n",
       "      <th>Fert. Rate</th>\n",
       "      <th>Density (P/Km²)</th>\n",
       "      <th>Population (2020)</th>\n",
       "      <th>World Share %</th>\n",
       "    </tr>\n",
       "  </thead>\n",
       "  <tbody>\n",
       "    <tr>\n",
       "      <th>55</th>\n",
       "      <td>Niger</td>\n",
       "      <td>7.0</td>\n",
       "      <td>19.0</td>\n",
       "      <td>24206644</td>\n",
       "      <td>0.31</td>\n",
       "    </tr>\n",
       "    <tr>\n",
       "      <th>72</th>\n",
       "      <td>Somalia</td>\n",
       "      <td>6.1</td>\n",
       "      <td>25.0</td>\n",
       "      <td>15893222</td>\n",
       "      <td>0.20</td>\n",
       "    </tr>\n",
       "    <tr>\n",
       "      <th>15</th>\n",
       "      <td>DR Congo</td>\n",
       "      <td>6.0</td>\n",
       "      <td>40.0</td>\n",
       "      <td>89561403</td>\n",
       "      <td>1.15</td>\n",
       "    </tr>\n",
       "    <tr>\n",
       "      <th>59</th>\n",
       "      <td>Mali</td>\n",
       "      <td>5.9</td>\n",
       "      <td>17.0</td>\n",
       "      <td>20250833</td>\n",
       "      <td>0.26</td>\n",
       "    </tr>\n",
       "    <tr>\n",
       "      <th>71</th>\n",
       "      <td>Chad</td>\n",
       "      <td>5.8</td>\n",
       "      <td>13.0</td>\n",
       "      <td>16425864</td>\n",
       "      <td>0.21</td>\n",
       "    </tr>\n",
       "    <tr>\n",
       "      <th>...</th>\n",
       "      <td>...</td>\n",
       "      <td>...</td>\n",
       "      <td>...</td>\n",
       "      <td>...</td>\n",
       "      <td>...</td>\n",
       "    </tr>\n",
       "    <tr>\n",
       "      <th>230</th>\n",
       "      <td>Montserrat</td>\n",
       "      <td>NaN</td>\n",
       "      <td>50.0</td>\n",
       "      <td>4992</td>\n",
       "      <td>0.00</td>\n",
       "    </tr>\n",
       "    <tr>\n",
       "      <th>231</th>\n",
       "      <td>Falkland Islands</td>\n",
       "      <td>NaN</td>\n",
       "      <td>0.0</td>\n",
       "      <td>3480</td>\n",
       "      <td>0.00</td>\n",
       "    </tr>\n",
       "    <tr>\n",
       "      <th>232</th>\n",
       "      <td>Niue</td>\n",
       "      <td>NaN</td>\n",
       "      <td>6.0</td>\n",
       "      <td>1626</td>\n",
       "      <td>0.00</td>\n",
       "    </tr>\n",
       "    <tr>\n",
       "      <th>233</th>\n",
       "      <td>Tokelau</td>\n",
       "      <td>NaN</td>\n",
       "      <td>136.0</td>\n",
       "      <td>1357</td>\n",
       "      <td>0.00</td>\n",
       "    </tr>\n",
       "    <tr>\n",
       "      <th>234</th>\n",
       "      <td>Holy See</td>\n",
       "      <td>NaN</td>\n",
       "      <td>2003.0</td>\n",
       "      <td>801</td>\n",
       "      <td>0.00</td>\n",
       "    </tr>\n",
       "  </tbody>\n",
       "</table>\n",
       "<p>235 rows × 5 columns</p>\n",
       "</div>"
      ],
      "text/plain": [
       "              country  Fert. Rate  Density (P/Km²)  Population (2020)  \\\n",
       "55              Niger         7.0             19.0           24206644   \n",
       "72            Somalia         6.1             25.0           15893222   \n",
       "15           DR Congo         6.0             40.0           89561403   \n",
       "59               Mali         5.9             17.0           20250833   \n",
       "71               Chad         5.8             13.0           16425864   \n",
       "..                ...         ...              ...                ...   \n",
       "230        Montserrat         NaN             50.0               4992   \n",
       "231  Falkland Islands         NaN              0.0               3480   \n",
       "232              Niue         NaN              6.0               1626   \n",
       "233           Tokelau         NaN            136.0               1357   \n",
       "234          Holy See         NaN           2003.0                801   \n",
       "\n",
       "     World Share %  \n",
       "55            0.31  \n",
       "72            0.20  \n",
       "15            1.15  \n",
       "59            0.26  \n",
       "71            0.21  \n",
       "..             ...  \n",
       "230           0.00  \n",
       "231           0.00  \n",
       "232           0.00  \n",
       "233           0.00  \n",
       "234           0.00  \n",
       "\n",
       "[235 rows x 5 columns]"
      ]
     },
     "execution_count": 13,
     "metadata": {},
     "output_type": "execute_result"
    }
   ],
   "source": [
    "df1.sort_values(by ='Fert. Rate',ascending = False).loc[:, ['country', 'Fert. Rate', 'Density (P/Km²)','Population (2020)','World Share %']] "
   ]
  },
  {
   "cell_type": "code",
   "execution_count": 14,
   "id": "2cdef02e",
   "metadata": {},
   "outputs": [
    {
     "data": {
      "text/html": [
       "<div>\n",
       "<style scoped>\n",
       "    .dataframe tbody tr th:only-of-type {\n",
       "        vertical-align: middle;\n",
       "    }\n",
       "\n",
       "    .dataframe tbody tr th {\n",
       "        vertical-align: top;\n",
       "    }\n",
       "\n",
       "    .dataframe thead th {\n",
       "        text-align: right;\n",
       "    }\n",
       "</style>\n",
       "<table border=\"1\" class=\"dataframe\">\n",
       "  <thead>\n",
       "    <tr style=\"text-align: right;\">\n",
       "      <th></th>\n",
       "      <th>Country Name</th>\n",
       "      <th>Year</th>\n",
       "      <th>Count</th>\n",
       "    </tr>\n",
       "  </thead>\n",
       "  <tbody>\n",
       "    <tr>\n",
       "      <th>0</th>\n",
       "      <td>Aruba</td>\n",
       "      <td>1960</td>\n",
       "      <td>54211</td>\n",
       "    </tr>\n",
       "    <tr>\n",
       "      <th>1</th>\n",
       "      <td>Afghanistan</td>\n",
       "      <td>1960</td>\n",
       "      <td>8996973</td>\n",
       "    </tr>\n",
       "    <tr>\n",
       "      <th>2</th>\n",
       "      <td>Angola</td>\n",
       "      <td>1960</td>\n",
       "      <td>5454933</td>\n",
       "    </tr>\n",
       "    <tr>\n",
       "      <th>3</th>\n",
       "      <td>Albania</td>\n",
       "      <td>1960</td>\n",
       "      <td>1608800</td>\n",
       "    </tr>\n",
       "    <tr>\n",
       "      <th>4</th>\n",
       "      <td>Andorra</td>\n",
       "      <td>1960</td>\n",
       "      <td>13411</td>\n",
       "    </tr>\n",
       "    <tr>\n",
       "      <th>...</th>\n",
       "      <td>...</td>\n",
       "      <td>...</td>\n",
       "      <td>...</td>\n",
       "    </tr>\n",
       "    <tr>\n",
       "      <th>12590</th>\n",
       "      <td>Kosovo</td>\n",
       "      <td>2017</td>\n",
       "      <td>1830700</td>\n",
       "    </tr>\n",
       "    <tr>\n",
       "      <th>12591</th>\n",
       "      <td>Yemen, Rep.</td>\n",
       "      <td>2017</td>\n",
       "      <td>27834821</td>\n",
       "    </tr>\n",
       "    <tr>\n",
       "      <th>12592</th>\n",
       "      <td>South Africa</td>\n",
       "      <td>2017</td>\n",
       "      <td>57000451</td>\n",
       "    </tr>\n",
       "    <tr>\n",
       "      <th>12593</th>\n",
       "      <td>Zambia</td>\n",
       "      <td>2017</td>\n",
       "      <td>16853688</td>\n",
       "    </tr>\n",
       "    <tr>\n",
       "      <th>12594</th>\n",
       "      <td>Zimbabwe</td>\n",
       "      <td>2017</td>\n",
       "      <td>14236745</td>\n",
       "    </tr>\n",
       "  </tbody>\n",
       "</table>\n",
       "<p>12595 rows × 3 columns</p>\n",
       "</div>"
      ],
      "text/plain": [
       "       Country Name  Year     Count\n",
       "0             Aruba  1960     54211\n",
       "1       Afghanistan  1960   8996973\n",
       "2            Angola  1960   5454933\n",
       "3           Albania  1960   1608800\n",
       "4           Andorra  1960     13411\n",
       "...             ...   ...       ...\n",
       "12590        Kosovo  2017   1830700\n",
       "12591   Yemen, Rep.  2017  27834821\n",
       "12592  South Africa  2017  57000451\n",
       "12593        Zambia  2017  16853688\n",
       "12594      Zimbabwe  2017  14236745\n",
       "\n",
       "[12595 rows x 3 columns]"
      ]
     },
     "execution_count": 14,
     "metadata": {},
     "output_type": "execute_result"
    }
   ],
   "source": [
    "df2 = pd.read_csv('population_total_long.csv')\n",
    "df2"
   ]
  },
  {
   "cell_type": "code",
   "execution_count": 16,
   "id": "a129d6ca",
   "metadata": {},
   "outputs": [],
   "source": [
    "per_year_population =[]\n",
    "years =[]\n",
    "for i in range(0,df2['Country Name'].count()):\n",
    "    if df2['Country Name'][i]== 'India':\n",
    "        years.append(df2['Year'][i])\n",
    "        per_year_population.append(df2['Count'][i])\n",
    "        \n",
    "#print(per_year_population)\n"
   ]
  },
  {
   "cell_type": "code",
   "execution_count": 17,
   "id": "3b4977d6",
   "metadata": {},
   "outputs": [
    {
     "name": "stdout",
     "output_type": "stream",
     "text": [
      "[1960, 1961, 1962, 1963, 1964, 1965, 1966, 1967, 1968, 1969, 1970, 1971, 1972, 1973, 1974, 1975, 1976, 1977, 1978, 1979, 1980, 1981, 1982, 1983, 1984, 1985, 1986, 1987, 1988, 1989, 1990, 1991, 1992, 1993, 1994, 1995, 1996, 1997, 1998, 1999, 2000, 2001, 2002, 2003, 2004, 2005, 2006, 2007, 2008, 2009, 2010, 2011, 2012, 2013, 2014, 2015, 2016, 2017, 2018, 2019, 2020, 2021, 2022]\n"
     ]
    }
   ],
   "source": [
    "ye =[2018,2019,2020,2021,2022]\n",
    "for i in ye :\n",
    "    years.append(i)\n",
    "print(years)"
   ]
  },
  {
   "cell_type": "code",
   "execution_count": 18,
   "id": "b3d48a40",
   "metadata": {},
   "outputs": [],
   "source": [
    "z = [1359003306,1383112050,1396387127,1407562842,1417173173]\n",
    "for i in z:\n",
    "    per_year_population.append(i)\n"
   ]
  },
  {
   "cell_type": "code",
   "execution_count": 19,
   "id": "7c032357",
   "metadata": {},
   "outputs": [
    {
     "name": "stdout",
     "output_type": "stream",
     "text": [
      "63\n",
      "63\n"
     ]
    }
   ],
   "source": [
    "print(len(per_year_population))\n",
    "print(len(years))"
   ]
  },
  {
   "cell_type": "code",
   "execution_count": 20,
   "id": "b93711d4",
   "metadata": {},
   "outputs": [
    {
     "data": {
      "text/html": [
       "<div>\n",
       "<style scoped>\n",
       "    .dataframe tbody tr th:only-of-type {\n",
       "        vertical-align: middle;\n",
       "    }\n",
       "\n",
       "    .dataframe tbody tr th {\n",
       "        vertical-align: top;\n",
       "    }\n",
       "\n",
       "    .dataframe thead th {\n",
       "        text-align: right;\n",
       "    }\n",
       "</style>\n",
       "<table border=\"1\" class=\"dataframe\">\n",
       "  <thead>\n",
       "    <tr style=\"text-align: right;\">\n",
       "      <th></th>\n",
       "      <th>year</th>\n",
       "      <th>population in billion</th>\n",
       "    </tr>\n",
       "  </thead>\n",
       "  <tbody>\n",
       "    <tr>\n",
       "      <th>0</th>\n",
       "      <td>1960</td>\n",
       "      <td>450547679</td>\n",
       "    </tr>\n",
       "    <tr>\n",
       "      <th>1</th>\n",
       "      <td>1961</td>\n",
       "      <td>459642165</td>\n",
       "    </tr>\n",
       "    <tr>\n",
       "      <th>2</th>\n",
       "      <td>1962</td>\n",
       "      <td>469077190</td>\n",
       "    </tr>\n",
       "    <tr>\n",
       "      <th>3</th>\n",
       "      <td>1963</td>\n",
       "      <td>478825608</td>\n",
       "    </tr>\n",
       "    <tr>\n",
       "      <th>4</th>\n",
       "      <td>1964</td>\n",
       "      <td>488848135</td>\n",
       "    </tr>\n",
       "    <tr>\n",
       "      <th>...</th>\n",
       "      <td>...</td>\n",
       "      <td>...</td>\n",
       "    </tr>\n",
       "    <tr>\n",
       "      <th>58</th>\n",
       "      <td>2018</td>\n",
       "      <td>1359003306</td>\n",
       "    </tr>\n",
       "    <tr>\n",
       "      <th>59</th>\n",
       "      <td>2019</td>\n",
       "      <td>1383112050</td>\n",
       "    </tr>\n",
       "    <tr>\n",
       "      <th>60</th>\n",
       "      <td>2020</td>\n",
       "      <td>1396387127</td>\n",
       "    </tr>\n",
       "    <tr>\n",
       "      <th>61</th>\n",
       "      <td>2021</td>\n",
       "      <td>1407562842</td>\n",
       "    </tr>\n",
       "    <tr>\n",
       "      <th>62</th>\n",
       "      <td>2022</td>\n",
       "      <td>1417173173</td>\n",
       "    </tr>\n",
       "  </tbody>\n",
       "</table>\n",
       "<p>63 rows × 2 columns</p>\n",
       "</div>"
      ],
      "text/plain": [
       "    year  population in billion\n",
       "0   1960              450547679\n",
       "1   1961              459642165\n",
       "2   1962              469077190\n",
       "3   1963              478825608\n",
       "4   1964              488848135\n",
       "..   ...                    ...\n",
       "58  2018             1359003306\n",
       "59  2019             1383112050\n",
       "60  2020             1396387127\n",
       "61  2021             1407562842\n",
       "62  2022             1417173173\n",
       "\n",
       "[63 rows x 2 columns]"
      ]
     },
     "execution_count": 20,
     "metadata": {},
     "output_type": "execute_result"
    }
   ],
   "source": [
    "pdata = pd.DataFrame({'year':years ,'population in billion':per_year_population})\n",
    "pdata"
   ]
  },
  {
   "cell_type": "code",
   "execution_count": 21,
   "id": "e36e43f7",
   "metadata": {},
   "outputs": [
    {
     "data": {
      "text/plain": [
       "<AxesSubplot:xlabel='year', ylabel='population in billion'>"
      ]
     },
     "execution_count": 21,
     "metadata": {},
     "output_type": "execute_result"
    },
    {
     "data": {
      "image/png": "[encoded data removed]",
      "text/plain": [
       "<Figure size 864x504 with 1 Axes>"
      ]
     },
     "metadata": {},
     "output_type": "display_data"
    }
   ],
   "source": [
    "sns.set_style(\"whitegrid\")\n",
    "plt.figure(figsize =(12,7))\n",
    "sns.regplot(x = 'year', y = 'population in billion', data =pdata, line_kws={'color' :'black'},scatter_kws={\"s\": 55, 'color' :'steelblue'},)"
   ]
  },
  {
   "cell_type": "code",
   "execution_count": 22,
   "id": "70a43d05",
   "metadata": {},
   "outputs": [
    {
     "name": "stdout",
     "output_type": "stream",
     "text": [
      "[1960, 1961, 1962, 1963, 1964, 1965, 1966, 1967, 1968, 1969, 1970, 1971, 1972, 1973, 1974, 1975, 1976, 1977, 1978, 1979, 1980, 1981, 1982, 1983, 1984, 1985, 1986, 1987, 1988, 1989, 1990, 1991, 1992, 1993, 1994, 1995, 1996, 1997, 1998, 1999, 2000, 2001, 2002, 2003, 2004, 2005, 2006, 2007, 2008, 2009, 2010, 2011, 2012, 2013, 2014, 2015, 2016, 2017, 2018, 2019, 2020, 2021, 2022, 2023, 2024, 2025, 2026, 2027, 2028, 2029, 2030, 2031, 2032, 2033, 2034, 2035, 2036, 2037, 2038, 2039, 2040, 2041, 2042, 2043, 2044, 2045, 2046, 2047, 2048, 2049, 2050, 2051, 2052, 2053, 2054, 2055, 2056, 2057, 2058, 2059, 2060, 2061, 2062, 2063, 2064, 2065, 2066, 2067, 2068, 2069, 2070, 2071, 2072, 2073, 2074, 2075, 2076, 2077, 2078, 2079, 2080, 2081, 2082, 2083, 2084, 2085, 2086, 2087, 2088, 2089, 2090, 2091, 2092, 2093, 2094, 2095, 2096, 2097, 2098, 2099, 2100]\n"
     ]
    }
   ],
   "source": [
    "for i in range(2023,2101):\n",
    "    years.append(i)\n",
    "print(years)"
   ]
  },
  {
   "cell_type": "code",
   "execution_count": 23,
   "id": "b62ab5f9",
   "metadata": {},
   "outputs": [
    {
     "name": "stdout",
     "output_type": "stream",
     "text": [
      "[1485903462, 1500075193, 1514246924, 1528418655, 1542590386, 1556762117, 1570933848, 1585105579, 1599277310, 1613449041, 1627620772, 1641792503, 1655964234, 1670135965, 1684307696, 1698479427, 1712651158, 1726822889, 1740994620, 1755166351, 1769338082, 1783509813, 1797681544, 1811853275, 1826025006, 1840196737, 1854368468, 1868540199, 1882711930, 1896883661, 1911055392, 1925227123, 1939398854, 1953570585, 1967742316, 1981914047, 1996085778, 2010257509, 2024429240, 2038600971, 2052772702, 2066944433, 2081116164, 2095287895, 2109459626, 2123631357, 2137803088, 2151974819, 2166146550, 2180318281, 2194490012, 2208661743, 2222833474, 2237005205, 2251176936, 2265348667, 2279520398, 2293692129, 2307863860, 2322035591, 2336207322, 2350379053, 2364550784, 2378722515, 2392894246, 2407065977, 2421237708, 2435409439, 2449581170, 2463752901, 2477924632, 2492096363, 2506268094, 2520439825, 2534611556, 2548783287, 2562955018, 2577126749]\n"
     ]
    }
   ],
   "source": [
    "a1 =[]\n",
    "for i in range(1,79):\n",
    "    o = 1471731731 +i*14171731\n",
    "    a1.append(o)\n",
    "print(a1)"
   ]
  },
  {
   "cell_type": "code",
   "execution_count": 24,
   "id": "05f8601e",
   "metadata": {},
   "outputs": [
    {
     "name": "stdout",
     "output_type": "stream",
     "text": [
      "[450547679, 459642165, 469077190, 478825608, 488848135, 499123324, 509631500, 520400576, 531513824, 543084336, 555189792, 567868018, 581087256, 594770134, 608802600, 623102897, 637630087, 652408776, 667499806, 682995354, 698952844, 715384993, 732239504, 749428958, 766833410, 784360008, 801975244, 819682102, 837468930, 855334678, 873277798, 891273209, 909307016, 927403860, 945601831, 963922588, 982365243, 1000900030, 1019483581, 1038058156, 1056575549, 1075000085, 1093317189, 1111523144, 1129623456, 1147609927, 1165486291, 1183209472, 1200669765, 1217726215, 1234281170, 1250288729, 1265782790, 1280846129, 1295604184, 1310152403, 1324509589, 1338658835, 1359003306, 1383112050, 1396387127, 1407562842, 1417173173, 1485903462, 1500075193, 1514246924, 1528418655, 1542590386, 1556762117, 1570933848, 1585105579, 1599277310, 1613449041, 1627620772, 1641792503, 1655964234, 1670135965, 1684307696, 1698479427, 1712651158, 1726822889, 1740994620, 1755166351, 1769338082, 1783509813, 1797681544, 1811853275, 1826025006, 1840196737, 1854368468, 1868540199, 1882711930, 1896883661, 1911055392, 1925227123, 1939398854, 1953570585, 1967742316, 1981914047, 1996085778, 2010257509, 2024429240, 2038600971, 2052772702, 2066944433, 2081116164, 2095287895, 2109459626, 2123631357, 2137803088, 2151974819, 2166146550, 2180318281, 2194490012, 2208661743, 2222833474, 2237005205, 2251176936, 2265348667, 2279520398, 2293692129, 2307863860, 2322035591, 2336207322, 2350379053, 2364550784, 2378722515, 2392894246, 2407065977, 2421237708, 2435409439, 2449581170, 2463752901, 2477924632, 2492096363, 2506268094, 2520439825, 2534611556, 2548783287, 2562955018, 2577126749]\n"
     ]
    }
   ],
   "source": [
    "for i in a1:\n",
    "    per_year_population.append(i)\n",
    "print(per_year_population)"
   ]
  },
  {
   "cell_type": "code",
   "execution_count": 25,
   "id": "4b4a798d",
   "metadata": {},
   "outputs": [
    {
     "name": "stdout",
     "output_type": "stream",
     "text": [
      "141\n",
      "141\n"
     ]
    }
   ],
   "source": [
    "print(len(per_year_population))\n",
    "print(len(years))"
   ]
  },
  {
   "cell_type": "code",
   "execution_count": 26,
   "id": "bb0c3377",
   "metadata": {},
   "outputs": [],
   "source": [
    "# 78 new 62 old\n",
    "\n",
    "from sklearn.linear_model import LinearRegression \n",
    "reg = LinearRegression()"
   ]
  },
  {
   "cell_type": "code",
   "execution_count": 27,
   "id": "7c805fb5",
   "metadata": {},
   "outputs": [
    {
     "name": "stdout",
     "output_type": "stream",
     "text": [
      "141 141\n"
     ]
    }
   ],
   "source": [
    "x= years\n",
    "y= per_year_population\n",
    "print(len(x),len(y))"
   ]
  },
  {
   "cell_type": "code",
   "execution_count": 28,
   "id": "1d609d6b",
   "metadata": {},
   "outputs": [],
   "source": [
    "from sklearn.model_selection import train_test_split\n",
    "\n",
    "x_train,x_test,y_train,y_test = train_test_split(x,y,test_size=0.55)"
   ]
  },
  {
   "cell_type": "code",
   "execution_count": 29,
   "id": "6086cfbc",
   "metadata": {},
   "outputs": [
    {
     "name": "stdout",
     "output_type": "stream",
     "text": [
      "63 63\n"
     ]
    }
   ],
   "source": [
    "print(len(x_train),len(y_train))"
   ]
  },
  {
   "cell_type": "code",
   "execution_count": 30,
   "id": "bd08ea60",
   "metadata": {},
   "outputs": [],
   "source": [
    "x_train = np.array(x_train).reshape(-1,1)\n",
    "x_test = np.array(x_test).reshape(-1,1)"
   ]
  },
  {
   "cell_type": "code",
   "execution_count": 31,
   "id": "a5a5b6ba",
   "metadata": {},
   "outputs": [],
   "source": [
    "model = reg.fit(x_train , y_train) "
   ]
  },
  {
   "cell_type": "code",
   "execution_count": 32,
   "id": "b8b90521",
   "metadata": {},
   "outputs": [
    {
     "name": "stdout",
     "output_type": "stream",
     "text": [
      "63 63\n"
     ]
    }
   ],
   "source": [
    "print(len(x_train),len(y_train))"
   ]
  },
  {
   "cell_type": "code",
   "execution_count": null,
   "id": "c02c20ce",
   "metadata": {},
   "outputs": [],
   "source": []
  },
  {
   "cell_type": "code",
   "execution_count": 33,
   "id": "2f005b1e",
   "metadata": {},
   "outputs": [
    {
     "name": "stdout",
     "output_type": "stream",
     "text": [
      "63\n",
      "63\n"
     ]
    }
   ],
   "source": [
    "print(len(y_train))\n",
    "print(len(x_train))"
   ]
  },
  {
   "cell_type": "code",
   "execution_count": null,
   "id": "e8254ed3",
   "metadata": {},
   "outputs": [],
   "source": [
    "\n",
    "\n"
   ]
  },
  {
   "cell_type": "code",
   "execution_count": 34,
   "id": "742755e0",
   "metadata": {},
   "outputs": [],
   "source": [
    "y_pred = model.predict(x_test)\n"
   ]
  },
  {
   "cell_type": "code",
   "execution_count": 35,
   "id": "3509e523",
   "metadata": {},
   "outputs": [
    {
     "name": "stdout",
     "output_type": "stream",
     "text": [
      "78 78\n"
     ]
    }
   ],
   "source": [
    "print(len(x_test),len(y_test))"
   ]
  },
  {
   "cell_type": "code",
   "execution_count": 36,
   "id": "263356ee",
   "metadata": {},
   "outputs": [
    {
     "data": {
      "text/plain": [
       "78"
      ]
     },
     "execution_count": 36,
     "metadata": {},
     "output_type": "execute_result"
    }
   ],
   "source": [
    "len(y_pred)"
   ]
  },
  {
   "cell_type": "code",
   "execution_count": null,
   "id": "748af37c",
   "metadata": {},
   "outputs": [],
   "source": []
  },
  {
   "cell_type": "code",
   "execution_count": 37,
   "id": "cb9671fb",
   "metadata": {},
   "outputs": [
    {
     "data": {
      "image/png": "[encoded data removed]",
      "text/plain": [
       "<Figure size 432x288 with 1 Axes>"
      ]
     },
     "metadata": {},
     "output_type": "display_data"
    },
    {
     "data": {
      "text/plain": [
       "<Figure size 1152x1152 with 0 Axes>"
      ]
     },
     "metadata": {},
     "output_type": "display_data"
    }
   ],
   "source": [
    "\n",
    "plt.scatter(x_test, y_test , c=\"b\",s =14)\n",
    "plt.scatter(x_test, y_pred , c=\"r\",marker =\"^\",s =14)\n",
    "\n",
    "plt.figure(figsize = (16,16))\n",
    "plt.show()"
   ]
  },
  {
   "cell_type": "code",
   "execution_count": 38,
   "id": "915d930a",
   "metadata": {},
   "outputs": [],
   "source": [
    "df3 = pd.read_csv('population_below_age_14_percentage_long.csv')"
   ]
  },
  {
   "cell_type": "code",
   "execution_count": 39,
   "id": "81dfca6a",
   "metadata": {},
   "outputs": [
    {
     "data": {
      "text/html": [
       "<div>\n",
       "<style scoped>\n",
       "    .dataframe tbody tr th:only-of-type {\n",
       "        vertical-align: middle;\n",
       "    }\n",
       "\n",
       "    .dataframe tbody tr th {\n",
       "        vertical-align: top;\n",
       "    }\n",
       "\n",
       "    .dataframe thead th {\n",
       "        text-align: right;\n",
       "    }\n",
       "</style>\n",
       "<table border=\"1\" class=\"dataframe\">\n",
       "  <thead>\n",
       "    <tr style=\"text-align: right;\">\n",
       "      <th></th>\n",
       "      <th>Country Name</th>\n",
       "      <th>Year</th>\n",
       "      <th>Count</th>\n",
       "    </tr>\n",
       "  </thead>\n",
       "  <tbody>\n",
       "    <tr>\n",
       "      <th>0</th>\n",
       "      <td>Aruba</td>\n",
       "      <td>1960</td>\n",
       "      <td>43</td>\n",
       "    </tr>\n",
       "    <tr>\n",
       "      <th>1</th>\n",
       "      <td>Afghanistan</td>\n",
       "      <td>1960</td>\n",
       "      <td>42</td>\n",
       "    </tr>\n",
       "    <tr>\n",
       "      <th>2</th>\n",
       "      <td>Angola</td>\n",
       "      <td>1960</td>\n",
       "      <td>42</td>\n",
       "    </tr>\n",
       "    <tr>\n",
       "      <th>3</th>\n",
       "      <td>Albania</td>\n",
       "      <td>1960</td>\n",
       "      <td>40</td>\n",
       "    </tr>\n",
       "    <tr>\n",
       "      <th>4</th>\n",
       "      <td>United Arab Emirates</td>\n",
       "      <td>1960</td>\n",
       "      <td>44</td>\n",
       "    </tr>\n",
       "    <tr>\n",
       "      <th>...</th>\n",
       "      <td>...</td>\n",
       "      <td>...</td>\n",
       "      <td>...</td>\n",
       "    </tr>\n",
       "    <tr>\n",
       "      <th>11297</th>\n",
       "      <td>Samoa</td>\n",
       "      <td>2017</td>\n",
       "      <td>38</td>\n",
       "    </tr>\n",
       "    <tr>\n",
       "      <th>11298</th>\n",
       "      <td>Yemen, Rep.</td>\n",
       "      <td>2017</td>\n",
       "      <td>40</td>\n",
       "    </tr>\n",
       "    <tr>\n",
       "      <th>11299</th>\n",
       "      <td>South Africa</td>\n",
       "      <td>2017</td>\n",
       "      <td>29</td>\n",
       "    </tr>\n",
       "    <tr>\n",
       "      <th>11300</th>\n",
       "      <td>Zambia</td>\n",
       "      <td>2017</td>\n",
       "      <td>45</td>\n",
       "    </tr>\n",
       "    <tr>\n",
       "      <th>11301</th>\n",
       "      <td>Zimbabwe</td>\n",
       "      <td>2017</td>\n",
       "      <td>42</td>\n",
       "    </tr>\n",
       "  </tbody>\n",
       "</table>\n",
       "<p>11302 rows × 3 columns</p>\n",
       "</div>"
      ],
      "text/plain": [
       "               Country Name  Year  Count\n",
       "0                     Aruba  1960     43\n",
       "1               Afghanistan  1960     42\n",
       "2                    Angola  1960     42\n",
       "3                   Albania  1960     40\n",
       "4      United Arab Emirates  1960     44\n",
       "...                     ...   ...    ...\n",
       "11297                 Samoa  2017     38\n",
       "11298           Yemen, Rep.  2017     40\n",
       "11299          South Africa  2017     29\n",
       "11300                Zambia  2017     45\n",
       "11301              Zimbabwe  2017     42\n",
       "\n",
       "[11302 rows x 3 columns]"
      ]
     },
     "execution_count": 39,
     "metadata": {},
     "output_type": "execute_result"
    }
   ],
   "source": [
    "df3"
   ]
  },
  {
   "cell_type": "code",
   "execution_count": 40,
   "id": "40c09dc5",
   "metadata": {},
   "outputs": [
    {
     "name": "stdout",
     "output_type": "stream",
     "text": [
      "[1960, 1961, 1962, 1963, 1964, 1965, 1966, 1967, 1968, 1969, 1970, 1971, 1972, 1973, 1974, 1975, 1976, 1977, 1978, 1979, 1980, 1981, 1982, 1983, 1984, 1985, 1986, 1987, 1988, 1989, 1990, 1991, 1992, 1993, 1994, 1995, 1996, 1997, 1998, 1999, 2000, 2001, 2002, 2003, 2004, 2005, 2006, 2007, 2008, 2009, 2010, 2011, 2012, 2013, 2014, 2015, 2016, 2017, 2018, 2019, 2020, 2021, 2022]\n"
     ]
    }
   ],
   "source": [
    "Year =[]\n",
    "\n",
    "for i in range(0,df3['Country Name'].count()):\n",
    "    if df3['Country Name'][i]== 'India':\n",
    "        Year.append(df3['Year'][i])\n",
    "        \n",
    "l11 =[2018,2019,2020,2021,2022]\n",
    "for i in l11 :\n",
    "    Year.append(i)\n",
    "\n",
    "print(Year)"
   ]
  },
  {
   "cell_type": "code",
   "execution_count": 41,
   "id": "69e58f95",
   "metadata": {},
   "outputs": [
    {
     "name": "stdout",
     "output_type": "stream",
     "text": [
      "[40, 40, 41, 41, 41, 41, 41, 41, 41, 41, 40, 40, 40, 40, 40, 40, 39, 39, 39, 39, 39, 39, 39, 39, 38, 38, 38, 38, 38, 38, 37, 37, 37, 37, 36, 36, 36, 35, 35, 35, 34, 34, 33, 33, 33, 32, 32, 32, 31, 31, 30, 30, 29, 29, 28, 28, 27, 27, 26, 26, 25, 25, 24]\n",
      "63\n"
     ]
    }
   ],
   "source": [
    "count14 =[]\n",
    "\n",
    "for i in range(0,df3['Country Name'].count()):\n",
    "    if df3['Country Name'][i]== 'India':\n",
    "        count14.append(df3['Count'][i])\n",
    "l22 = [26,26,25,25,24]\n",
    "        \n",
    "\n",
    "for i in l22 :\n",
    "    count14.append(i)\n",
    "\n",
    "print(count14)\n",
    "print(len(count14))"
   ]
  },
  {
   "cell_type": "code",
   "execution_count": 42,
   "id": "ddd0b357",
   "metadata": {},
   "outputs": [
    {
     "data": {
      "text/html": [
       "<div>\n",
       "<style scoped>\n",
       "    .dataframe tbody tr th:only-of-type {\n",
       "        vertical-align: middle;\n",
       "    }\n",
       "\n",
       "    .dataframe tbody tr th {\n",
       "        vertical-align: top;\n",
       "    }\n",
       "\n",
       "    .dataframe thead th {\n",
       "        text-align: right;\n",
       "    }\n",
       "</style>\n",
       "<table border=\"1\" class=\"dataframe\">\n",
       "  <thead>\n",
       "    <tr style=\"text-align: right;\">\n",
       "      <th></th>\n",
       "      <th>Country Name</th>\n",
       "      <th>Year</th>\n",
       "      <th>Count</th>\n",
       "    </tr>\n",
       "  </thead>\n",
       "  <tbody>\n",
       "    <tr>\n",
       "      <th>0</th>\n",
       "      <td>Aruba</td>\n",
       "      <td>1960</td>\n",
       "      <td>2</td>\n",
       "    </tr>\n",
       "    <tr>\n",
       "      <th>1</th>\n",
       "      <td>Afghanistan</td>\n",
       "      <td>1960</td>\n",
       "      <td>2</td>\n",
       "    </tr>\n",
       "    <tr>\n",
       "      <th>2</th>\n",
       "      <td>Angola</td>\n",
       "      <td>1960</td>\n",
       "      <td>3</td>\n",
       "    </tr>\n",
       "    <tr>\n",
       "      <th>3</th>\n",
       "      <td>Albania</td>\n",
       "      <td>1960</td>\n",
       "      <td>5</td>\n",
       "    </tr>\n",
       "    <tr>\n",
       "      <th>4</th>\n",
       "      <td>United Arab Emirates</td>\n",
       "      <td>1960</td>\n",
       "      <td>3</td>\n",
       "    </tr>\n",
       "    <tr>\n",
       "      <th>...</th>\n",
       "      <td>...</td>\n",
       "      <td>...</td>\n",
       "      <td>...</td>\n",
       "    </tr>\n",
       "    <tr>\n",
       "      <th>11297</th>\n",
       "      <td>Samoa</td>\n",
       "      <td>2017</td>\n",
       "      <td>4</td>\n",
       "    </tr>\n",
       "    <tr>\n",
       "      <th>11298</th>\n",
       "      <td>Yemen, Rep.</td>\n",
       "      <td>2017</td>\n",
       "      <td>2</td>\n",
       "    </tr>\n",
       "    <tr>\n",
       "      <th>11299</th>\n",
       "      <td>South Africa</td>\n",
       "      <td>2017</td>\n",
       "      <td>5</td>\n",
       "    </tr>\n",
       "    <tr>\n",
       "      <th>11300</th>\n",
       "      <td>Zambia</td>\n",
       "      <td>2017</td>\n",
       "      <td>2</td>\n",
       "    </tr>\n",
       "    <tr>\n",
       "      <th>11301</th>\n",
       "      <td>Zimbabwe</td>\n",
       "      <td>2017</td>\n",
       "      <td>2</td>\n",
       "    </tr>\n",
       "  </tbody>\n",
       "</table>\n",
       "<p>11302 rows × 3 columns</p>\n",
       "</div>"
      ],
      "text/plain": [
       "               Country Name  Year  Count\n",
       "0                     Aruba  1960      2\n",
       "1               Afghanistan  1960      2\n",
       "2                    Angola  1960      3\n",
       "3                   Albania  1960      5\n",
       "4      United Arab Emirates  1960      3\n",
       "...                     ...   ...    ...\n",
       "11297                 Samoa  2017      4\n",
       "11298           Yemen, Rep.  2017      2\n",
       "11299          South Africa  2017      5\n",
       "11300                Zambia  2017      2\n",
       "11301              Zimbabwe  2017      2\n",
       "\n",
       "[11302 rows x 3 columns]"
      ]
     },
     "execution_count": 42,
     "metadata": {},
     "output_type": "execute_result"
    }
   ],
   "source": [
    "df4 = pd.read_csv('population_above_age_65_percentage_long.csv')\n",
    "df4"
   ]
  },
  {
   "cell_type": "code",
   "execution_count": 43,
   "id": "520a6717",
   "metadata": {},
   "outputs": [
    {
     "name": "stdout",
     "output_type": "stream",
     "text": [
      "[3, 3, 3, 3, 3, 3, 3, 3, 3, 3, 3, 3, 3, 3, 3, 3, 3, 3, 3, 3, 3, 3, 3, 3, 3, 3, 3, 3, 3, 3, 3, 3, 3, 3, 3, 4, 4, 4, 4, 4, 4, 4, 4, 4, 4, 4, 4, 4, 4, 5, 5, 5, 5, 5, 5, 5, 5, 5, 5, 5, 5, 5, 5]\n",
      "63\n"
     ]
    }
   ],
   "source": [
    "count65 =[]\n",
    "\n",
    "for i in range(0,df4['Country Name'].count()):\n",
    "    if df4['Country Name'][i]== 'India':\n",
    "        count65.append(df4['Count'][i])\n",
    "l23 = [5,5,5,5,5]\n",
    "        \n",
    "\n",
    "for i in l23 :\n",
    "    count65.append(i)\n",
    "\n",
    "print(count65)\n",
    "print(len(count65))"
   ]
  },
  {
   "cell_type": "code",
   "execution_count": 44,
   "id": "be6e5cf2",
   "metadata": {},
   "outputs": [
    {
     "name": "stdout",
     "output_type": "stream",
     "text": [
      "[63, 63, 62, 62, 62, 62, 62, 62, 62, 62, 63, 63, 63, 63, 63, 63, 64, 64, 64, 64, 64, 64, 64, 64, 65, 65, 65, 65, 65, 65, 66, 66, 66, 66, 67, 68, 68, 69, 69, 69, 70, 70, 71, 71, 71, 72, 72, 72, 73, 74, 75, 75, 76, 76, 77, 77, 78, 78, 79, 79, 80, 80, 81]\n"
     ]
    }
   ],
   "source": [
    "countm = []\n",
    "d =0\n",
    "while d< len(count14):\n",
    "    countm.append(100-count14[d]+count65[d])\n",
    "    d = d+1\n",
    "print(countm)                                 \n"
   ]
  },
  {
   "cell_type": "code",
   "execution_count": 45,
   "id": "22656e0f",
   "metadata": {},
   "outputs": [],
   "source": [
    "my_data = pd.DataFrame({'year': Year,'population_above_65' : count65, 'population_below_14': count14,'population_between_14_and_65':countm})"
   ]
  },
  {
   "cell_type": "code",
   "execution_count": 46,
   "id": "4b97fe7e",
   "metadata": {},
   "outputs": [
    {
     "data": {
      "text/html": [
       "<div>\n",
       "<style scoped>\n",
       "    .dataframe tbody tr th:only-of-type {\n",
       "        vertical-align: middle;\n",
       "    }\n",
       "\n",
       "    .dataframe tbody tr th {\n",
       "        vertical-align: top;\n",
       "    }\n",
       "\n",
       "    .dataframe thead th {\n",
       "        text-align: right;\n",
       "    }\n",
       "</style>\n",
       "<table border=\"1\" class=\"dataframe\">\n",
       "  <thead>\n",
       "    <tr style=\"text-align: right;\">\n",
       "      <th></th>\n",
       "      <th>year</th>\n",
       "      <th>population_above_65</th>\n",
       "      <th>population_below_14</th>\n",
       "      <th>population_between_14_and_65</th>\n",
       "    </tr>\n",
       "  </thead>\n",
       "  <tbody>\n",
       "    <tr>\n",
       "      <th>0</th>\n",
       "      <td>1960</td>\n",
       "      <td>3</td>\n",
       "      <td>40</td>\n",
       "      <td>63</td>\n",
       "    </tr>\n",
       "    <tr>\n",
       "      <th>1</th>\n",
       "      <td>1961</td>\n",
       "      <td>3</td>\n",
       "      <td>40</td>\n",
       "      <td>63</td>\n",
       "    </tr>\n",
       "    <tr>\n",
       "      <th>2</th>\n",
       "      <td>1962</td>\n",
       "      <td>3</td>\n",
       "      <td>41</td>\n",
       "      <td>62</td>\n",
       "    </tr>\n",
       "    <tr>\n",
       "      <th>3</th>\n",
       "      <td>1963</td>\n",
       "      <td>3</td>\n",
       "      <td>41</td>\n",
       "      <td>62</td>\n",
       "    </tr>\n",
       "    <tr>\n",
       "      <th>4</th>\n",
       "      <td>1964</td>\n",
       "      <td>3</td>\n",
       "      <td>41</td>\n",
       "      <td>62</td>\n",
       "    </tr>\n",
       "    <tr>\n",
       "      <th>...</th>\n",
       "      <td>...</td>\n",
       "      <td>...</td>\n",
       "      <td>...</td>\n",
       "      <td>...</td>\n",
       "    </tr>\n",
       "    <tr>\n",
       "      <th>58</th>\n",
       "      <td>2018</td>\n",
       "      <td>5</td>\n",
       "      <td>26</td>\n",
       "      <td>79</td>\n",
       "    </tr>\n",
       "    <tr>\n",
       "      <th>59</th>\n",
       "      <td>2019</td>\n",
       "      <td>5</td>\n",
       "      <td>26</td>\n",
       "      <td>79</td>\n",
       "    </tr>\n",
       "    <tr>\n",
       "      <th>60</th>\n",
       "      <td>2020</td>\n",
       "      <td>5</td>\n",
       "      <td>25</td>\n",
       "      <td>80</td>\n",
       "    </tr>\n",
       "    <tr>\n",
       "      <th>61</th>\n",
       "      <td>2021</td>\n",
       "      <td>5</td>\n",
       "      <td>25</td>\n",
       "      <td>80</td>\n",
       "    </tr>\n",
       "    <tr>\n",
       "      <th>62</th>\n",
       "      <td>2022</td>\n",
       "      <td>5</td>\n",
       "      <td>24</td>\n",
       "      <td>81</td>\n",
       "    </tr>\n",
       "  </tbody>\n",
       "</table>\n",
       "<p>63 rows × 4 columns</p>\n",
       "</div>"
      ],
      "text/plain": [
       "    year  population_above_65  population_below_14  \\\n",
       "0   1960                    3                   40   \n",
       "1   1961                    3                   40   \n",
       "2   1962                    3                   41   \n",
       "3   1963                    3                   41   \n",
       "4   1964                    3                   41   \n",
       "..   ...                  ...                  ...   \n",
       "58  2018                    5                   26   \n",
       "59  2019                    5                   26   \n",
       "60  2020                    5                   25   \n",
       "61  2021                    5                   25   \n",
       "62  2022                    5                   24   \n",
       "\n",
       "    population_between_14_and_65  \n",
       "0                             63  \n",
       "1                             63  \n",
       "2                             62  \n",
       "3                             62  \n",
       "4                             62  \n",
       "..                           ...  \n",
       "58                            79  \n",
       "59                            79  \n",
       "60                            80  \n",
       "61                            80  \n",
       "62                            81  \n",
       "\n",
       "[63 rows x 4 columns]"
      ]
     },
     "execution_count": 46,
     "metadata": {},
     "output_type": "execute_result"
    }
   ],
   "source": [
    "my_data"
   ]
  },
  {
   "cell_type": "code",
   "execution_count": 47,
   "id": "a91c20f3",
   "metadata": {},
   "outputs": [
    {
     "data": {
      "text/html": [
       "<div>\n",
       "<style scoped>\n",
       "    .dataframe tbody tr th:only-of-type {\n",
       "        vertical-align: middle;\n",
       "    }\n",
       "\n",
       "    .dataframe tbody tr th {\n",
       "        vertical-align: top;\n",
       "    }\n",
       "\n",
       "    .dataframe thead th {\n",
       "        text-align: right;\n",
       "    }\n",
       "</style>\n",
       "<table border=\"1\" class=\"dataframe\">\n",
       "  <thead>\n",
       "    <tr style=\"text-align: right;\">\n",
       "      <th></th>\n",
       "      <th>year</th>\n",
       "      <th>population_above_65</th>\n",
       "      <th>population_below_14</th>\n",
       "      <th>population_between_14_and_65</th>\n",
       "    </tr>\n",
       "  </thead>\n",
       "  <tbody>\n",
       "    <tr>\n",
       "      <th>2</th>\n",
       "      <td>1962</td>\n",
       "      <td>3</td>\n",
       "      <td>41</td>\n",
       "      <td>62</td>\n",
       "    </tr>\n",
       "    <tr>\n",
       "      <th>12</th>\n",
       "      <td>1972</td>\n",
       "      <td>3</td>\n",
       "      <td>40</td>\n",
       "      <td>63</td>\n",
       "    </tr>\n",
       "    <tr>\n",
       "      <th>22</th>\n",
       "      <td>1982</td>\n",
       "      <td>3</td>\n",
       "      <td>39</td>\n",
       "      <td>64</td>\n",
       "    </tr>\n",
       "    <tr>\n",
       "      <th>32</th>\n",
       "      <td>1992</td>\n",
       "      <td>3</td>\n",
       "      <td>37</td>\n",
       "      <td>66</td>\n",
       "    </tr>\n",
       "    <tr>\n",
       "      <th>42</th>\n",
       "      <td>2002</td>\n",
       "      <td>4</td>\n",
       "      <td>33</td>\n",
       "      <td>71</td>\n",
       "    </tr>\n",
       "    <tr>\n",
       "      <th>52</th>\n",
       "      <td>2012</td>\n",
       "      <td>5</td>\n",
       "      <td>29</td>\n",
       "      <td>76</td>\n",
       "    </tr>\n",
       "    <tr>\n",
       "      <th>62</th>\n",
       "      <td>2022</td>\n",
       "      <td>5</td>\n",
       "      <td>24</td>\n",
       "      <td>81</td>\n",
       "    </tr>\n",
       "  </tbody>\n",
       "</table>\n",
       "</div>"
      ],
      "text/plain": [
       "    year  population_above_65  population_below_14  \\\n",
       "2   1962                    3                   41   \n",
       "12  1972                    3                   40   \n",
       "22  1982                    3                   39   \n",
       "32  1992                    3                   37   \n",
       "42  2002                    4                   33   \n",
       "52  2012                    5                   29   \n",
       "62  2022                    5                   24   \n",
       "\n",
       "    population_between_14_and_65  \n",
       "2                             62  \n",
       "12                            63  \n",
       "22                            64  \n",
       "32                            66  \n",
       "42                            71  \n",
       "52                            76  \n",
       "62                            81  "
      ]
     },
     "execution_count": 47,
     "metadata": {},
     "output_type": "execute_result"
    }
   ],
   "source": [
    "my_data.iloc[2::10]"
   ]
  },
  {
   "cell_type": "code",
   "execution_count": 48,
   "id": "c78f7eea",
   "metadata": {},
   "outputs": [
    {
     "data": {
      "text/plain": [
       "0     43\n",
       "1     43\n",
       "2     44\n",
       "3     44\n",
       "4     44\n",
       "      ..\n",
       "58    31\n",
       "59    31\n",
       "60    30\n",
       "61    30\n",
       "62    29\n",
       "Length: 63, dtype: int64"
      ]
     },
     "execution_count": 48,
     "metadata": {},
     "output_type": "execute_result"
    }
   ],
   "source": [
    "my_data.population_above_65 + my_data.population_below_14"
   ]
  },
  {
   "cell_type": "code",
   "execution_count": 49,
   "id": "26852cc1",
   "metadata": {},
   "outputs": [
    {
     "name": "stdout",
     "output_type": "stream",
     "text": [
      "[41, 40, 39, 37, 33, 29, 24]\n"
     ]
    }
   ],
   "source": [
    "c1 = count14[2::10]\n",
    "print(c1)"
   ]
  },
  {
   "cell_type": "code",
   "execution_count": 50,
   "id": "c7e3b062",
   "metadata": {},
   "outputs": [
    {
     "data": {
      "image/png": "[encoded data removed]",
      "text/plain": [
       "<Figure size 1152x576 with 1 Axes>"
      ]
     },
     "metadata": {},
     "output_type": "display_data"
    }
   ],
   "source": [
    "N = 7\n",
    "ind = np.arange(N) \n",
    "width = 0.25\n",
    "plt.figure(figsize=(16,8))\n",
    "xvals = count14[2::10]\n",
    "bar1 =plt.bar(ind, xvals, width, color = 'lightgreen')\n",
    "  \n",
    "yvals = countm[2::10]\n",
    "bar2 =plt.bar(ind+width, yvals, width, color='darkturquoise')\n",
    "  \n",
    "zvals = count65[2::10]\n",
    "bar3 =plt.bar(ind+width*2, zvals, width, color = 'darkcyan')\n",
    "  \n",
    "plt.xlabel(\"years\",size = 15)\n",
    "plt.ylabel('Population in %', size =15)\n",
    "plt.title(\"Population Distribution Age Wise\", size= 18)\n",
    "plt.yticks(range(0,101,10))\n",
    "plt.xticks(ind+width,['1962', '1972', '1982', '1992','2002','2012', '2022'])\n",
    "plt.legend( (bar1, bar2, bar3), ('Below 14', '14 to 65', 'Above 65') )\n",
    "plt.show()"
   ]
  },
  {
   "cell_type": "code",
   "execution_count": 51,
   "id": "f3060fde",
   "metadata": {},
   "outputs": [],
   "source": [
    "df5 = pd.read_csv('population_female_percentage_long.csv')"
   ]
  },
  {
   "cell_type": "code",
   "execution_count": 52,
   "id": "14301a9b",
   "metadata": {},
   "outputs": [
    {
     "data": {
      "text/html": [
       "<div>\n",
       "<style scoped>\n",
       "    .dataframe tbody tr th:only-of-type {\n",
       "        vertical-align: middle;\n",
       "    }\n",
       "\n",
       "    .dataframe tbody tr th {\n",
       "        vertical-align: top;\n",
       "    }\n",
       "\n",
       "    .dataframe thead th {\n",
       "        text-align: right;\n",
       "    }\n",
       "</style>\n",
       "<table border=\"1\" class=\"dataframe\">\n",
       "  <thead>\n",
       "    <tr style=\"text-align: right;\">\n",
       "      <th></th>\n",
       "      <th>Country Name</th>\n",
       "      <th>Year</th>\n",
       "      <th>Count</th>\n",
       "    </tr>\n",
       "  </thead>\n",
       "  <tbody>\n",
       "    <tr>\n",
       "      <th>0</th>\n",
       "      <td>Aruba</td>\n",
       "      <td>1960</td>\n",
       "      <td>50</td>\n",
       "    </tr>\n",
       "    <tr>\n",
       "      <th>1</th>\n",
       "      <td>Afghanistan</td>\n",
       "      <td>1960</td>\n",
       "      <td>48</td>\n",
       "    </tr>\n",
       "    <tr>\n",
       "      <th>2</th>\n",
       "      <td>Angola</td>\n",
       "      <td>1960</td>\n",
       "      <td>49</td>\n",
       "    </tr>\n",
       "    <tr>\n",
       "      <th>3</th>\n",
       "      <td>Albania</td>\n",
       "      <td>1960</td>\n",
       "      <td>48</td>\n",
       "    </tr>\n",
       "    <tr>\n",
       "      <th>4</th>\n",
       "      <td>United Arab Emirates</td>\n",
       "      <td>1960</td>\n",
       "      <td>49</td>\n",
       "    </tr>\n",
       "    <tr>\n",
       "      <th>...</th>\n",
       "      <td>...</td>\n",
       "      <td>...</td>\n",
       "      <td>...</td>\n",
       "    </tr>\n",
       "    <tr>\n",
       "      <th>11297</th>\n",
       "      <td>Samoa</td>\n",
       "      <td>2017</td>\n",
       "      <td>48</td>\n",
       "    </tr>\n",
       "    <tr>\n",
       "      <th>11298</th>\n",
       "      <td>Yemen, Rep.</td>\n",
       "      <td>2017</td>\n",
       "      <td>49</td>\n",
       "    </tr>\n",
       "    <tr>\n",
       "      <th>11299</th>\n",
       "      <td>South Africa</td>\n",
       "      <td>2017</td>\n",
       "      <td>50</td>\n",
       "    </tr>\n",
       "    <tr>\n",
       "      <th>11300</th>\n",
       "      <td>Zambia</td>\n",
       "      <td>2017</td>\n",
       "      <td>50</td>\n",
       "    </tr>\n",
       "    <tr>\n",
       "      <th>11301</th>\n",
       "      <td>Zimbabwe</td>\n",
       "      <td>2017</td>\n",
       "      <td>52</td>\n",
       "    </tr>\n",
       "  </tbody>\n",
       "</table>\n",
       "<p>11302 rows × 3 columns</p>\n",
       "</div>"
      ],
      "text/plain": [
       "               Country Name  Year  Count\n",
       "0                     Aruba  1960     50\n",
       "1               Afghanistan  1960     48\n",
       "2                    Angola  1960     49\n",
       "3                   Albania  1960     48\n",
       "4      United Arab Emirates  1960     49\n",
       "...                     ...   ...    ...\n",
       "11297                 Samoa  2017     48\n",
       "11298           Yemen, Rep.  2017     49\n",
       "11299          South Africa  2017     50\n",
       "11300                Zambia  2017     50\n",
       "11301              Zimbabwe  2017     52\n",
       "\n",
       "[11302 rows x 3 columns]"
      ]
     },
     "execution_count": 52,
     "metadata": {},
     "output_type": "execute_result"
    }
   ],
   "source": [
    "df5"
   ]
  },
  {
   "cell_type": "code",
   "execution_count": 53,
   "id": "0f5a8f82",
   "metadata": {},
   "outputs": [
    {
     "name": "stdout",
     "output_type": "stream",
     "text": [
      "[48, 48, 48, 48, 48, 48, 48, 48, 48, 48, 48, 48, 48, 48, 48, 48, 48, 48, 48, 48, 48, 48, 48, 48, 48, 48, 48, 48, 48, 48, 48, 48, 48, 48, 48, 48, 48, 48, 48, 48, 48, 47, 47, 47, 47, 47, 47, 47, 47, 47, 47, 47, 47, 47, 47, 48, 48, 48, 49, 49.5, 50, 50.5, 50.8]\n"
     ]
    }
   ],
   "source": [
    "countf =[]\n",
    "\n",
    "for i in range(0,df5['Country Name'].count()):\n",
    "    if df5['Country Name'][i]== 'India':\n",
    "        countf.append(df5['Count'][i])\n",
    "mm =[49,49.5,50,50.5,50.8]\n",
    "for i in mm:\n",
    "    countf.append(i)\n",
    "print(countf)"
   ]
  },
  {
   "cell_type": "code",
   "execution_count": 54,
   "id": "815ae1bc",
   "metadata": {},
   "outputs": [
    {
     "name": "stdout",
     "output_type": "stream",
     "text": [
      "[52, 52, 52, 52, 52, 52, 52, 52, 52, 52, 52, 52, 52, 52, 52, 52, 52, 52, 52, 52, 52, 52, 52, 52, 52, 52, 52, 52, 52, 52, 52, 52, 52, 52, 52, 52, 52, 52, 52, 52, 52, 53, 53, 53, 53, 53, 53, 53, 53, 53, 53, 53, 53, 53, 53, 52, 52, 52, 51, 50.5, 50, 49.5, 49.2]\n"
     ]
    }
   ],
   "source": [
    "countmale = []\n",
    "d =0\n",
    "while d< len(countf):\n",
    "    countmale.append(100-countf[d])\n",
    "    d = d+1\n",
    "print(countmale) "
   ]
  },
  {
   "cell_type": "code",
   "execution_count": 55,
   "id": "d2bc80fd",
   "metadata": {},
   "outputs": [
    {
     "data": {
      "image/png": "[encoded data removed]",
      "text/plain": [
       "<Figure size 1152x576 with 1 Axes>"
      ]
     },
     "metadata": {},
     "output_type": "display_data"
    }
   ],
   "source": [
    "N = 10\n",
    "ind = np.arange(N) \n",
    "width = 0.25\n",
    "plt.figure(figsize=(16,8))\n",
    "xvals = countmale[-10:]\n",
    "bar1 =plt.bar(ind, xvals, width, color = 'skyblue')\n",
    "  \n",
    "yvals = countf[-10:]\n",
    "bar2 =plt.bar(ind+width, yvals, width, color='lightpink')\n",
    "  \n",
    "\n",
    "  \n",
    "plt.xlabel(\"years\",size = 15)\n",
    "plt.ylabel('Population in %', size =15)\n",
    "plt.title(\"Population Distribution Gender Wise\", size= 18)\n",
    "  \n",
    "plt.xticks(ind+width,[ '2013', '2014', '2015','2016','2017', '2018','2019','2020','2021','2022'])\n",
    "plt.legend( (bar1, bar2), ('Male', 'Female') )\n",
    "plt.show()"
   ]
  },
  {
   "cell_type": "code",
   "execution_count": 56,
   "id": "5d8756b7",
   "metadata": {},
   "outputs": [],
   "source": [
    "df11 = pd.read_csv('pop_worldometer_data.csv').copy()\n",
    "df11.rename(columns = {'Country (or dependency)':'country'},inplace = True)\n",
    "#df1.rename(columns ={'Country (or dependency)':'country'},inplace = True)"
   ]
  },
  {
   "cell_type": "code",
   "execution_count": 57,
   "id": "2c72dfa4",
   "metadata": {},
   "outputs": [
    {
     "data": {
      "text/html": [
       "<div>\n",
       "<style scoped>\n",
       "    .dataframe tbody tr th:only-of-type {\n",
       "        vertical-align: middle;\n",
       "    }\n",
       "\n",
       "    .dataframe tbody tr th {\n",
       "        vertical-align: top;\n",
       "    }\n",
       "\n",
       "    .dataframe thead th {\n",
       "        text-align: right;\n",
       "    }\n",
       "</style>\n",
       "<table border=\"1\" class=\"dataframe\">\n",
       "  <thead>\n",
       "    <tr style=\"text-align: right;\">\n",
       "      <th></th>\n",
       "      <th>country</th>\n",
       "      <th>Population (2020)</th>\n",
       "      <th>Yearly Change %</th>\n",
       "      <th>Net Change</th>\n",
       "      <th>Density (P/Km²)</th>\n",
       "      <th>Land Area (Km²)</th>\n",
       "      <th>Migrants (net)</th>\n",
       "      <th>Fert. Rate</th>\n",
       "      <th>Med. Age</th>\n",
       "      <th>Urban Pop %</th>\n",
       "      <th>World Share %</th>\n",
       "    </tr>\n",
       "  </thead>\n",
       "  <tbody>\n",
       "    <tr>\n",
       "      <th>0</th>\n",
       "      <td>China</td>\n",
       "      <td>1439323776</td>\n",
       "      <td>0.39</td>\n",
       "      <td>5540090</td>\n",
       "      <td>153.0</td>\n",
       "      <td>9388211.0</td>\n",
       "      <td>-348399.0</td>\n",
       "      <td>1.7</td>\n",
       "      <td>38.0</td>\n",
       "      <td>61.0</td>\n",
       "      <td>18.47</td>\n",
       "    </tr>\n",
       "    <tr>\n",
       "      <th>1</th>\n",
       "      <td>India</td>\n",
       "      <td>1380004385</td>\n",
       "      <td>0.99</td>\n",
       "      <td>13586631</td>\n",
       "      <td>464.0</td>\n",
       "      <td>2973190.0</td>\n",
       "      <td>-532687.0</td>\n",
       "      <td>2.2</td>\n",
       "      <td>28.0</td>\n",
       "      <td>35.0</td>\n",
       "      <td>17.70</td>\n",
       "    </tr>\n",
       "    <tr>\n",
       "      <th>2</th>\n",
       "      <td>United States</td>\n",
       "      <td>331002651</td>\n",
       "      <td>0.59</td>\n",
       "      <td>1937734</td>\n",
       "      <td>36.0</td>\n",
       "      <td>9147420.0</td>\n",
       "      <td>954806.0</td>\n",
       "      <td>1.8</td>\n",
       "      <td>38.0</td>\n",
       "      <td>83.0</td>\n",
       "      <td>4.25</td>\n",
       "    </tr>\n",
       "    <tr>\n",
       "      <th>3</th>\n",
       "      <td>Indonesia</td>\n",
       "      <td>273523615</td>\n",
       "      <td>1.07</td>\n",
       "      <td>2898047</td>\n",
       "      <td>151.0</td>\n",
       "      <td>1811570.0</td>\n",
       "      <td>-98955.0</td>\n",
       "      <td>2.3</td>\n",
       "      <td>30.0</td>\n",
       "      <td>56.0</td>\n",
       "      <td>3.51</td>\n",
       "    </tr>\n",
       "    <tr>\n",
       "      <th>4</th>\n",
       "      <td>Pakistan</td>\n",
       "      <td>220892340</td>\n",
       "      <td>2.00</td>\n",
       "      <td>4327022</td>\n",
       "      <td>287.0</td>\n",
       "      <td>770880.0</td>\n",
       "      <td>-233379.0</td>\n",
       "      <td>3.6</td>\n",
       "      <td>23.0</td>\n",
       "      <td>35.0</td>\n",
       "      <td>2.83</td>\n",
       "    </tr>\n",
       "    <tr>\n",
       "      <th>...</th>\n",
       "      <td>...</td>\n",
       "      <td>...</td>\n",
       "      <td>...</td>\n",
       "      <td>...</td>\n",
       "      <td>...</td>\n",
       "      <td>...</td>\n",
       "      <td>...</td>\n",
       "      <td>...</td>\n",
       "      <td>...</td>\n",
       "      <td>...</td>\n",
       "      <td>...</td>\n",
       "    </tr>\n",
       "    <tr>\n",
       "      <th>230</th>\n",
       "      <td>Montserrat</td>\n",
       "      <td>4992</td>\n",
       "      <td>0.06</td>\n",
       "      <td>3</td>\n",
       "      <td>50.0</td>\n",
       "      <td>100.0</td>\n",
       "      <td>NaN</td>\n",
       "      <td>NaN</td>\n",
       "      <td>NaN</td>\n",
       "      <td>10.0</td>\n",
       "      <td>0.00</td>\n",
       "    </tr>\n",
       "    <tr>\n",
       "      <th>231</th>\n",
       "      <td>Falkland Islands</td>\n",
       "      <td>3480</td>\n",
       "      <td>3.05</td>\n",
       "      <td>103</td>\n",
       "      <td>0.0</td>\n",
       "      <td>12170.0</td>\n",
       "      <td>NaN</td>\n",
       "      <td>NaN</td>\n",
       "      <td>NaN</td>\n",
       "      <td>66.0</td>\n",
       "      <td>0.00</td>\n",
       "    </tr>\n",
       "    <tr>\n",
       "      <th>232</th>\n",
       "      <td>Niue</td>\n",
       "      <td>1626</td>\n",
       "      <td>0.68</td>\n",
       "      <td>11</td>\n",
       "      <td>6.0</td>\n",
       "      <td>260.0</td>\n",
       "      <td>NaN</td>\n",
       "      <td>NaN</td>\n",
       "      <td>NaN</td>\n",
       "      <td>46.0</td>\n",
       "      <td>0.00</td>\n",
       "    </tr>\n",
       "    <tr>\n",
       "      <th>233</th>\n",
       "      <td>Tokelau</td>\n",
       "      <td>1357</td>\n",
       "      <td>1.27</td>\n",
       "      <td>17</td>\n",
       "      <td>136.0</td>\n",
       "      <td>10.0</td>\n",
       "      <td>NaN</td>\n",
       "      <td>NaN</td>\n",
       "      <td>NaN</td>\n",
       "      <td>0.0</td>\n",
       "      <td>0.00</td>\n",
       "    </tr>\n",
       "    <tr>\n",
       "      <th>234</th>\n",
       "      <td>Holy See</td>\n",
       "      <td>801</td>\n",
       "      <td>0.25</td>\n",
       "      <td>2</td>\n",
       "      <td>2003.0</td>\n",
       "      <td>0.0</td>\n",
       "      <td>NaN</td>\n",
       "      <td>NaN</td>\n",
       "      <td>NaN</td>\n",
       "      <td>NaN</td>\n",
       "      <td>0.00</td>\n",
       "    </tr>\n",
       "  </tbody>\n",
       "</table>\n",
       "<p>235 rows × 11 columns</p>\n",
       "</div>"
      ],
      "text/plain": [
       "              country  Population (2020)  Yearly Change %  Net Change  \\\n",
       "0               China         1439323776             0.39     5540090   \n",
       "1               India         1380004385             0.99    13586631   \n",
       "2       United States          331002651             0.59     1937734   \n",
       "3           Indonesia          273523615             1.07     2898047   \n",
       "4            Pakistan          220892340             2.00     4327022   \n",
       "..                ...                ...              ...         ...   \n",
       "230        Montserrat               4992             0.06           3   \n",
       "231  Falkland Islands               3480             3.05         103   \n",
       "232              Niue               1626             0.68          11   \n",
       "233           Tokelau               1357             1.27          17   \n",
       "234          Holy See                801             0.25           2   \n",
       "\n",
       "     Density (P/Km²)  Land Area (Km²)  Migrants (net)  Fert. Rate  Med. Age  \\\n",
       "0              153.0        9388211.0       -348399.0         1.7      38.0   \n",
       "1              464.0        2973190.0       -532687.0         2.2      28.0   \n",
       "2               36.0        9147420.0        954806.0         1.8      38.0   \n",
       "3              151.0        1811570.0        -98955.0         2.3      30.0   \n",
       "4              287.0         770880.0       -233379.0         3.6      23.0   \n",
       "..               ...              ...             ...         ...       ...   \n",
       "230             50.0            100.0             NaN         NaN       NaN   \n",
       "231              0.0          12170.0             NaN         NaN       NaN   \n",
       "232              6.0            260.0             NaN         NaN       NaN   \n",
       "233            136.0             10.0             NaN         NaN       NaN   \n",
       "234           2003.0              0.0             NaN         NaN       NaN   \n",
       "\n",
       "     Urban Pop %  World Share %  \n",
       "0           61.0          18.47  \n",
       "1           35.0          17.70  \n",
       "2           83.0           4.25  \n",
       "3           56.0           3.51  \n",
       "4           35.0           2.83  \n",
       "..           ...            ...  \n",
       "230         10.0           0.00  \n",
       "231         66.0           0.00  \n",
       "232         46.0           0.00  \n",
       "233          0.0           0.00  \n",
       "234          NaN           0.00  \n",
       "\n",
       "[235 rows x 11 columns]"
      ]
     },
     "execution_count": 57,
     "metadata": {},
     "output_type": "execute_result"
    }
   ],
   "source": [
    "df11"
   ]
  },
  {
   "cell_type": "code",
   "execution_count": 58,
   "id": "16d87241",
   "metadata": {},
   "outputs": [
    {
     "data": {
      "text/html": [
       "<div>\n",
       "<style scoped>\n",
       "    .dataframe tbody tr th:only-of-type {\n",
       "        vertical-align: middle;\n",
       "    }\n",
       "\n",
       "    .dataframe tbody tr th {\n",
       "        vertical-align: top;\n",
       "    }\n",
       "\n",
       "    .dataframe thead th {\n",
       "        text-align: right;\n",
       "    }\n",
       "</style>\n",
       "<table border=\"1\" class=\"dataframe\">\n",
       "  <thead>\n",
       "    <tr style=\"text-align: right;\">\n",
       "      <th></th>\n",
       "      <th>Urban Pop %</th>\n",
       "      <th>World Share %</th>\n",
       "    </tr>\n",
       "  </thead>\n",
       "  <tbody>\n",
       "    <tr>\n",
       "      <th>0</th>\n",
       "      <td>61.0</td>\n",
       "      <td>18.47</td>\n",
       "    </tr>\n",
       "    <tr>\n",
       "      <th>1</th>\n",
       "      <td>35.0</td>\n",
       "      <td>17.70</td>\n",
       "    </tr>\n",
       "    <tr>\n",
       "      <th>2</th>\n",
       "      <td>83.0</td>\n",
       "      <td>4.25</td>\n",
       "    </tr>\n",
       "    <tr>\n",
       "      <th>3</th>\n",
       "      <td>56.0</td>\n",
       "      <td>3.51</td>\n",
       "    </tr>\n",
       "    <tr>\n",
       "      <th>4</th>\n",
       "      <td>35.0</td>\n",
       "      <td>2.83</td>\n",
       "    </tr>\n",
       "    <tr>\n",
       "      <th>5</th>\n",
       "      <td>88.0</td>\n",
       "      <td>2.73</td>\n",
       "    </tr>\n",
       "    <tr>\n",
       "      <th>6</th>\n",
       "      <td>52.0</td>\n",
       "      <td>2.64</td>\n",
       "    </tr>\n",
       "    <tr>\n",
       "      <th>7</th>\n",
       "      <td>39.0</td>\n",
       "      <td>2.11</td>\n",
       "    </tr>\n",
       "    <tr>\n",
       "      <th>8</th>\n",
       "      <td>74.0</td>\n",
       "      <td>1.87</td>\n",
       "    </tr>\n",
       "    <tr>\n",
       "      <th>9</th>\n",
       "      <td>84.0</td>\n",
       "      <td>1.65</td>\n",
       "    </tr>\n",
       "  </tbody>\n",
       "</table>\n",
       "</div>"
      ],
      "text/plain": [
       "   Urban Pop %  World Share %\n",
       "0         61.0          18.47\n",
       "1         35.0          17.70\n",
       "2         83.0           4.25\n",
       "3         56.0           3.51\n",
       "4         35.0           2.83\n",
       "5         88.0           2.73\n",
       "6         52.0           2.64\n",
       "7         39.0           2.11\n",
       "8         74.0           1.87\n",
       "9         84.0           1.65"
      ]
     },
     "execution_count": 58,
     "metadata": {},
     "output_type": "execute_result"
    }
   ],
   "source": [
    "\n",
    "data1 = df11.loc[(df11['World Share %']>1.00),['Urban Pop %','World Share %']].head(10)\n",
    "data1"
   ]
  },
  {
   "cell_type": "code",
   "execution_count": 59,
   "id": "5b66f7be",
   "metadata": {},
   "outputs": [
    {
     "data": {
      "text/plain": [
       "0            China\n",
       "1            India\n",
       "2    United States\n",
       "3        Indonesia\n",
       "4         Pakistan\n",
       "5           Brazil\n",
       "6          Nigeria\n",
       "7       Bangladesh\n",
       "8           Russia\n",
       "9           Mexico\n",
       "Name: country, dtype: object"
      ]
     },
     "execution_count": 59,
     "metadata": {},
     "output_type": "execute_result"
    }
   ],
   "source": [
    "df11['country'].head(10)"
   ]
  },
  {
   "cell_type": "code",
   "execution_count": 60,
   "id": "ecebb7f5",
   "metadata": {},
   "outputs": [
    {
     "data": {
      "text/plain": [
       "Text(0.5, 0, 'Country')"
      ]
     },
     "execution_count": 60,
     "metadata": {},
     "output_type": "execute_result"
    },
    {
     "data": {
      "image/png": "[encoded data removed]",
      "text/plain": [
       "<Figure size 720x360 with 1 Axes>"
      ]
     },
     "metadata": {},
     "output_type": "display_data"
    }
   ],
   "source": [
    "# v =['China','India','USA','Indonesia','Pakistan','Brazil','Nigeria','Bangladesh','Russia','Mexico']\n",
    "# plt.xticks(v)\n",
    "sns.set_style(\"darkgrid\")\n",
    "plt.figure(figsize = (10,5))\n",
    "sns.lineplot(data = data1)\n",
    "plt.ylabel('Percentage',size = 15)\n",
    "plt.xlabel('Country',size = 15)"
   ]
  },
  {
   "cell_type": "code",
   "execution_count": 61,
   "id": "aaddefb1",
   "metadata": {},
   "outputs": [
    {
     "data": {
      "text/html": [
       "<div>\n",
       "<style scoped>\n",
       "    .dataframe tbody tr th:only-of-type {\n",
       "        vertical-align: middle;\n",
       "    }\n",
       "\n",
       "    .dataframe tbody tr th {\n",
       "        vertical-align: top;\n",
       "    }\n",
       "\n",
       "    .dataframe thead th {\n",
       "        text-align: right;\n",
       "    }\n",
       "</style>\n",
       "<table border=\"1\" class=\"dataframe\">\n",
       "  <thead>\n",
       "    <tr style=\"text-align: right;\">\n",
       "      <th></th>\n",
       "      <th>country</th>\n",
       "      <th>Population (2020)</th>\n",
       "      <th>Yearly Change %</th>\n",
       "      <th>Net Change</th>\n",
       "      <th>Density (P/Km²)</th>\n",
       "      <th>Land Area (Km²)</th>\n",
       "      <th>Migrants (net)</th>\n",
       "      <th>Fert. Rate</th>\n",
       "      <th>Med. Age</th>\n",
       "      <th>Urban Pop %</th>\n",
       "      <th>World Share %</th>\n",
       "    </tr>\n",
       "  </thead>\n",
       "  <tbody>\n",
       "    <tr>\n",
       "      <th>0</th>\n",
       "      <td>China</td>\n",
       "      <td>1439323776</td>\n",
       "      <td>0.39</td>\n",
       "      <td>5540090</td>\n",
       "      <td>153.0</td>\n",
       "      <td>9388211.0</td>\n",
       "      <td>-348399.0</td>\n",
       "      <td>1.7</td>\n",
       "      <td>38.0</td>\n",
       "      <td>61.0</td>\n",
       "      <td>18.47</td>\n",
       "    </tr>\n",
       "    <tr>\n",
       "      <th>1</th>\n",
       "      <td>India</td>\n",
       "      <td>1380004385</td>\n",
       "      <td>0.99</td>\n",
       "      <td>13586631</td>\n",
       "      <td>464.0</td>\n",
       "      <td>2973190.0</td>\n",
       "      <td>-532687.0</td>\n",
       "      <td>2.2</td>\n",
       "      <td>28.0</td>\n",
       "      <td>35.0</td>\n",
       "      <td>17.70</td>\n",
       "    </tr>\n",
       "    <tr>\n",
       "      <th>2</th>\n",
       "      <td>United States</td>\n",
       "      <td>331002651</td>\n",
       "      <td>0.59</td>\n",
       "      <td>1937734</td>\n",
       "      <td>36.0</td>\n",
       "      <td>9147420.0</td>\n",
       "      <td>954806.0</td>\n",
       "      <td>1.8</td>\n",
       "      <td>38.0</td>\n",
       "      <td>83.0</td>\n",
       "      <td>4.25</td>\n",
       "    </tr>\n",
       "    <tr>\n",
       "      <th>3</th>\n",
       "      <td>Indonesia</td>\n",
       "      <td>273523615</td>\n",
       "      <td>1.07</td>\n",
       "      <td>2898047</td>\n",
       "      <td>151.0</td>\n",
       "      <td>1811570.0</td>\n",
       "      <td>-98955.0</td>\n",
       "      <td>2.3</td>\n",
       "      <td>30.0</td>\n",
       "      <td>56.0</td>\n",
       "      <td>3.51</td>\n",
       "    </tr>\n",
       "    <tr>\n",
       "      <th>4</th>\n",
       "      <td>Pakistan</td>\n",
       "      <td>220892340</td>\n",
       "      <td>2.00</td>\n",
       "      <td>4327022</td>\n",
       "      <td>287.0</td>\n",
       "      <td>770880.0</td>\n",
       "      <td>-233379.0</td>\n",
       "      <td>3.6</td>\n",
       "      <td>23.0</td>\n",
       "      <td>35.0</td>\n",
       "      <td>2.83</td>\n",
       "    </tr>\n",
       "    <tr>\n",
       "      <th>...</th>\n",
       "      <td>...</td>\n",
       "      <td>...</td>\n",
       "      <td>...</td>\n",
       "      <td>...</td>\n",
       "      <td>...</td>\n",
       "      <td>...</td>\n",
       "      <td>...</td>\n",
       "      <td>...</td>\n",
       "      <td>...</td>\n",
       "      <td>...</td>\n",
       "      <td>...</td>\n",
       "    </tr>\n",
       "    <tr>\n",
       "      <th>230</th>\n",
       "      <td>Montserrat</td>\n",
       "      <td>4992</td>\n",
       "      <td>0.06</td>\n",
       "      <td>3</td>\n",
       "      <td>50.0</td>\n",
       "      <td>100.0</td>\n",
       "      <td>NaN</td>\n",
       "      <td>NaN</td>\n",
       "      <td>NaN</td>\n",
       "      <td>10.0</td>\n",
       "      <td>0.00</td>\n",
       "    </tr>\n",
       "    <tr>\n",
       "      <th>231</th>\n",
       "      <td>Falkland Islands</td>\n",
       "      <td>3480</td>\n",
       "      <td>3.05</td>\n",
       "      <td>103</td>\n",
       "      <td>0.0</td>\n",
       "      <td>12170.0</td>\n",
       "      <td>NaN</td>\n",
       "      <td>NaN</td>\n",
       "      <td>NaN</td>\n",
       "      <td>66.0</td>\n",
       "      <td>0.00</td>\n",
       "    </tr>\n",
       "    <tr>\n",
       "      <th>232</th>\n",
       "      <td>Niue</td>\n",
       "      <td>1626</td>\n",
       "      <td>0.68</td>\n",
       "      <td>11</td>\n",
       "      <td>6.0</td>\n",
       "      <td>260.0</td>\n",
       "      <td>NaN</td>\n",
       "      <td>NaN</td>\n",
       "      <td>NaN</td>\n",
       "      <td>46.0</td>\n",
       "      <td>0.00</td>\n",
       "    </tr>\n",
       "    <tr>\n",
       "      <th>233</th>\n",
       "      <td>Tokelau</td>\n",
       "      <td>1357</td>\n",
       "      <td>1.27</td>\n",
       "      <td>17</td>\n",
       "      <td>136.0</td>\n",
       "      <td>10.0</td>\n",
       "      <td>NaN</td>\n",
       "      <td>NaN</td>\n",
       "      <td>NaN</td>\n",
       "      <td>0.0</td>\n",
       "      <td>0.00</td>\n",
       "    </tr>\n",
       "    <tr>\n",
       "      <th>234</th>\n",
       "      <td>Holy See</td>\n",
       "      <td>801</td>\n",
       "      <td>0.25</td>\n",
       "      <td>2</td>\n",
       "      <td>2003.0</td>\n",
       "      <td>0.0</td>\n",
       "      <td>NaN</td>\n",
       "      <td>NaN</td>\n",
       "      <td>NaN</td>\n",
       "      <td>NaN</td>\n",
       "      <td>0.00</td>\n",
       "    </tr>\n",
       "  </tbody>\n",
       "</table>\n",
       "<p>235 rows × 11 columns</p>\n",
       "</div>"
      ],
      "text/plain": [
       "              country  Population (2020)  Yearly Change %  Net Change  \\\n",
       "0               China         1439323776             0.39     5540090   \n",
       "1               India         1380004385             0.99    13586631   \n",
       "2       United States          331002651             0.59     1937734   \n",
       "3           Indonesia          273523615             1.07     2898047   \n",
       "4            Pakistan          220892340             2.00     4327022   \n",
       "..                ...                ...              ...         ...   \n",
       "230        Montserrat               4992             0.06           3   \n",
       "231  Falkland Islands               3480             3.05         103   \n",
       "232              Niue               1626             0.68          11   \n",
       "233           Tokelau               1357             1.27          17   \n",
       "234          Holy See                801             0.25           2   \n",
       "\n",
       "     Density (P/Km²)  Land Area (Km²)  Migrants (net)  Fert. Rate  Med. Age  \\\n",
       "0              153.0        9388211.0       -348399.0         1.7      38.0   \n",
       "1              464.0        2973190.0       -532687.0         2.2      28.0   \n",
       "2               36.0        9147420.0        954806.0         1.8      38.0   \n",
       "3              151.0        1811570.0        -98955.0         2.3      30.0   \n",
       "4              287.0         770880.0       -233379.0         3.6      23.0   \n",
       "..               ...              ...             ...         ...       ...   \n",
       "230             50.0            100.0             NaN         NaN       NaN   \n",
       "231              0.0          12170.0             NaN         NaN       NaN   \n",
       "232              6.0            260.0             NaN         NaN       NaN   \n",
       "233            136.0             10.0             NaN         NaN       NaN   \n",
       "234           2003.0              0.0             NaN         NaN       NaN   \n",
       "\n",
       "     Urban Pop %  World Share %  \n",
       "0           61.0          18.47  \n",
       "1           35.0          17.70  \n",
       "2           83.0           4.25  \n",
       "3           56.0           3.51  \n",
       "4           35.0           2.83  \n",
       "..           ...            ...  \n",
       "230         10.0           0.00  \n",
       "231         66.0           0.00  \n",
       "232         46.0           0.00  \n",
       "233          0.0           0.00  \n",
       "234          NaN           0.00  \n",
       "\n",
       "[235 rows x 11 columns]"
      ]
     },
     "execution_count": 61,
     "metadata": {},
     "output_type": "execute_result"
    }
   ],
   "source": [
    "df1"
   ]
  },
  {
   "cell_type": "code",
   "execution_count": 62,
   "id": "d2299748",
   "metadata": {},
   "outputs": [
    {
     "data": {
      "text/plain": [
       "<seaborn.axisgrid.JointGrid at 0x202cb27e340>"
      ]
     },
     "execution_count": 62,
     "metadata": {},
     "output_type": "execute_result"
    },
    {
     "data": {
      "image/png": "[encoded data removed]",
      "text/plain": [
       "<Figure size 432x432 with 3 Axes>"
      ]
     },
     "metadata": {},
     "output_type": "display_data"
    }
   ],
   "source": [
    "sns.set_style('whitegrid')\n",
    "sns.jointplot(x=df1['Yearly Change %'][:50], y=df1['World Share %'][:50], kind=\"kde\",color = 'slategrey')"
   ]
  },
  {
   "cell_type": "code",
   "execution_count": 63,
   "id": "90d36cd4",
   "metadata": {},
   "outputs": [
    {
     "data": {
      "text/plain": [
       "0    38.0\n",
       "1    28.0\n",
       "2    38.0\n",
       "3    30.0\n",
       "4    23.0\n",
       "5    33.0\n",
       "6    18.0\n",
       "7    28.0\n",
       "8    40.0\n",
       "9    29.0\n",
       "Name: Med. Age, dtype: float64"
      ]
     },
     "execution_count": 63,
     "metadata": {},
     "output_type": "execute_result"
    }
   ],
   "source": [
    "cc = df1.country[:10]\n",
    "cc\n",
    "yy = df1['Med. Age'][:10]\n",
    "yy\n",
    "#df1.loc[(df1['World Share %']>2.00),['country','Population (2020)','World Share %']]"
   ]
  },
  {
   "cell_type": "code",
   "execution_count": 64,
   "id": "d8caffe2",
   "metadata": {},
   "outputs": [
    {
     "data": {
      "text/plain": [
       "15.0"
      ]
     },
     "execution_count": 64,
     "metadata": {},
     "output_type": "execute_result"
    }
   ],
   "source": [
    "df1['Med. Age'].min()"
   ]
  },
  {
   "cell_type": "code",
   "execution_count": 65,
   "id": "69bf5e08",
   "metadata": {},
   "outputs": [
    {
     "data": {
      "text/plain": [
       "(10.0, 50.0)"
      ]
     },
     "execution_count": 65,
     "metadata": {},
     "output_type": "execute_result"
    },
    {
     "data": {
      "image/png": "[encoded data removed]",
      "text/plain": [
       "<Figure size 864x432 with 1 Axes>"
      ]
     },
     "metadata": {},
     "output_type": "display_data"
    }
   ],
   "source": [
    "plt.figure(figsize=(12,6))\n",
    "plt.scatter(cc,yy,color = 'b',s =50)\n",
    "plt.yticks(range(10,51,5))\n",
    "plt.title('Median age of population',fontsize = 20)\n",
    "plt.xlabel('countries',fontsize = 15)\n",
    "plt.ylabel('Age',fontsize = 15)\n",
    "plt.stem(yy)\n",
    "plt.ylim(10,50)\n",
    "#plt.plot(cc,yy)"
   ]
  },
  {
   "cell_type": "code",
   "execution_count": null,
   "id": "8aa928b3",
   "metadata": {},
   "outputs": [],
   "source": []
  },
  {
   "cell_type": "code",
   "execution_count": null,
   "id": "90f3d558",
   "metadata": {},
   "outputs": [],
   "source": []
  },
  {
   "cell_type": "code",
   "execution_count": null,
   "id": "4a5020b8",
   "metadata": {},
   "outputs": [],
   "source": []
  }
 ],
 "metadata": {
  "kernelspec": {
   "display_name": "Python 3 (ipykernel)",
   "language": "python",
   "name": "python3"
  },
  "language_info": {
   "codemirror_mode": {
    "name": "ipython",
    "version": 3
   },
   "file_extension": ".py",
   "mimetype": "text/x-python",
   "name": "python",
   "nbconvert_exporter": "python",
   "pygments_lexer": "ipython3",
   "version": "3.9.7"
  }
 },
 "nbformat": 4,
 "nbformat_minor": 5
}
