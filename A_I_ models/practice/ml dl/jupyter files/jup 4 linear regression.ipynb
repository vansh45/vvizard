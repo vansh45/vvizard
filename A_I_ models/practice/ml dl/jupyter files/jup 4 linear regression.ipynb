{
 "cells": [
  {
   "cell_type": "code",
   "execution_count": null,
   "id": "c723e90b",
   "metadata": {},
   "outputs": [],
   "source": [
    "#Linear regressions some part in plane copy\n"
   ]
  },
  {
   "cell_type": "code",
   "execution_count": 1,
   "id": "90e3629c",
   "metadata": {},
   "outputs": [],
   "source": [
    "import matplotlib.pyplot as plt\n",
    "import seaborn as sns\n",
    "import numpy as np\n",
    "import pandas as pd"
   ]
  },
  {
   "cell_type": "code",
   "execution_count": 2,
   "id": "42d5977f",
   "metadata": {},
   "outputs": [],
   "source": [
    "x = np.array([1,2,3,4,5,6])\n",
    "y = np.array([1.5,4.5,5.8,9.1,11,11.5])"
   ]
  },
  {
   "cell_type": "code",
   "execution_count": 4,
   "id": "31603796",
   "metadata": {},
   "outputs": [
    {
     "data": {
      "image/png": "[encoded data removed]",
      "text/plain": [
       "<Figure size 432x288 with 1 Axes>"
      ]
     },
     "metadata": {
      "needs_background": "light"
     },
     "output_type": "display_data"
    }
   ],
   "source": [
    "plt.scatter(x,y)\n",
    "plt.show()"
   ]
  },
  {
   "cell_type": "code",
   "execution_count": 12,
   "id": "0ae2b8d8",
   "metadata": {},
   "outputs": [
    {
     "name": "stdout",
     "output_type": "stream",
     "text": [
      "0.8005370771703719 0.17048939026567678\n"
     ]
    }
   ],
   "source": [
    "w0,w1 = np.random.rand(2)\n",
    "print(w0,w1)"
   ]
  },
  {
   "cell_type": "code",
   "execution_count": 17,
   "id": "be9cead7",
   "metadata": {},
   "outputs": [],
   "source": [
    "lr =0.001 #(learning rate)\n",
    "epochs =100  #(no. of times the program will run)\n",
    "error = []"
   ]
  },
  {
   "cell_type": "code",
   "execution_count": 18,
   "id": "73bdc018",
   "metadata": {},
   "outputs": [],
   "source": [
    "y_pred =[]\n",
    "for xi in x:\n",
    "    y_pred.append(w1*xi+w0)"
   ]
  },
  {
   "cell_type": "code",
   "execution_count": 19,
   "id": "663b4df6",
   "metadata": {},
   "outputs": [
    {
     "data": {
      "image/png": "[encoded data removed]",
      "text/plain": [
       "<Figure size 432x288 with 1 Axes>"
      ]
     },
     "metadata": {
      "needs_background": "light"
     },
     "output_type": "display_data"
    }
   ],
   "source": [
    "plt.scatter(x,y,label =\"actual\")\n",
    "plt.plot(x, y_pred, c=\"r\", label =\"predicted\")\n",
    "plt.legend()\n",
    "plt.show()"
   ]
  },
  {
   "cell_type": "code",
   "execution_count": 1,
   "id": "8e76a463",
   "metadata": {},
   "outputs": [
    {
     "ename": "NameError",
     "evalue": "name 'epochs' is not defined",
     "output_type": "error",
     "traceback": [
      "\u001b[1;31m---------------------------------------------------------------------------\u001b[0m",
      "\u001b[1;31mNameError\u001b[0m                                 Traceback (most recent call last)",
      "\u001b[1;32m~\\AppData\\Local\\Temp/ipykernel_8816/1171370037.py\u001b[0m in \u001b[0;36m<module>\u001b[1;34m\u001b[0m\n\u001b[1;32m----> 1\u001b[1;33m \u001b[1;32mfor\u001b[0m \u001b[0mepoch\u001b[0m \u001b[1;32min\u001b[0m \u001b[0mrange\u001b[0m\u001b[1;33m(\u001b[0m\u001b[0mepochs\u001b[0m\u001b[1;33m)\u001b[0m\u001b[1;33m:\u001b[0m\u001b[1;33m\u001b[0m\u001b[1;33m\u001b[0m\u001b[0m\n\u001b[0m\u001b[0;32m      2\u001b[0m     \u001b[0mepoch_cost\u001b[0m\u001b[1;33m,\u001b[0m \u001b[0mcost_w0\u001b[0m\u001b[1;33m,\u001b[0m \u001b[0mcost_w1\u001b[0m \u001b[1;33m=\u001b[0m \u001b[1;36m0\u001b[0m\u001b[1;33m,\u001b[0m\u001b[1;36m0\u001b[0m\u001b[1;33m,\u001b[0m\u001b[1;36m0\u001b[0m\u001b[1;33m\u001b[0m\u001b[1;33m\u001b[0m\u001b[0m\n\u001b[0;32m      3\u001b[0m     \u001b[1;32mfor\u001b[0m \u001b[0mi\u001b[0m \u001b[1;32min\u001b[0m \u001b[0mrange\u001b[0m\u001b[1;33m(\u001b[0m\u001b[0mlen\u001b[0m\u001b[1;33m(\u001b[0m\u001b[0mx\u001b[0m\u001b[1;33m)\u001b[0m\u001b[1;33m)\u001b[0m\u001b[1;33m:\u001b[0m\u001b[1;33m\u001b[0m\u001b[1;33m\u001b[0m\u001b[0m\n\u001b[0;32m      4\u001b[0m         \u001b[0my_pred\u001b[0m \u001b[1;33m=\u001b[0m \u001b[0mw1\u001b[0m\u001b[1;33m*\u001b[0m\u001b[0mx\u001b[0m\u001b[1;33m[\u001b[0m\u001b[0mi\u001b[0m\u001b[1;33m]\u001b[0m \u001b[1;33m+\u001b[0m\u001b[0mw0\u001b[0m\u001b[1;33m\u001b[0m\u001b[1;33m\u001b[0m\u001b[0m\n\u001b[0;32m      5\u001b[0m         \u001b[0mepoch_cost\u001b[0m \u001b[1;33m+=\u001b[0m\u001b[1;33m(\u001b[0m\u001b[0my\u001b[0m\u001b[1;33m[\u001b[0m\u001b[0mi\u001b[0m\u001b[1;33m]\u001b[0m\u001b[1;33m-\u001b[0m\u001b[0my_pred\u001b[0m\u001b[1;33m)\u001b[0m\u001b[1;33m**\u001b[0m\u001b[1;36m2\u001b[0m\u001b[1;33m\u001b[0m\u001b[1;33m\u001b[0m\u001b[0m\n",
      "\u001b[1;31mNameError\u001b[0m: name 'epochs' is not defined"
     ]
    }
   ],
   "source": [
    "for epoch in range(epochs):\n",
    "    epoch_cost, cost_w0, cost_w1 = 0,0,0\n",
    "    for i in range(len(x)):\n",
    "        y_pred = w1*x[i] +w0\n",
    "        epoch_cost +=(y[i]-y_pred)**2  #loss  \n",
    "        \n",
    "    for j in range(len(x)):\n",
    "        partial_derivative_wrt_w0 = -2*(y[j]-(w1*x[j]+w0))\n",
    "        #-2(y-ycap) = -2(y-w1*x+w0)\n",
    "        partial_derivative_wrt_w1 = -2*(x[j])*(y[j]-(w1*x[j]+w0))\n",
    "        # -2*x*(y-ycap)\n",
    "        \n",
    "        cost_w0 += partial_derivative_wrt_w0\n",
    "        cost_w1 += partial_derivative_wrt_w1\n",
    "        \n",
    "    w0 = w0-lr*cost_w0     # is in for loop so it keeps decreasing the error and increasing closeness to curve\n",
    "    w1 = w1-lr*cost_w1\n",
    "    \n",
    "    #print(\"w1 = \",w1)\n",
    "    #print(\"w0 = \",w0) \n",
    "    \n",
    "    error.append(epoch_cost)\n",
    "    "
   ]
  },
  {
   "cell_type": "code",
   "execution_count": 22,
   "id": "6ca9a59a",
   "metadata": {},
   "outputs": [],
   "source": [
    "y_pred =[]\n",
    "for xi in x:\n",
    "    y_pred.append(w1*xi+w0)"
   ]
  },
  {
   "cell_type": "code",
   "execution_count": 23,
   "id": "0c60cf04",
   "metadata": {},
   "outputs": [
    {
     "data": {
      "image/png": "[encoded data removed]",
      "text/plain": [
       "<Figure size 432x288 with 1 Axes>"
      ]
     },
     "metadata": {
      "needs_background": "light"
     },
     "output_type": "display_data"
    }
   ],
   "source": [
    "plt.scatter(x,y,label =\"actual\")\n",
    "plt.plot(x, y_pred, c=\"r\", label =\"predicted\")\n",
    "plt.legend()\n",
    "plt.show()"
   ]
  },
  {
   "cell_type": "code",
   "execution_count": 24,
   "id": "1417a4df",
   "metadata": {},
   "outputs": [
    {
     "data": {
      "text/plain": [
       "3.164935428652898"
      ]
     },
     "execution_count": 24,
     "metadata": {},
     "output_type": "execute_result"
    }
   ],
   "source": [
    "error[-1]"
   ]
  },
  {
   "cell_type": "code",
   "execution_count": 25,
   "id": "5312196e",
   "metadata": {},
   "outputs": [
    {
     "data": {
      "text/plain": [
       "[2.5901206789519016,\n",
       " 4.505601286103139,\n",
       " 6.421081893254376,\n",
       " 8.336562500405613,\n",
       " 10.252043107556851,\n",
       " 12.16752371470809]"
      ]
     },
     "execution_count": 25,
     "metadata": {},
     "output_type": "execute_result"
    }
   ],
   "source": [
    "y_pred"
   ]
  },
  {
   "cell_type": "code",
   "execution_count": null,
   "id": "6368b19a",
   "metadata": {},
   "outputs": [],
   "source": []
  }
 ],
 "metadata": {
  "kernelspec": {
   "display_name": "Python 3 (ipykernel)",
   "language": "python",
   "name": "python3"
  },
  "language_info": {
   "codemirror_mode": {
    "name": "ipython",
    "version": 3
   },
   "file_extension": ".py",
   "mimetype": "text/x-python",
   "name": "python",
   "nbconvert_exporter": "python",
   "pygments_lexer": "ipython3",
   "version": "3.9.7"
  }
 },
 "nbformat": 4,
 "nbformat_minor": 5
}
