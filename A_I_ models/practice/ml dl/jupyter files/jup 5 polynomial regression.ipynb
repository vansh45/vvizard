{
 "cells": [
  {
   "cell_type": "markdown",
   "id": "f4ae954f",
   "metadata": {},
   "source": [
    "## ques y = f(x) =sin x  approximate this function with a polinomial function of the form\n",
    "## y =w0 +w1x + w2x**2  in the range x = (0, 2pi)\n"
   ]
  },
  {
   "cell_type": "code",
   "execution_count": 52,
   "id": "d1cd2ae6",
   "metadata": {},
   "outputs": [],
   "source": [
    "import matplotlib.pyplot as plt\n",
    "import seaborn as sns\n",
    "import numpy as np\n",
    "import pandas as pd\n",
    "#session 13"
   ]
  },
  {
   "cell_type": "code",
   "execution_count": 53,
   "id": "0cf17efe",
   "metadata": {},
   "outputs": [],
   "source": [
    "def generateX(N):\n",
    "    x = np.random.random(N)*np.pi*2\n",
    "    y = np.sin(x)\n",
    "    return x,y"
   ]
  },
  {
   "cell_type": "code",
   "execution_count": 54,
   "id": "2ab2eda6",
   "metadata": {},
   "outputs": [],
   "source": [
    "x,y = generateX(70)\n",
    "\n"
   ]
  },
  {
   "cell_type": "code",
   "execution_count": 55,
   "id": "9b941986",
   "metadata": {},
   "outputs": [
    {
     "data": {
      "image/png": "[encoded data removed]",
      "text/plain": [
       "<Figure size 432x288 with 1 Axes>"
      ]
     },
     "metadata": {
      "needs_background": "light"
     },
     "output_type": "display_data"
    }
   ],
   "source": [
    "plt.scatter(x,y)\n",
    "plt.show()"
   ]
  },
  {
   "cell_type": "code",
   "execution_count": 56,
   "id": "9d8096d4",
   "metadata": {},
   "outputs": [],
   "source": [
    "# defining model\n",
    " \n",
    "def createA(x, D):     #  D - degree\n",
    "    A= np.ones(D+1)\n",
    "    for d in range(1,D+1):\n",
    "        A[d] = x**d/(np.pi*2)**d    # normalising   \n",
    "    return A\n",
    "        "
   ]
  },
  {
   "cell_type": "code",
   "execution_count": 57,
   "id": "e4cdf7a3",
   "metadata": {},
   "outputs": [
    {
     "data": {
      "text/plain": [
       "array([1.        , 0.47746483, 0.22797266])"
      ]
     },
     "execution_count": 57,
     "metadata": {},
     "output_type": "execute_result"
    }
   ],
   "source": [
    "#ex \n",
    "createA(3,2)"
   ]
  },
  {
   "cell_type": "code",
   "execution_count": 58,
   "id": "7bcaadb9",
   "metadata": {},
   "outputs": [],
   "source": [
    "def init_w(D):\n",
    "    w= np.random.random(D+1)\n",
    "    return w"
   ]
  },
  {
   "cell_type": "code",
   "execution_count": 80,
   "id": "ab89ab50",
   "metadata": {},
   "outputs": [],
   "source": [
    "def predict_y(w,x):\n",
    "    D = len(w)-1\n",
    "    A = createA(x,D)\n",
    "    \n",
    "    yhat = A.dot(w) #dot product\n",
    "    return yhat"
   ]
  },
  {
   "cell_type": "code",
   "execution_count": 82,
   "id": "245f2936",
   "metadata": {},
   "outputs": [],
   "source": [
    "def compute_se(yhat ,y): #squared error\n",
    "    se =(y-yhat)**2\n",
    "    return se"
   ]
  },
  {
   "cell_type": "code",
   "execution_count": 83,
   "id": "8471a6de",
   "metadata": {},
   "outputs": [],
   "source": [
    "def calc_dw(x, yhat,y,D):\n",
    "    dw = np.zeros(D+1)\n",
    "    com = -2*(y-yhat) #          -2ab   coeff of x0\n",
    "    dw[0]+= com\n",
    "    for i in range(1,D+1):\n",
    "        dw[i] +=com*(x**i)/(np.pi*2)**i #coeff of xi\n",
    "    return dw"
   ]
  },
  {
   "cell_type": "code",
   "execution_count": 84,
   "id": "670e5c12",
   "metadata": {},
   "outputs": [],
   "source": [
    "def update_w(w, dw, eeta):\n",
    "    #print(dw)\n",
    "    #print(w)\n",
    "    w = w-eeta*dw\n",
    "    return w\n"
   ]
  },
  {
   "cell_type": "code",
   "execution_count": 85,
   "id": "07d3299b",
   "metadata": {},
   "outputs": [],
   "source": [
    "def train_w(x ,y ,w ,Nepoch , eeta):\n",
    "    D = len(w)-1\n",
    "    for epoch in range(Nepoch):\n",
    "        for i in range (len(x)):           # x = N\n",
    "            y_hat = predict_y(w, x[i])\n",
    "            dw = calc_dw(x[i],y_hat,y[i],D)\n",
    "            #print(dw)\n",
    "            w = update_w(w,dw,eeta)\n",
    "    return w"
   ]
  },
  {
   "cell_type": "code",
   "execution_count": 86,
   "id": "1486d115",
   "metadata": {},
   "outputs": [],
   "source": [
    "N =500\n",
    "D =20\n"
   ]
  },
  {
   "cell_type": "code",
   "execution_count": 87,
   "id": "6e79152b",
   "metadata": {},
   "outputs": [],
   "source": [
    "Nepoch = 100\n",
    "eeta = 0.001\n",
    "w = init_w(D)      # random w"
   ]
  },
  {
   "cell_type": "code",
   "execution_count": 88,
   "id": "605aaa6d",
   "metadata": {},
   "outputs": [],
   "source": [
    "x,y = generateX(N)\n",
    "w= train_w(x, y, w, Nepoch, eeta)   #trained w"
   ]
  },
  {
   "cell_type": "code",
   "execution_count": 89,
   "id": "dda18c0d",
   "metadata": {},
   "outputs": [],
   "source": [
    "se =0\n",
    "y_pred =[]"
   ]
  },
  {
   "cell_type": "code",
   "execution_count": 90,
   "id": "885953ee",
   "metadata": {},
   "outputs": [],
   "source": [
    "for i in range(N):\n",
    "    y_pred.append(predict_y(w,x[i]))    #yhat\n",
    "    se += compute_se(y[i], y_pred[i])\n",
    "    \n",
    "mse = se/N\n",
    "y_pred = np.array(y_pred)"
   ]
  },
  {
   "cell_type": "code",
   "execution_count": 91,
   "id": "eb546eb9",
   "metadata": {},
   "outputs": [
    {
     "data": {
      "text/plain": [
       "(0.10433097299084096, 52.16548649542048)"
      ]
     },
     "execution_count": 91,
     "metadata": {},
     "output_type": "execute_result"
    }
   ],
   "source": [
    "mse,se"
   ]
  },
  {
   "cell_type": "code",
   "execution_count": 92,
   "id": "d48ec577",
   "metadata": {},
   "outputs": [],
   "source": [
    "def plotmodel(x, y, y_original):\n",
    "    i = x.argsort()\n",
    "    plt.figure(figsize=(20,9))\n",
    "    plt.plot(x[i], y[i],color= \"green\", marker =\"o\")\n",
    "    plt.plot(x[i], y_original[i],color= \"red\", marker =\"o\")\n",
    "    plt.ylabel(\"F(X)\")\n",
    "    plt.xlabel(\"X\")\n",
    "    \n",
    "    plt.legend([\"estimated\",\"True\"])\n",
    "    plt.title(\"Comparision\")\n",
    "    plt.show()"
   ]
  },
  {
   "cell_type": "code",
   "execution_count": 93,
   "id": "0fd8b0c1",
   "metadata": {},
   "outputs": [
    {
     "data": {
      "image/png": "[encoded data removed]",
      "text/plain": [
       "<Figure size 1440x648 with 1 Axes>"
      ]
     },
     "metadata": {
      "needs_background": "light"
     },
     "output_type": "display_data"
    }
   ],
   "source": [
    "plotmodel(x,y_pred,y)"
   ]
  },
  {
   "cell_type": "code",
   "execution_count": null,
   "id": "51634fba",
   "metadata": {},
   "outputs": [],
   "source": []
  },
  {
   "cell_type": "code",
   "execution_count": null,
   "id": "d3d36859",
   "metadata": {},
   "outputs": [],
   "source": []
  }
 ],
 "metadata": {
  "kernelspec": {
   "display_name": "Python 3 (ipykernel)",
   "language": "python",
   "name": "python3"
  },
  "language_info": {
   "codemirror_mode": {
    "name": "ipython",
    "version": 3
   },
   "file_extension": ".py",
   "mimetype": "text/x-python",
   "name": "python",
   "nbconvert_exporter": "python",
   "pygments_lexer": "ipython3",
   "version": "3.9.7"
  }
 },
 "nbformat": 4,
 "nbformat_minor": 5
}
