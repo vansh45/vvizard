{
 "cells": [
  {
   "cell_type": "code",
   "execution_count": 1,
   "id": "88b1a592",
   "metadata": {},
   "outputs": [],
   "source": [
    "import pandas as pd \n",
    "import matplotlib.pyplot as plt\n",
    "import seaborn as sns\n",
    "import numpy as np\n",
    "\n",
    "from sklearn.linear_model import LinearRegression"
   ]
  },
  {
   "cell_type": "code",
   "execution_count": 2,
   "id": "2a5b025e",
   "metadata": {},
   "outputs": [],
   "source": [
    "df = pd.read_csv('carprice.csv')\n",
    "\n",
    "\n",
    "\n"
   ]
  },
  {
   "cell_type": "code",
   "execution_count": 3,
   "id": "3b455dc7",
   "metadata": {},
   "outputs": [
    {
     "data": {
      "text/html": [
       "<div>\n",
       "<style scoped>\n",
       "    .dataframe tbody tr th:only-of-type {\n",
       "        vertical-align: middle;\n",
       "    }\n",
       "\n",
       "    .dataframe tbody tr th {\n",
       "        vertical-align: top;\n",
       "    }\n",
       "\n",
       "    .dataframe thead th {\n",
       "        text-align: right;\n",
       "    }\n",
       "</style>\n",
       "<table border=\"1\" class=\"dataframe\">\n",
       "  <thead>\n",
       "    <tr style=\"text-align: right;\">\n",
       "      <th></th>\n",
       "      <th>car_ID</th>\n",
       "      <th>symboling</th>\n",
       "      <th>CarName</th>\n",
       "      <th>fueltype</th>\n",
       "      <th>aspiration</th>\n",
       "      <th>doornumber</th>\n",
       "      <th>carbody</th>\n",
       "      <th>drivewheel</th>\n",
       "      <th>enginelocation</th>\n",
       "      <th>wheelbase</th>\n",
       "      <th>...</th>\n",
       "      <th>enginesize</th>\n",
       "      <th>fuelsystem</th>\n",
       "      <th>boreratio</th>\n",
       "      <th>stroke</th>\n",
       "      <th>compressionratio</th>\n",
       "      <th>horsepower</th>\n",
       "      <th>peakrpm</th>\n",
       "      <th>citympg</th>\n",
       "      <th>highwaympg</th>\n",
       "      <th>price</th>\n",
       "    </tr>\n",
       "  </thead>\n",
       "  <tbody>\n",
       "    <tr>\n",
       "      <th>0</th>\n",
       "      <td>1</td>\n",
       "      <td>3</td>\n",
       "      <td>alfa-romero giulia</td>\n",
       "      <td>gas</td>\n",
       "      <td>std</td>\n",
       "      <td>two</td>\n",
       "      <td>convertible</td>\n",
       "      <td>rwd</td>\n",
       "      <td>front</td>\n",
       "      <td>88.6</td>\n",
       "      <td>...</td>\n",
       "      <td>130</td>\n",
       "      <td>mpfi</td>\n",
       "      <td>3.47</td>\n",
       "      <td>2.68</td>\n",
       "      <td>9.0</td>\n",
       "      <td>111</td>\n",
       "      <td>5000</td>\n",
       "      <td>21</td>\n",
       "      <td>27</td>\n",
       "      <td>13495.0</td>\n",
       "    </tr>\n",
       "    <tr>\n",
       "      <th>1</th>\n",
       "      <td>2</td>\n",
       "      <td>3</td>\n",
       "      <td>alfa-romero stelvio</td>\n",
       "      <td>gas</td>\n",
       "      <td>std</td>\n",
       "      <td>two</td>\n",
       "      <td>convertible</td>\n",
       "      <td>rwd</td>\n",
       "      <td>front</td>\n",
       "      <td>88.6</td>\n",
       "      <td>...</td>\n",
       "      <td>130</td>\n",
       "      <td>mpfi</td>\n",
       "      <td>3.47</td>\n",
       "      <td>2.68</td>\n",
       "      <td>9.0</td>\n",
       "      <td>111</td>\n",
       "      <td>5000</td>\n",
       "      <td>21</td>\n",
       "      <td>27</td>\n",
       "      <td>16500.0</td>\n",
       "    </tr>\n",
       "    <tr>\n",
       "      <th>2</th>\n",
       "      <td>3</td>\n",
       "      <td>1</td>\n",
       "      <td>alfa-romero Quadrifoglio</td>\n",
       "      <td>gas</td>\n",
       "      <td>std</td>\n",
       "      <td>two</td>\n",
       "      <td>hatchback</td>\n",
       "      <td>rwd</td>\n",
       "      <td>front</td>\n",
       "      <td>94.5</td>\n",
       "      <td>...</td>\n",
       "      <td>152</td>\n",
       "      <td>mpfi</td>\n",
       "      <td>2.68</td>\n",
       "      <td>3.47</td>\n",
       "      <td>9.0</td>\n",
       "      <td>154</td>\n",
       "      <td>5000</td>\n",
       "      <td>19</td>\n",
       "      <td>26</td>\n",
       "      <td>16500.0</td>\n",
       "    </tr>\n",
       "    <tr>\n",
       "      <th>3</th>\n",
       "      <td>4</td>\n",
       "      <td>2</td>\n",
       "      <td>audi 100 ls</td>\n",
       "      <td>gas</td>\n",
       "      <td>std</td>\n",
       "      <td>four</td>\n",
       "      <td>sedan</td>\n",
       "      <td>fwd</td>\n",
       "      <td>front</td>\n",
       "      <td>99.8</td>\n",
       "      <td>...</td>\n",
       "      <td>109</td>\n",
       "      <td>mpfi</td>\n",
       "      <td>3.19</td>\n",
       "      <td>3.40</td>\n",
       "      <td>10.0</td>\n",
       "      <td>102</td>\n",
       "      <td>5500</td>\n",
       "      <td>24</td>\n",
       "      <td>30</td>\n",
       "      <td>13950.0</td>\n",
       "    </tr>\n",
       "    <tr>\n",
       "      <th>4</th>\n",
       "      <td>5</td>\n",
       "      <td>2</td>\n",
       "      <td>audi 100ls</td>\n",
       "      <td>gas</td>\n",
       "      <td>std</td>\n",
       "      <td>four</td>\n",
       "      <td>sedan</td>\n",
       "      <td>4wd</td>\n",
       "      <td>front</td>\n",
       "      <td>99.4</td>\n",
       "      <td>...</td>\n",
       "      <td>136</td>\n",
       "      <td>mpfi</td>\n",
       "      <td>3.19</td>\n",
       "      <td>3.40</td>\n",
       "      <td>8.0</td>\n",
       "      <td>115</td>\n",
       "      <td>5500</td>\n",
       "      <td>18</td>\n",
       "      <td>22</td>\n",
       "      <td>17450.0</td>\n",
       "    </tr>\n",
       "    <tr>\n",
       "      <th>...</th>\n",
       "      <td>...</td>\n",
       "      <td>...</td>\n",
       "      <td>...</td>\n",
       "      <td>...</td>\n",
       "      <td>...</td>\n",
       "      <td>...</td>\n",
       "      <td>...</td>\n",
       "      <td>...</td>\n",
       "      <td>...</td>\n",
       "      <td>...</td>\n",
       "      <td>...</td>\n",
       "      <td>...</td>\n",
       "      <td>...</td>\n",
       "      <td>...</td>\n",
       "      <td>...</td>\n",
       "      <td>...</td>\n",
       "      <td>...</td>\n",
       "      <td>...</td>\n",
       "      <td>...</td>\n",
       "      <td>...</td>\n",
       "      <td>...</td>\n",
       "    </tr>\n",
       "    <tr>\n",
       "      <th>200</th>\n",
       "      <td>201</td>\n",
       "      <td>-1</td>\n",
       "      <td>volvo 145e (sw)</td>\n",
       "      <td>gas</td>\n",
       "      <td>std</td>\n",
       "      <td>four</td>\n",
       "      <td>sedan</td>\n",
       "      <td>rwd</td>\n",
       "      <td>front</td>\n",
       "      <td>109.1</td>\n",
       "      <td>...</td>\n",
       "      <td>141</td>\n",
       "      <td>mpfi</td>\n",
       "      <td>3.78</td>\n",
       "      <td>3.15</td>\n",
       "      <td>9.5</td>\n",
       "      <td>114</td>\n",
       "      <td>5400</td>\n",
       "      <td>23</td>\n",
       "      <td>28</td>\n",
       "      <td>16845.0</td>\n",
       "    </tr>\n",
       "    <tr>\n",
       "      <th>201</th>\n",
       "      <td>202</td>\n",
       "      <td>-1</td>\n",
       "      <td>volvo 144ea</td>\n",
       "      <td>gas</td>\n",
       "      <td>turbo</td>\n",
       "      <td>four</td>\n",
       "      <td>sedan</td>\n",
       "      <td>rwd</td>\n",
       "      <td>front</td>\n",
       "      <td>109.1</td>\n",
       "      <td>...</td>\n",
       "      <td>141</td>\n",
       "      <td>mpfi</td>\n",
       "      <td>3.78</td>\n",
       "      <td>3.15</td>\n",
       "      <td>8.7</td>\n",
       "      <td>160</td>\n",
       "      <td>5300</td>\n",
       "      <td>19</td>\n",
       "      <td>25</td>\n",
       "      <td>19045.0</td>\n",
       "    </tr>\n",
       "    <tr>\n",
       "      <th>202</th>\n",
       "      <td>203</td>\n",
       "      <td>-1</td>\n",
       "      <td>volvo 244dl</td>\n",
       "      <td>gas</td>\n",
       "      <td>std</td>\n",
       "      <td>four</td>\n",
       "      <td>sedan</td>\n",
       "      <td>rwd</td>\n",
       "      <td>front</td>\n",
       "      <td>109.1</td>\n",
       "      <td>...</td>\n",
       "      <td>173</td>\n",
       "      <td>mpfi</td>\n",
       "      <td>3.58</td>\n",
       "      <td>2.87</td>\n",
       "      <td>8.8</td>\n",
       "      <td>134</td>\n",
       "      <td>5500</td>\n",
       "      <td>18</td>\n",
       "      <td>23</td>\n",
       "      <td>21485.0</td>\n",
       "    </tr>\n",
       "    <tr>\n",
       "      <th>203</th>\n",
       "      <td>204</td>\n",
       "      <td>-1</td>\n",
       "      <td>volvo 246</td>\n",
       "      <td>diesel</td>\n",
       "      <td>turbo</td>\n",
       "      <td>four</td>\n",
       "      <td>sedan</td>\n",
       "      <td>rwd</td>\n",
       "      <td>front</td>\n",
       "      <td>109.1</td>\n",
       "      <td>...</td>\n",
       "      <td>145</td>\n",
       "      <td>idi</td>\n",
       "      <td>3.01</td>\n",
       "      <td>3.40</td>\n",
       "      <td>23.0</td>\n",
       "      <td>106</td>\n",
       "      <td>4800</td>\n",
       "      <td>26</td>\n",
       "      <td>27</td>\n",
       "      <td>22470.0</td>\n",
       "    </tr>\n",
       "    <tr>\n",
       "      <th>204</th>\n",
       "      <td>205</td>\n",
       "      <td>-1</td>\n",
       "      <td>volvo 264gl</td>\n",
       "      <td>gas</td>\n",
       "      <td>turbo</td>\n",
       "      <td>four</td>\n",
       "      <td>sedan</td>\n",
       "      <td>rwd</td>\n",
       "      <td>front</td>\n",
       "      <td>109.1</td>\n",
       "      <td>...</td>\n",
       "      <td>141</td>\n",
       "      <td>mpfi</td>\n",
       "      <td>3.78</td>\n",
       "      <td>3.15</td>\n",
       "      <td>9.5</td>\n",
       "      <td>114</td>\n",
       "      <td>5400</td>\n",
       "      <td>19</td>\n",
       "      <td>25</td>\n",
       "      <td>22625.0</td>\n",
       "    </tr>\n",
       "  </tbody>\n",
       "</table>\n",
       "<p>205 rows × 26 columns</p>\n",
       "</div>"
      ],
      "text/plain": [
       "     car_ID  symboling                   CarName fueltype aspiration  \\\n",
       "0         1          3        alfa-romero giulia      gas        std   \n",
       "1         2          3       alfa-romero stelvio      gas        std   \n",
       "2         3          1  alfa-romero Quadrifoglio      gas        std   \n",
       "3         4          2               audi 100 ls      gas        std   \n",
       "4         5          2                audi 100ls      gas        std   \n",
       "..      ...        ...                       ...      ...        ...   \n",
       "200     201         -1           volvo 145e (sw)      gas        std   \n",
       "201     202         -1               volvo 144ea      gas      turbo   \n",
       "202     203         -1               volvo 244dl      gas        std   \n",
       "203     204         -1                 volvo 246   diesel      turbo   \n",
       "204     205         -1               volvo 264gl      gas      turbo   \n",
       "\n",
       "    doornumber      carbody drivewheel enginelocation  wheelbase  ...  \\\n",
       "0          two  convertible        rwd          front       88.6  ...   \n",
       "1          two  convertible        rwd          front       88.6  ...   \n",
       "2          two    hatchback        rwd          front       94.5  ...   \n",
       "3         four        sedan        fwd          front       99.8  ...   \n",
       "4         four        sedan        4wd          front       99.4  ...   \n",
       "..         ...          ...        ...            ...        ...  ...   \n",
       "200       four        sedan        rwd          front      109.1  ...   \n",
       "201       four        sedan        rwd          front      109.1  ...   \n",
       "202       four        sedan        rwd          front      109.1  ...   \n",
       "203       four        sedan        rwd          front      109.1  ...   \n",
       "204       four        sedan        rwd          front      109.1  ...   \n",
       "\n",
       "     enginesize  fuelsystem  boreratio  stroke compressionratio horsepower  \\\n",
       "0           130        mpfi       3.47    2.68              9.0        111   \n",
       "1           130        mpfi       3.47    2.68              9.0        111   \n",
       "2           152        mpfi       2.68    3.47              9.0        154   \n",
       "3           109        mpfi       3.19    3.40             10.0        102   \n",
       "4           136        mpfi       3.19    3.40              8.0        115   \n",
       "..          ...         ...        ...     ...              ...        ...   \n",
       "200         141        mpfi       3.78    3.15              9.5        114   \n",
       "201         141        mpfi       3.78    3.15              8.7        160   \n",
       "202         173        mpfi       3.58    2.87              8.8        134   \n",
       "203         145         idi       3.01    3.40             23.0        106   \n",
       "204         141        mpfi       3.78    3.15              9.5        114   \n",
       "\n",
       "     peakrpm citympg  highwaympg    price  \n",
       "0       5000      21          27  13495.0  \n",
       "1       5000      21          27  16500.0  \n",
       "2       5000      19          26  16500.0  \n",
       "3       5500      24          30  13950.0  \n",
       "4       5500      18          22  17450.0  \n",
       "..       ...     ...         ...      ...  \n",
       "200     5400      23          28  16845.0  \n",
       "201     5300      19          25  19045.0  \n",
       "202     5500      18          23  21485.0  \n",
       "203     4800      26          27  22470.0  \n",
       "204     5400      19          25  22625.0  \n",
       "\n",
       "[205 rows x 26 columns]"
      ]
     },
     "execution_count": 3,
     "metadata": {},
     "output_type": "execute_result"
    }
   ],
   "source": [
    "df"
   ]
  },
  {
   "cell_type": "markdown",
   "id": "eb29e095",
   "metadata": {},
   "source": [
    "## Linear regression"
   ]
  },
  {
   "cell_type": "code",
   "execution_count": 4,
   "id": "4f48fdc5",
   "metadata": {},
   "outputs": [],
   "source": [
    "lr= LinearRegression()"
   ]
  },
  {
   "cell_type": "code",
   "execution_count": 5,
   "id": "0acc35fc",
   "metadata": {},
   "outputs": [],
   "source": [
    "x = df[['highwaympg']]\n",
    "y = df[['price']]"
   ]
  },
  {
   "cell_type": "code",
   "execution_count": 6,
   "id": "148cb885",
   "metadata": {},
   "outputs": [
    {
     "data": {
      "text/plain": [
       "LinearRegression()"
      ]
     },
     "execution_count": 6,
     "metadata": {},
     "output_type": "execute_result"
    }
   ],
   "source": [
    "lr.fit(x,y)"
   ]
  },
  {
   "cell_type": "code",
   "execution_count": 10,
   "id": "e335e929",
   "metadata": {},
   "outputs": [
    {
     "data": {
      "text/plain": [
       "array([[13884.65263588]])"
      ]
     },
     "execution_count": 10,
     "metadata": {},
     "output_type": "execute_result"
    }
   ],
   "source": [
    "# predicting value of a particular quantity (exclusive quantities too)\n",
    "# lr.predict(np.array(30.0).reshape(-1,1))\n",
    "lr.predict([[30]])"
   ]
  },
  {
   "cell_type": "code",
   "execution_count": 8,
   "id": "b75c77a9",
   "metadata": {},
   "outputs": [],
   "source": [
    "yhat = lr.predict(x)"
   ]
  },
  {
   "cell_type": "code",
   "execution_count": 9,
   "id": "e1d16e64",
   "metadata": {},
   "outputs": [
    {
     "data": {
      "text/plain": [
       "38162.85848448241"
      ]
     },
     "execution_count": 9,
     "metadata": {},
     "output_type": "execute_result"
    }
   ],
   "source": [
    "lr.intercept_"
   ]
  },
  {
   "cell_type": "code",
   "execution_count": 10,
   "id": "2b5b275d",
   "metadata": {},
   "outputs": [
    {
     "data": {
      "text/plain": [
       "array([-809.27352829])"
      ]
     },
     "execution_count": 10,
     "metadata": {},
     "output_type": "execute_result"
    }
   ],
   "source": [
    "lr.coef_"
   ]
  },
  {
   "cell_type": "code",
   "execution_count": null,
   "id": "f88c07db",
   "metadata": {},
   "outputs": [],
   "source": []
  },
  {
   "cell_type": "code",
   "execution_count": 11,
   "id": "a9240bd2",
   "metadata": {},
   "outputs": [
    {
     "data": {
      "text/plain": [
       "<AxesSubplot:xlabel='highwaympg', ylabel='price'>"
      ]
     },
     "execution_count": 11,
     "metadata": {},
     "output_type": "execute_result"
    },
    {
     "data": {
      "image/png": "[encoded data removed]",
      "text/plain": [
       "<Figure size 432x288 with 1 Axes>"
      ]
     },
     "metadata": {
      "needs_background": "light"
     },
     "output_type": "display_data"
    }
   ],
   "source": [
    "sns.regplot(x = x, y =y ,data = df)\n",
    "\n",
    "#plt.ylim(0,)"
   ]
  },
  {
   "cell_type": "code",
   "execution_count": 12,
   "id": "396ddaf0",
   "metadata": {},
   "outputs": [
    {
     "data": {
      "text/plain": [
       "<matplotlib.collections.PathCollection at 0x155017d88b0>"
      ]
     },
     "execution_count": 12,
     "metadata": {},
     "output_type": "execute_result"
    },
    {
     "data": {
      "image/png": "[encoded data removed]",
      "text/plain": [
       "<Figure size 432x288 with 1 Axes>"
      ]
     },
     "metadata": {
      "needs_background": "light"
     },
     "output_type": "display_data"
    }
   ],
   "source": [
    "plt.scatter(x,y,color='r')\n",
    "plt.scatter(x,yhat)"
   ]
  },
  {
   "cell_type": "code",
   "execution_count": 13,
   "id": "08b4a275",
   "metadata": {},
   "outputs": [
    {
     "name": "stderr",
     "output_type": "stream",
     "text": [
      "C:\\Users\\hp\\anaconda3\\lib\\site-packages\\seaborn\\_decorators.py:36: FutureWarning: Pass the following variables as keyword args: x, y. From version 0.12, the only valid positional argument will be `data`, and passing other arguments without an explicit keyword will result in an error or misinterpretation.\n",
      "  warnings.warn(\n"
     ]
    },
    {
     "data": {
      "text/plain": [
       "<AxesSubplot:xlabel='highwaympg', ylabel='price'>"
      ]
     },
     "execution_count": 13,
     "metadata": {},
     "output_type": "execute_result"
    },
    {
     "data": {
      "image/png": "[encoded data removed]",
      "text/plain": [
       "<Figure size 432x288 with 1 Axes>"
      ]
     },
     "metadata": {
      "needs_background": "light"
     },
     "output_type": "display_data"
    }
   ],
   "source": [
    "# Residual plot \n",
    "sns.residplot(x,y)"
   ]
  },
  {
   "cell_type": "markdown",
   "id": "6c304693",
   "metadata": {},
   "source": [
    "\n",
    "<span style=\"color:brown\">a non linear curve can be seen on the middle right of the graph that means our model is not that effective</span> "
   ]
  },
  {
   "cell_type": "code",
   "execution_count": 14,
   "id": "5c264f9e",
   "metadata": {},
   "outputs": [
    {
     "data": {
      "image/png": "[encoded data removed]",
      "text/plain": [
       "<Figure size 432x288 with 1 Axes>"
      ]
     },
     "metadata": {
      "needs_background": "light"
     },
     "output_type": "display_data"
    }
   ],
   "source": [
    "# distribution plots to compare actual and predicted values\n",
    "ax1 =  sns.kdeplot(df['price'],color ='r',label ='actual value')\n",
    "sns.kdeplot(yhat, color='b',label ='Fitted values',ax =ax1)\n",
    "plt.show()"
   ]
  },
  {
   "cell_type": "markdown",
   "id": "32ea3431",
   "metadata": {},
   "source": [
    "### Multiple linear regression"
   ]
  },
  {
   "cell_type": "code",
   "execution_count": 15,
   "id": "2870e2c0",
   "metadata": {},
   "outputs": [],
   "source": [
    "x = df[['highwaympg','horsepower','curbweight','enginesize']]\n",
    "y = df['price']"
   ]
  },
  {
   "cell_type": "code",
   "execution_count": 16,
   "id": "6f80ffe6",
   "metadata": {},
   "outputs": [],
   "source": [
    "lr.fit(x,y)\n",
    "yhat = lr.predict(x)"
   ]
  },
  {
   "cell_type": "code",
   "execution_count": 17,
   "id": "80d96f43",
   "metadata": {},
   "outputs": [
    {
     "data": {
      "image/png": "[encoded data removed]",
      "text/plain": [
       "<Figure size 432x288 with 1 Axes>"
      ]
     },
     "metadata": {
      "needs_background": "light"
     },
     "output_type": "display_data"
    }
   ],
   "source": [
    "# distribution plots to compare actual and predicted values\n",
    "ax1 =  sns.kdeplot(df['price'],color ='r',label ='actual value')\n",
    "sns.kdeplot(yhat, color='b',label ='Fitted values',ax =ax1)\n",
    "plt.show()"
   ]
  },
  {
   "cell_type": "markdown",
   "id": "f680db74",
   "metadata": {},
   "source": [
    "# polynomial Regression "
   ]
  },
  {
   "cell_type": "code",
   "execution_count": 18,
   "id": "f015922a",
   "metadata": {},
   "outputs": [
    {
     "data": {
      "text/plain": [
       "poly1d([-1.49603403e+00,  1.97860523e+02, -8.71437435e+03,  1.35089693e+05])"
      ]
     },
     "execution_count": 18,
     "metadata": {},
     "output_type": "execute_result"
    }
   ],
   "source": [
    "x = df['highwaympg']\n",
    "y = df['price']\n",
    "\n",
    "f = np.polyfit(x,y,3)\n",
    "p = np.poly1d(f)\n",
    "p"
   ]
  },
  {
   "cell_type": "code",
   "execution_count": 19,
   "id": "06ac6bf2",
   "metadata": {},
   "outputs": [
    {
     "name": "stdout",
     "output_type": "stream",
     "text": [
      "<class 'pandas.core.frame.DataFrame'>\n",
      "RangeIndex: 205 entries, 0 to 204\n",
      "Data columns (total 26 columns):\n",
      " #   Column            Non-Null Count  Dtype  \n",
      "---  ------            --------------  -----  \n",
      " 0   car_ID            205 non-null    int64  \n",
      " 1   symboling         205 non-null    int64  \n",
      " 2   CarName           205 non-null    object \n",
      " 3   fueltype          205 non-null    object \n",
      " 4   aspiration        205 non-null    object \n",
      " 5   doornumber        205 non-null    object \n",
      " 6   carbody           205 non-null    object \n",
      " 7   drivewheel        205 non-null    object \n",
      " 8   enginelocation    205 non-null    object \n",
      " 9   wheelbase         205 non-null    float64\n",
      " 10  carlength         205 non-null    float64\n",
      " 11  carwidth          205 non-null    float64\n",
      " 12  carheight         205 non-null    float64\n",
      " 13  curbweight        205 non-null    int64  \n",
      " 14  enginetype        205 non-null    object \n",
      " 15  cylindernumber    205 non-null    object \n",
      " 16  enginesize        205 non-null    int64  \n",
      " 17  fuelsystem        205 non-null    object \n",
      " 18  boreratio         205 non-null    float64\n",
      " 19  stroke            205 non-null    float64\n",
      " 20  compressionratio  205 non-null    float64\n",
      " 21  horsepower        205 non-null    int64  \n",
      " 22  peakrpm           205 non-null    int64  \n",
      " 23  citympg           205 non-null    int64  \n",
      " 24  highwaympg        205 non-null    int64  \n",
      " 25  price             205 non-null    float64\n",
      "dtypes: float64(8), int64(8), object(10)\n",
      "memory usage: 41.8+ KB\n"
     ]
    }
   ],
   "source": [
    "df.info()"
   ]
  },
  {
   "cell_type": "code",
   "execution_count": 20,
   "id": "d76c65b2",
   "metadata": {},
   "outputs": [],
   "source": [
    "from sklearn.preprocessing import PolynomialFeatures\n",
    "pr =PolynomialFeatures(degree =2, include_bias =False)\n",
    "x_polly = pr.fit_transform(df[['horsepower','curbweight']])\n"
   ]
  },
  {
   "cell_type": "markdown",
   "id": "5cf81fdc",
   "metadata": {},
   "source": [
    "## normalisation\n",
    "\n"
   ]
  },
  {
   "cell_type": "code",
   "execution_count": 21,
   "id": "7ffe4f9d",
   "metadata": {},
   "outputs": [],
   "source": [
    "# for restricting values in certain range\n",
    "from sklearn.preprocessing import StandardScaler\n",
    "Scale = StandardScaler()\n",
    "Scale.fit(df[['horsepower','highwaympg']])\n",
    "x_scale =Scale.transform(df[['horsepower','highwaympg']])\n"
   ]
  },
  {
   "cell_type": "markdown",
   "id": "aa54291b",
   "metadata": {},
   "source": [
    "## Pipeline\n"
   ]
  },
  {
   "cell_type": "code",
   "execution_count": 22,
   "id": "38f348b4",
   "metadata": {},
   "outputs": [],
   "source": [
    "from sklearn.pipeline import Pipeline"
   ]
  },
  {
   "cell_type": "code",
   "execution_count": 23,
   "id": "2a633493",
   "metadata": {},
   "outputs": [],
   "source": [
    "Input = [('scale',StandardScaler()),('polynomial',PolynomialFeatures(degree =2)),('model',LinearRegression())]"
   ]
  },
  {
   "cell_type": "code",
   "execution_count": 24,
   "id": "5b3cabe2",
   "metadata": {},
   "outputs": [],
   "source": [
    "pipe = Pipeline(Input)"
   ]
  },
  {
   "cell_type": "markdown",
   "id": "71983d97",
   "metadata": {},
   "source": [
    "### multiple polynomial regression"
   ]
  },
  {
   "cell_type": "code",
   "execution_count": 25,
   "id": "a1b857b6",
   "metadata": {},
   "outputs": [],
   "source": [
    "x =df[['horsepower','curbweight','enginesize','highwaympg']]\n",
    "z=df['horsepower']\n",
    "# x can be all of them but it will not create a graph with that\n",
    "y= df['price']"
   ]
  },
  {
   "cell_type": "code",
   "execution_count": 26,
   "id": "2926b972",
   "metadata": {},
   "outputs": [
    {
     "data": {
      "text/plain": [
       "horsepower    205\n",
       "curbweight    205\n",
       "enginesize    205\n",
       "highwaympg    205\n",
       "dtype: int64"
      ]
     },
     "execution_count": 26,
     "metadata": {},
     "output_type": "execute_result"
    }
   ],
   "source": [
    "x.count()"
   ]
  },
  {
   "cell_type": "code",
   "execution_count": 27,
   "id": "d6b70503",
   "metadata": {},
   "outputs": [
    {
     "data": {
      "text/plain": [
       "205"
      ]
     },
     "execution_count": 27,
     "metadata": {},
     "output_type": "execute_result"
    }
   ],
   "source": [
    "y.count()"
   ]
  },
  {
   "cell_type": "code",
   "execution_count": 28,
   "id": "d723a7b7",
   "metadata": {},
   "outputs": [
    {
     "data": {
      "text/plain": [
       "Pipeline(steps=[('scale', StandardScaler()),\n",
       "                ('polynomial', PolynomialFeatures()),\n",
       "                ('model', LinearRegression())])"
      ]
     },
     "execution_count": 28,
     "metadata": {},
     "output_type": "execute_result"
    }
   ],
   "source": [
    "pipe.fit(df[['horsepower','curbweight','enginesize','highwaympg']],y)"
   ]
  },
  {
   "cell_type": "code",
   "execution_count": 29,
   "id": "cd4a1d75",
   "metadata": {},
   "outputs": [],
   "source": [
    "yhat = pipe.predict(df[['horsepower','curbweight','enginesize','highwaympg']])"
   ]
  },
  {
   "cell_type": "code",
   "execution_count": 30,
   "id": "0033170c",
   "metadata": {},
   "outputs": [
    {
     "data": {
      "text/plain": [
       "<matplotlib.collections.PathCollection at 0x155019fdf10>"
      ]
     },
     "execution_count": 30,
     "metadata": {},
     "output_type": "execute_result"
    },
    {
     "data": {
      "image/png": "[encoded data removed]",
      "text/plain": [
       "<Figure size 432x288 with 1 Axes>"
      ]
     },
     "metadata": {
      "needs_background": "light"
     },
     "output_type": "display_data"
    }
   ],
   "source": [
    "plt.scatter(z, y,color= \"green\", marker =\"o\")\n",
    "plt.scatter(z, yhat,color= \"red\", marker =\"o\")  # pridicted"
   ]
  },
  {
   "cell_type": "markdown",
   "id": "1aa52ef0",
   "metadata": {},
   "source": [
    "### test train split\n"
   ]
  },
  {
   "cell_type": "code",
   "execution_count": 31,
   "id": "433be658",
   "metadata": {},
   "outputs": [],
   "source": [
    "from sklearn.model_selection import train_test_split "
   ]
  },
  {
   "cell_type": "code",
   "execution_count": 32,
   "id": "92162f69",
   "metadata": {},
   "outputs": [],
   "source": [
    "z_train ,z_test , y_train, y_test = train_test_split(z,y,test_size =0.33, random_state =1)"
   ]
  },
  {
   "cell_type": "code",
   "execution_count": 33,
   "id": "f214b809",
   "metadata": {},
   "outputs": [],
   "source": [
    "z_train = np.array(z_train).reshape(-1,1)\n",
    "z_test = np.array(z_test).reshape(-1,1)"
   ]
  },
  {
   "cell_type": "code",
   "execution_count": 34,
   "id": "5ab1a313",
   "metadata": {},
   "outputs": [],
   "source": [
    "model = lr.fit(z_train,y_train)"
   ]
  },
  {
   "cell_type": "code",
   "execution_count": null,
   "id": "6926700a",
   "metadata": {},
   "outputs": [],
   "source": []
  },
  {
   "cell_type": "code",
   "execution_count": 35,
   "id": "a8cd9c45",
   "metadata": {},
   "outputs": [],
   "source": [
    "y_pred = model.predict(z_test)"
   ]
  },
  {
   "cell_type": "code",
   "execution_count": 36,
   "id": "3bb1d5be",
   "metadata": {},
   "outputs": [
    {
     "data": {
      "image/png": "[encoded data removed]",
      "text/plain": [
       "<Figure size 432x288 with 1 Axes>"
      ]
     },
     "metadata": {
      "needs_background": "light"
     },
     "output_type": "display_data"
    }
   ],
   "source": [
    "plt.scatter(z_test, y_test , c=\"b\")\n",
    "plt.scatter(z_test, y_pred , c=\"r\",marker =\"^\")\n",
    "plt.show()"
   ]
  },
  {
   "cell_type": "markdown",
   "id": "be32a12a",
   "metadata": {},
   "source": [
    "### cross validation"
   ]
  },
  {
   "cell_type": "code",
   "execution_count": 37,
   "id": "06abec5a",
   "metadata": {},
   "outputs": [],
   "source": [
    "from sklearn.model_selection import cross_val_score\n",
    "from sklearn.model_selection import cross_val_predict\n",
    "import statistics"
   ]
  },
  {
   "cell_type": "code",
   "execution_count": 38,
   "id": "f8428183",
   "metadata": {},
   "outputs": [],
   "source": [
    "z = np.array(z).reshape(-1,1)\n"
   ]
  },
  {
   "cell_type": "code",
   "execution_count": 39,
   "id": "e05b45a7",
   "metadata": {},
   "outputs": [
    {
     "data": {
      "text/plain": [
       "0.5339189347090497"
      ]
     },
     "execution_count": 39,
     "metadata": {},
     "output_type": "execute_result"
    }
   ],
   "source": [
    "scores = cross_val_score(lr,z,y,cv=3)  # cv => folds (week 5 v1)\n",
    "mean_scores = statistics.mean(scores)\n",
    "mean_scores"
   ]
  },
  {
   "cell_type": "code",
   "execution_count": 40,
   "id": "9724ff01",
   "metadata": {},
   "outputs": [],
   "source": [
    "yhat = cross_val_predict(lr,z,y,cv=5) #taking k folds = cv=___\n",
    "mean_yhat = statistics.mean(yhat)"
   ]
  },
  {
   "cell_type": "code",
   "execution_count": null,
   "id": "38617626",
   "metadata": {},
   "outputs": [],
   "source": []
  },
  {
   "cell_type": "code",
   "execution_count": 41,
   "id": "e899bbe6",
   "metadata": {},
   "outputs": [
    {
     "data": {
      "image/png": "[encoded data removed]",
      "text/plain": [
       "<Figure size 432x288 with 1 Axes>"
      ]
     },
     "metadata": {
      "needs_background": "light"
     },
     "output_type": "display_data"
    }
   ],
   "source": [
    "plt.scatter(z,y , c=\"b\")\n",
    "#plt.scatter(z, yhat, c=\"r\",marker =\"^\")\n",
    "#plt.scatter(z, mean_yhat, c=\"green\",marker =\"^\")\n",
    "\n",
    "sns.regplot(x = z, y =np.array(yhat) ,data = df,color ='red')\n",
    "\n",
    "\n",
    "plt.show()"
   ]
  },
  {
   "cell_type": "markdown",
   "id": "b1e2e42e",
   "metadata": {},
   "source": [
    "## under and over fitting"
   ]
  },
  {
   "cell_type": "code",
   "execution_count": 42,
   "id": "6cbf97d1",
   "metadata": {},
   "outputs": [],
   "source": [
    "y = y.astype('int')"
   ]
  },
  {
   "cell_type": "code",
   "execution_count": 43,
   "id": "ba738b94",
   "metadata": {},
   "outputs": [],
   "source": [
    "z_train ,z_test , y_train, y_test = train_test_split(z,y,test_size =0.33, random_state =1)"
   ]
  },
  {
   "cell_type": "code",
   "execution_count": 44,
   "id": "fcadb7b7",
   "metadata": {},
   "outputs": [
    {
     "data": {
      "text/html": [
       "<div>\n",
       "<style scoped>\n",
       "    .dataframe tbody tr th:only-of-type {\n",
       "        vertical-align: middle;\n",
       "    }\n",
       "\n",
       "    .dataframe tbody tr th {\n",
       "        vertical-align: top;\n",
       "    }\n",
       "\n",
       "    .dataframe thead th {\n",
       "        text-align: right;\n",
       "    }\n",
       "</style>\n",
       "<table border=\"1\" class=\"dataframe\">\n",
       "  <thead>\n",
       "    <tr style=\"text-align: right;\">\n",
       "      <th></th>\n",
       "      <th>horsepower</th>\n",
       "    </tr>\n",
       "  </thead>\n",
       "  <tbody>\n",
       "    <tr>\n",
       "      <th>0</th>\n",
       "      <td>111</td>\n",
       "    </tr>\n",
       "    <tr>\n",
       "      <th>1</th>\n",
       "      <td>111</td>\n",
       "    </tr>\n",
       "    <tr>\n",
       "      <th>2</th>\n",
       "      <td>154</td>\n",
       "    </tr>\n",
       "    <tr>\n",
       "      <th>3</th>\n",
       "      <td>102</td>\n",
       "    </tr>\n",
       "    <tr>\n",
       "      <th>4</th>\n",
       "      <td>115</td>\n",
       "    </tr>\n",
       "    <tr>\n",
       "      <th>...</th>\n",
       "      <td>...</td>\n",
       "    </tr>\n",
       "    <tr>\n",
       "      <th>200</th>\n",
       "      <td>114</td>\n",
       "    </tr>\n",
       "    <tr>\n",
       "      <th>201</th>\n",
       "      <td>160</td>\n",
       "    </tr>\n",
       "    <tr>\n",
       "      <th>202</th>\n",
       "      <td>134</td>\n",
       "    </tr>\n",
       "    <tr>\n",
       "      <th>203</th>\n",
       "      <td>106</td>\n",
       "    </tr>\n",
       "    <tr>\n",
       "      <th>204</th>\n",
       "      <td>114</td>\n",
       "    </tr>\n",
       "  </tbody>\n",
       "</table>\n",
       "<p>205 rows × 1 columns</p>\n",
       "</div>"
      ],
      "text/plain": [
       "     horsepower\n",
       "0           111\n",
       "1           111\n",
       "2           154\n",
       "3           102\n",
       "4           115\n",
       "..          ...\n",
       "200         114\n",
       "201         160\n",
       "202         134\n",
       "203         106\n",
       "204         114\n",
       "\n",
       "[205 rows x 1 columns]"
      ]
     },
     "execution_count": 44,
     "metadata": {},
     "output_type": "execute_result"
    }
   ],
   "source": [
    "df[['horsepower']]"
   ]
  },
  {
   "cell_type": "code",
   "execution_count": 45,
   "id": "2417c7d7",
   "metadata": {},
   "outputs": [],
   "source": [
    "Rsquare =[]\n",
    "order = [1,2,3,4,5,6,7,8,9,10,11,12,13]\n",
    "for n in order:\n",
    "    pr = PolynomialFeatures(degree = n)\n",
    "    z_train_pr = pr.fit_transform(z_train)\n",
    "    z_test_pr = pr.fit_transform(z_test)\n",
    "    lr.fit(z_train_pr,y_train)\n",
    "    \n",
    "    Rsquare.append(lr.score(z_test_pr,y_test))\n",
    "    \n",
    "#w5 v2 last seconds"
   ]
  },
  {
   "cell_type": "code",
   "execution_count": 46,
   "id": "c7266d5a",
   "metadata": {},
   "outputs": [
    {
     "data": {
      "text/plain": [
       "[0.6366383573323964,\n",
       " 0.6313856782961902,\n",
       " 0.6534667543172494,\n",
       " 0.6588539411563816,\n",
       " 0.6619321349893471,\n",
       " 0.6790054063281699,\n",
       " 0.681604689794221,\n",
       " 0.6751109456053022,\n",
       " 0.6757510326224327,\n",
       " 0.6525507665603282,\n",
       " 0.6276184162607725,\n",
       " 0.6008508661376131,\n",
       " 0.5805305640099984]"
      ]
     },
     "execution_count": 46,
     "metadata": {},
     "output_type": "execute_result"
    }
   ],
   "source": [
    "Rsquare"
   ]
  },
  {
   "cell_type": "code",
   "execution_count": 47,
   "id": "cf30963b",
   "metadata": {},
   "outputs": [
    {
     "data": {
      "text/plain": [
       "0.681604689794221"
      ]
     },
     "execution_count": 47,
     "metadata": {},
     "output_type": "execute_result"
    }
   ],
   "source": [
    "max(Rsquare)\n",
    "# for Rsquare = 1 model is absolute accurate"
   ]
  },
  {
   "cell_type": "code",
   "execution_count": 48,
   "id": "a86a8e2d",
   "metadata": {},
   "outputs": [
    {
     "name": "stdout",
     "output_type": "stream",
     "text": [
      "7 is the most effictive degree for this model\n"
     ]
    }
   ],
   "source": [
    "b=0\n",
    "for a in Rsquare :\n",
    "\n",
    "    if(a == max(Rsquare)):\n",
    "        break\n",
    "    b= b+1\n",
    "print(\"{} is the most effictive degree for this model\".format(b+1))"
   ]
  },
  {
   "cell_type": "markdown",
   "id": "340ab42a",
   "metadata": {},
   "source": [
    "## Ridge regression\n"
   ]
  },
  {
   "cell_type": "markdown",
   "id": "4e16a00f",
   "metadata": {},
   "source": [
    "#####  for linear regression"
   ]
  },
  {
   "cell_type": "markdown",
   "id": "f3f681f3",
   "metadata": {},
   "source": [
    "Ridge and Lasso regression are powerful techniques generally powerfull than linear used for creating cheap(kanjoos to use resources) models in presence of a ‘large’ number of features."
   ]
  },
  {
   "cell_type": "code",
   "execution_count": 49,
   "id": "4cd9e11f",
   "metadata": {},
   "outputs": [],
   "source": [
    "from sklearn.linear_model import Ridge\n",
    "from sklearn.metrics import r2_score\n",
    "ridgemodel = Ridge(alpha =0.1)\n",
    "ridgemodel.fit(z,y)\n",
    "yhat = ridgemodel.predict(z)"
   ]
  },
  {
   "cell_type": "code",
   "execution_count": 50,
   "id": "520d7dad",
   "metadata": {},
   "outputs": [
    {
     "data": {
      "text/plain": [
       "<matplotlib.collections.PathCollection at 0x15501b7c6a0>"
      ]
     },
     "execution_count": 50,
     "metadata": {},
     "output_type": "execute_result"
    },
    {
     "data": {
      "image/png": "[encoded data removed]",
      "text/plain": [
       "<Figure size 432x288 with 1 Axes>"
      ]
     },
     "metadata": {
      "needs_background": "light"
     },
     "output_type": "display_data"
    }
   ],
   "source": [
    "plt.scatter(z,y,c='b')\n",
    "plt.scatter(z,yhat,c='r')"
   ]
  },
  {
   "cell_type": "code",
   "execution_count": 51,
   "id": "647fdfbf",
   "metadata": {},
   "outputs": [
    {
     "data": {
      "text/plain": [
       "[0.6523434287681427, 0.652343413601151, 0.6523432619222875, 0.6523417442390345]"
      ]
     },
     "execution_count": 51,
     "metadata": {},
     "output_type": "execute_result"
    }
   ],
   "source": [
    "z_train ,z_test , y_train, y_test = train_test_split(z,y,test_size =0.33, random_state =1)\n",
    "\n",
    "Rsquare =[]\n",
    "\n",
    "alphas =[0.01,0.1,1,10]   #ranging significance of some coefficients\n",
    "for a in alphas :\n",
    "    ridgemodel = Ridge(alpha = a)\n",
    "    ridgemodel.fit(z_train,y_train)\n",
    "    yhat = ridgemodel.predict(z_test)\n",
    "    Rsquare.append(ridgemodel.score(z,y))\n",
    "Rsquare"
   ]
  },
  {
   "cell_type": "markdown",
   "id": "1119e3c2",
   "metadata": {},
   "source": [
    "### Grid search CV"
   ]
  },
  {
   "cell_type": "code",
   "execution_count": 52,
   "id": "929f1907",
   "metadata": {},
   "outputs": [
    {
     "data": {
      "text/plain": [
       "Ridge(alpha=10000)"
      ]
     },
     "execution_count": 52,
     "metadata": {},
     "output_type": "execute_result"
    }
   ],
   "source": [
    "from sklearn.model_selection import GridSearchCV\n",
    "\n",
    "parameters1 =[{'alpha':[0.001,0.1,1,10,100,1000,10000,100000,1000000]}]\n",
    "RR = Ridge()\n",
    "\n",
    "grid1 = GridSearchCV(RR,parameters1,cv =4)\n",
    "\n",
    "grid1.fit(x[['horsepower','curbweight','enginesize','highwaympg']],y)\n",
    "\n",
    "grid1.best_estimator_"
   ]
  },
  {
   "cell_type": "code",
   "execution_count": 62,
   "id": "da32d13c",
   "metadata": {},
   "outputs": [
    {
     "name": "stdout",
     "output_type": "stream",
     "text": [
      "{'alpha': 0.001}    R^2 on test data: 0.6836720386658424    R^2 on train data: 0.8179280515616572\n",
      "{'alpha': 0.1}    R^2 on test data: 0.6836722926331922    R^2 on train data: 0.8179280515603112\n",
      "{'alpha': 1}    R^2 on test data: 0.6836745999745444    R^2 on train data: 0.8179280514271624\n",
      "{'alpha': 10}    R^2 on test data: 0.6836975303257324    R^2 on train data: 0.817928038227623\n",
      "{'alpha': 100}    R^2 on test data: 0.6839133763129503    R^2 on train data: 0.8179268253159696\n",
      "{'alpha': 1000}    R^2 on test data: 0.6852475014303049    R^2 on train data: 0.8178642681274628\n",
      "{'alpha': 10000}    R^2 on test data: 0.6869422151366709    R^2 on train data: 0.8168521854044446\n",
      "{'alpha': 100000}    R^2 on test data: 0.6690158519930138    R^2 on train data: 0.795189704800399\n",
      "{'alpha': 1000000}    R^2 on test data: 0.6115506600469858    R^2 on train data: 0.726041917862772\n"
     ]
    }
   ],
   "source": [
    "for paramater ,mean_val ,mean_test in zip(scores['params'],scores['mean_test_score'],scores['mean_train_score']):\n",
    "    print(paramater ,'   R^2 on test data:',mean_val,\"   R^2 on train data:\",mean_test)"
   ]
  },
  {
   "cell_type": "code",
   "execution_count": 57,
   "id": "f463a561",
   "metadata": {},
   "outputs": [
    {
     "name": "stdout",
     "output_type": "stream",
     "text": [
      "[0.68367204 0.68367229 0.6836746  0.68369753 0.68391338 0.6852475\n",
      " 0.68694222 0.66901585 0.61155066]\n"
     ]
    }
   ],
   "source": [
    "scores = grid1.cv_results_\n",
    "print(scores['mean_test_score'])"
   ]
  },
  {
   "cell_type": "code",
   "execution_count": 58,
   "id": "b868f8f6",
   "metadata": {},
   "outputs": [
    {
     "data": {
      "text/plain": [
       "Ridge(alpha=10000)"
      ]
     },
     "execution_count": 58,
     "metadata": {},
     "output_type": "execute_result"
    }
   ],
   "source": [
    "parameters = [{'alpha':[1,10,100,1000], 'normalize' :[True, False]} ]\n",
    "# 4*2 = 8\n",
    "RR = Ridge()\n",
    "\n",
    "grid1 = GridSearchCV(RR,parameters1,cv =4,return_train_score=True)\n",
    "\n",
    "grid1.fit(x[['horsepower','curbweight','enginesize','highwaympg']],y)\n",
    "\n",
    "grid1.best_estimator_"
   ]
  },
  {
   "cell_type": "code",
   "execution_count": 66,
   "id": "d97fcf86",
   "metadata": {},
   "outputs": [],
   "source": [
    "x_data=df.drop('price',axis=1)\n",
    "x_train, x_test, y_train, y_test = train_test_split(x_data, y, test_size=0.10, random_state=1)"
   ]
  },
  {
   "cell_type": "code",
   "execution_count": 69,
   "id": "09d02069",
   "metadata": {},
   "outputs": [],
   "source": [
    "pr=PolynomialFeatures(degree=2)\n",
    "x_train_pr=pr.fit_transform(x_train[['horsepower', 'curbweight', 'enginesize', 'highwaympg']])\n",
    "x_test_pr=pr.fit_transform(x_test[['horsepower', 'curbweight', 'enginesize', 'highwaympg']])"
   ]
  },
  {
   "cell_type": "code",
   "execution_count": 70,
   "id": "f3127bba",
   "metadata": {},
   "outputs": [],
   "source": [
    "RigeModel=Ridge(alpha=1)"
   ]
  },
  {
   "cell_type": "code",
   "execution_count": 71,
   "id": "d5918556",
   "metadata": {},
   "outputs": [],
   "source": [
    "RigeModel.fit(x_train_pr, y_train)\n",
    "yhat = RigeModel.predict(x_test_pr)"
   ]
  },
  {
   "cell_type": "code",
   "execution_count": 72,
   "id": "76a7c999",
   "metadata": {},
   "outputs": [
    {
     "name": "stdout",
     "output_type": "stream",
     "text": [
      "predicted: [6275.57261577 6594.59431323 6151.59531064 6420.86777696]\n",
      "test set : [6669 7999 6338 8916]\n"
     ]
    }
   ],
   "source": [
    "print('predicted:', yhat[0:4])\n",
    "print('test set :', y_test[0:4].values)"
   ]
  },
  {
   "cell_type": "code",
   "execution_count": 73,
   "id": "e2f8aa4d",
   "metadata": {},
   "outputs": [
    {
     "name": "stderr",
     "output_type": "stream",
     "text": [
      "100%|████████████████████████████████████████| 1000/1000 [00:04<00:00, 228.53it/s, Test Score=0.879, Train Score=0.833]\n"
     ]
    }
   ],
   "source": [
    "from tqdm import tqdm\n",
    "\n",
    "Rsqu_test = []\n",
    "Rsqu_train = []\n",
    "dummy1 = []\n",
    "Alpha = 10 * np.array(range(0,1000))\n",
    "pbar = tqdm(Alpha)\n",
    "\n",
    "for alpha in pbar:\n",
    "    RigeModel = Ridge(alpha=alpha) \n",
    "    RigeModel.fit(x_train_pr, y_train)\n",
    "    test_score, train_score = RigeModel.score(x_test_pr, y_test), RigeModel.score(x_train_pr, y_train)\n",
    "    \n",
    "    pbar.set_postfix({\"Test Score\": test_score, \"Train Score\": train_score})\n",
    "\n",
    "    Rsqu_test.append(test_score)\n",
    "    Rsqu_train.append(train_score)"
   ]
  },
  {
   "cell_type": "code",
   "execution_count": 74,
   "id": "6d32d5c7",
   "metadata": {},
   "outputs": [
    {
     "data": {
      "text/plain": [
       "<matplotlib.legend.Legend at 0x15501a36820>"
      ]
     },
     "execution_count": 74,
     "metadata": {},
     "output_type": "execute_result"
    },
    {
     "data": {
      "image/png": "[encoded data removed]",
      "text/plain": [
       "<Figure size 864x720 with 1 Axes>"
      ]
     },
     "metadata": {
      "needs_background": "light"
     },
     "output_type": "display_data"
    }
   ],
   "source": [
    "width = 12\n",
    "height = 10\n",
    "plt.figure(figsize=(width, height))\n",
    "\n",
    "plt.plot(Alpha,Rsqu_test, label='validation data  ')\n",
    "plt.plot(Alpha,Rsqu_train, 'r', label='training Data ')\n",
    "plt.xlabel('alpha')\n",
    "plt.ylabel('R^2')\n",
    "plt.legend()"
   ]
  },
  {
   "cell_type": "code",
   "execution_count": null,
   "id": "c6ef0e17",
   "metadata": {},
   "outputs": [],
   "source": []
  }
 ],
 "metadata": {
  "kernelspec": {
   "display_name": "Python 3 (ipykernel)",
   "language": "python",
   "name": "python3"
  },
  "language_info": {
   "codemirror_mode": {
    "name": "ipython",
    "version": 3
   },
   "file_extension": ".py",
   "mimetype": "text/x-python",
   "name": "python",
   "nbconvert_exporter": "python",
   "pygments_lexer": "ipython3",
   "version": "3.9.7"
  }
 },
 "nbformat": 4,
 "nbformat_minor": 5
}
