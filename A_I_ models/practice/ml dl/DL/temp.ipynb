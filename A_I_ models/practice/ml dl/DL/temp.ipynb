{
 "cells": [
  {
   "cell_type": "code",
   "execution_count": 1,
   "id": "00a36444",
   "metadata": {},
   "outputs": [],
   "source": [
    "import tensorflow as tf\n",
    "from tensorflow import keras\n",
    "import matplotlib.pyplot as plt\n",
    "%matplotlib inline\n",
    "import numpy as np\n",
    "import pandas as pd\n",
    "import random"
   ]
  },
  {
   "cell_type": "code",
   "execution_count": 2,
   "id": "5c1c30bc",
   "metadata": {
    "scrolled": true
   },
   "outputs": [
    {
     "data": {
      "text/html": [
       "<div>\n",
       "<style scoped>\n",
       "    .dataframe tbody tr th:only-of-type {\n",
       "        vertical-align: middle;\n",
       "    }\n",
       "\n",
       "    .dataframe tbody tr th {\n",
       "        vertical-align: top;\n",
       "    }\n",
       "\n",
       "    .dataframe thead th {\n",
       "        text-align: right;\n",
       "    }\n",
       "</style>\n",
       "<table border=\"1\" class=\"dataframe\">\n",
       "  <thead>\n",
       "    <tr style=\"text-align: right;\">\n",
       "      <th></th>\n",
       "      <th>area</th>\n",
       "      <th>bedrooms</th>\n",
       "      <th>price</th>\n",
       "    </tr>\n",
       "  </thead>\n",
       "  <tbody>\n",
       "    <tr>\n",
       "      <th>19</th>\n",
       "      <td>800</td>\n",
       "      <td>1</td>\n",
       "      <td>32.0</td>\n",
       "    </tr>\n",
       "    <tr>\n",
       "      <th>3</th>\n",
       "      <td>1521</td>\n",
       "      <td>3</td>\n",
       "      <td>75.0</td>\n",
       "    </tr>\n",
       "    <tr>\n",
       "      <th>18</th>\n",
       "      <td>2770</td>\n",
       "      <td>3</td>\n",
       "      <td>102.0</td>\n",
       "    </tr>\n",
       "    <tr>\n",
       "      <th>6</th>\n",
       "      <td>2732</td>\n",
       "      <td>4</td>\n",
       "      <td>135.0</td>\n",
       "    </tr>\n",
       "    <tr>\n",
       "      <th>13</th>\n",
       "      <td>1100</td>\n",
       "      <td>2</td>\n",
       "      <td>40.0</td>\n",
       "    </tr>\n",
       "  </tbody>\n",
       "</table>\n",
       "</div>"
      ],
      "text/plain": [
       "    area  bedrooms  price\n",
       "19   800         1   32.0\n",
       "3   1521         3   75.0\n",
       "18  2770         3  102.0\n",
       "6   2732         4  135.0\n",
       "13  1100         2   40.0"
      ]
     },
     "execution_count": 2,
     "metadata": {},
     "output_type": "execute_result"
    }
   ],
   "source": [
    "df = pd.read_csv(r\"C:\\Users\\hp\\Music\\2023\\Datasets\\homeprices_banglore.csv\")\n",
    "df.sample(5,random_state =4)\n",
    "\n",
    "\n",
    "#The sample() method returns a specified number of random rows."
   ]
  },
  {
   "cell_type": "code",
   "execution_count": 3,
   "id": "7ea16534",
   "metadata": {},
   "outputs": [
    {
     "data": {
      "text/plain": [
       "array([[0.08827586, 0.25      ],\n",
       "       [0.62068966, 0.75      ],\n",
       "       [0.22068966, 0.5       ],\n",
       "       [0.24862069, 0.5       ],\n",
       "       [0.13793103, 0.25      ],\n",
       "       [0.12758621, 0.25      ],\n",
       "       [0.6662069 , 0.75      ],\n",
       "       [0.86206897, 0.75      ],\n",
       "       [0.17586207, 0.5       ],\n",
       "       [1.        , 1.        ],\n",
       "       [0.34482759, 0.5       ],\n",
       "       [0.68448276, 0.75      ],\n",
       "       [0.06896552, 0.25      ],\n",
       "       [0.10344828, 0.25      ],\n",
       "       [0.5       , 0.5       ],\n",
       "       [0.12931034, 0.25      ],\n",
       "       [0.13103448, 0.5       ],\n",
       "       [0.25517241, 0.5       ],\n",
       "       [0.67931034, 0.5       ],\n",
       "       [0.        , 0.        ]])"
      ]
     },
     "execution_count": 3,
     "metadata": {},
     "output_type": "execute_result"
    }
   ],
   "source": [
    "from sklearn import preprocessing\n",
    "sx = preprocessing.MinMaxScaler()\n",
    "sy = preprocessing.MinMaxScaler()\n",
    "\n",
    "scaled_X = sx.fit_transform(df.drop('price',axis='columns'))\n",
    "# transform is called after fitting (5 cells down) so we need different fits sx and sy\n",
    "scaled_y = sy.fit_transform(df['price'].values.reshape(df.shape[0],1))\n",
    "\n",
    "scaled_X"
   ]
  },
  {
   "cell_type": "code",
   "execution_count": 4,
   "id": "64ab4981",
   "metadata": {},
   "outputs": [
    {
     "data": {
      "text/plain": [
       "array([[0.05237037],\n",
       "       [0.65185185],\n",
       "       [0.22222222],\n",
       "       [0.31851852],\n",
       "       [0.14074074],\n",
       "       [0.04444444],\n",
       "       [0.76296296],\n",
       "       [0.91111111],\n",
       "       [0.13333333],\n",
       "       [1.        ],\n",
       "       [0.37037037],\n",
       "       [0.8       ],\n",
       "       [0.04444444],\n",
       "       [0.05925926],\n",
       "       [0.51111111],\n",
       "       [0.07407407],\n",
       "       [0.11851852],\n",
       "       [0.20740741],\n",
       "       [0.51851852],\n",
       "       [0.        ]])"
      ]
     },
     "execution_count": 4,
     "metadata": {},
     "output_type": "execute_result"
    }
   ],
   "source": [
    "scaled_y"
   ]
  },
  {
   "cell_type": "code",
   "execution_count": null,
   "id": "e827b42c",
   "metadata": {},
   "outputs": [],
   "source": []
  },
  {
   "cell_type": "code",
   "execution_count": 5,
   "id": "04b5a7a6",
   "metadata": {},
   "outputs": [],
   "source": [
    "# def partition (list_in, n):\n",
    "#     random.shuffle(list_in)\n",
    "#     return [list_in[i::n] for i in range(n)]\n",
    "# l = partition(scaled_X,4)\n",
    "# l"
   ]
  },
  {
   "cell_type": "code",
   "execution_count": 9,
   "id": "cae44810",
   "metadata": {},
   "outputs": [
    {
     "data": {
      "text/plain": [
       "[array([[0.08827586, 0.25      ],\n",
       "        [0.62068966, 0.75      ],\n",
       "        [0.22068966, 0.5       ],\n",
       "        [0.24862069, 0.5       ]]),\n",
       " array([[0.13793103, 0.25      ],\n",
       "        [0.12758621, 0.25      ],\n",
       "        [0.6662069 , 0.75      ],\n",
       "        [0.86206897, 0.75      ]]),\n",
       " array([[0.17586207, 0.5       ],\n",
       "        [1.        , 1.        ],\n",
       "        [0.34482759, 0.5       ],\n",
       "        [0.68448276, 0.75      ]]),\n",
       " array([[0.06896552, 0.25      ],\n",
       "        [0.10344828, 0.25      ],\n",
       "        [0.5       , 0.5       ],\n",
       "        [0.12931034, 0.25      ]]),\n",
       " array([[0.13103448, 0.5       ],\n",
       "        [0.25517241, 0.5       ],\n",
       "        [0.67931034, 0.5       ],\n",
       "        [0.        , 0.        ]])]"
      ]
     },
     "execution_count": 9,
     "metadata": {},
     "output_type": "execute_result"
    }
   ],
   "source": [
    "def partition (list_in, n):\n",
    "    khali_list=[]\n",
    "    for aa in range(0,len(list_in), n):\n",
    "        khali_list.append(list_in[aa:aa+n])\n",
    "    return khali_list\n",
    "    \n",
    "\n",
    "\n",
    "temp = [1,2,3,4,5,6,7,8,9]\n",
    "temp2 = [10,20,30,40,50,60,70,80,90]\n",
    "temp_o = partition(temp ,3)\n",
    "temp_o\n",
    "l = partition(scaled_X,4)\n",
    "l"
   ]
  },
  {
   "cell_type": "code",
   "execution_count": 7,
   "id": "78e3b4cf",
   "metadata": {},
   "outputs": [
    {
     "data": {
      "text/plain": [
       "[array([[0.05237037],\n",
       "        [0.65185185],\n",
       "        [0.22222222],\n",
       "        [0.31851852]]),\n",
       " array([[0.14074074],\n",
       "        [0.04444444],\n",
       "        [0.76296296],\n",
       "        [0.91111111]]),\n",
       " array([[0.13333333],\n",
       "        [1.        ],\n",
       "        [0.37037037],\n",
       "        [0.8       ]]),\n",
       " array([[0.04444444],\n",
       "        [0.05925926],\n",
       "        [0.51111111],\n",
       "        [0.07407407]]),\n",
       " array([[0.11851852],\n",
       "        [0.20740741],\n",
       "        [0.51851852],\n",
       "        [0.        ]])]"
      ]
     },
     "execution_count": 7,
     "metadata": {},
     "output_type": "execute_result"
    }
   ],
   "source": [
    "m = partition(scaled_y,4)\n",
    "m"
   ]
  },
  {
   "cell_type": "code",
   "execution_count": 10,
   "id": "5ca18a7a",
   "metadata": {},
   "outputs": [
    {
     "name": "stdout",
     "output_type": "stream",
     "text": [
      "[[0.17586207 0.5       ]\n",
      " [1.         1.        ]\n",
      " [0.34482759 0.5       ]\n",
      " [0.68448276 0.75      ]]\n",
      "[[0.13333333]\n",
      " [1.        ]\n",
      " [0.37037037]\n",
      " [0.8       ]]\n"
     ]
    }
   ],
   "source": [
    "print(l[2])\n",
    "print(m[2])"
   ]
  },
  {
   "cell_type": "code",
   "execution_count": null,
   "id": "e00227a1",
   "metadata": {},
   "outputs": [],
   "source": []
  },
  {
   "cell_type": "code",
   "execution_count": 32,
   "id": "11f93432",
   "metadata": {},
   "outputs": [
    {
     "data": {
      "text/plain": [
       "(array([0.7071003 , 0.67444238]), -0.23030023401193914, 0.01769098407369228)"
      ]
     },
     "execution_count": 32,
     "metadata": {},
     "output_type": "execute_result"
    }
   ],
   "source": [
    "def partition (list_in, n):\n",
    "    khali_list=[]\n",
    "    for aa in range(0,len(list_in), n):\n",
    "        khali_list.append(list_in[aa:aa+n])\n",
    "    return khali_list\n",
    "\n",
    "def mini_batch_gradient_descent(X, y_true, epochs,part, learning_rate = 0.01):\n",
    "    number_of_features = X.shape[1]\n",
    "    \n",
    "    w = np.ones(shape=(number_of_features)) ; b = 0\n",
    "    total_samples = X.shape[0] # shape [0] === rows /number of rows in X\n",
    "    cost_list = [] ;epoch_list = []\n",
    "    l = partition(X, part)\n",
    "    m = partition(y_true,part)\n",
    "    for i in range(epochs):  \n",
    "        for j in range(0,5):\n",
    "            sam_x = l[j]\n",
    "            sam_y = m[j]\n",
    "            y_predicted = np.dot(w, sam_x.T) + b\n",
    "            w_grad = -(2/total_samples)*(sam_x.T.dot(sam_y-y_predicted))\n",
    "            b_grad = -(2/total_samples)*np.sum(sam_y-y_predicted)\n",
    "            w = w - learning_rate * w_grad\n",
    "            b = b - learning_rate * b_grad\n",
    "            cost = np.mean(np.square(sam_y-y_predicted))\n",
    "            if i%100==0: # at every 100th iteration record the cost and epoch value\n",
    "                cost_list.append(cost)\n",
    "                epoch_list.append(i)\n",
    "    return w, b, cost, cost_list, epoch_list\n",
    "w, b, cost, cost_list, epoch_list = mini_batch_gradient_descent(scaled_X,scaled_y.reshape(scaled_y.shape[0],),500,4)\n",
    "w, b, cost"
   ]
  },
  {
   "cell_type": "code",
   "execution_count": 28,
   "id": "8f05e27e",
   "metadata": {},
   "outputs": [
    {
     "data": {
      "text/plain": [
       "(array([0.978837  , 0.97390795]), -0.04482273601793664)"
      ]
     },
     "execution_count": 28,
     "metadata": {},
     "output_type": "execute_result"
    }
   ],
   "source": [
    "w,b"
   ]
  },
  {
   "cell_type": "code",
   "execution_count": 29,
   "id": "96b01537",
   "metadata": {},
   "outputs": [
    {
     "data": {
      "text/plain": [
       "[<matplotlib.lines.Line2D at 0x29084d0cbe0>]"
      ]
     },
     "execution_count": 29,
     "metadata": {},
     "output_type": "execute_result"
    },
    {
     "data": {
      "image/png": "[encoded data removed]",
      "text/plain": [
       "<Figure size 432x288 with 1 Axes>"
      ]
     },
     "metadata": {
      "needs_background": "light"
     },
     "output_type": "display_data"
    }
   ],
   "source": [
    "plt.xlabel(\"epoch\")\n",
    "plt.ylabel(\"cost\")\n",
    "plt.plot(epoch_list,cost_list)"
   ]
  },
  {
   "cell_type": "code",
   "execution_count": 21,
   "id": "c228a5c5",
   "metadata": {},
   "outputs": [
    {
     "data": {
      "text/plain": [
       "128.44688808145244"
      ]
     },
     "execution_count": 21,
     "metadata": {},
     "output_type": "execute_result"
    }
   ],
   "source": [
    "def predict(area,bedrooms,w,b):\n",
    "    scaled_X = sx.transform([[area, bedrooms]])[0]\n",
    "    # here w1 = w[0] , w2 = w[1], w3 = w[2] and bias is b\n",
    "    # equation for price is w1*area + w2*bedrooms + w3*age + bias\n",
    "    # scaled_X[0] is area\n",
    "    # scaled_X[1] is bedrooms\n",
    "    # scaled_X[2] is age\n",
    "    scaled_price = w[0] * scaled_X[0] + w[1] * scaled_X[1] + b\n",
    "    # once we get price prediction we need to to rescal it back to original value\n",
    "    # also since it returns 2D array, to get single value we need to do value[0][0]\n",
    "    return sy.inverse_transform([[scaled_price]])[0][0]\n",
    "\n",
    "predict(2600,4,w,b)"
   ]
  },
  {
   "cell_type": "code",
   "execution_count": 24,
   "id": "d87e9dd0",
   "metadata": {},
   "outputs": [
    {
     "data": {
      "text/plain": [
       "30.255246362268363"
      ]
     },
     "execution_count": 24,
     "metadata": {},
     "output_type": "execute_result"
    }
   ],
   "source": [
    "predict(1000,2,w, b) "
   ]
  },
  {
   "cell_type": "code",
   "execution_count": 25,
   "id": "a8f5036d",
   "metadata": {},
   "outputs": [
    {
     "data": {
      "text/plain": [
       "69.47604576900446"
      ]
     },
     "execution_count": 25,
     "metadata": {},
     "output_type": "execute_result"
    }
   ],
   "source": [
    "predict(1500,3,w, b)"
   ]
  },
  {
   "cell_type": "code",
   "execution_count": null,
   "id": "b44de05a",
   "metadata": {},
   "outputs": [],
   "source": []
  }
 ],
 "metadata": {
  "kernelspec": {
   "display_name": "Python 3 (ipykernel)",
   "language": "python",
   "name": "python3"
  },
  "language_info": {
   "codemirror_mode": {
    "name": "ipython",
    "version": 3
   },
   "file_extension": ".py",
   "mimetype": "text/x-python",
   "name": "python",
   "nbconvert_exporter": "python",
   "pygments_lexer": "ipython3",
   "version": "3.9.7"
  }
 },
 "nbformat": 4,
 "nbformat_minor": 5
}
