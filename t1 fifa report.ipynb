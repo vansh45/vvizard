{
 "cells": [
  {
   "cell_type": "code",
   "execution_count": 6,
   "id": "0a554c76",
   "metadata": {},
   "outputs": [],
   "source": [
    "import matplotlib.pyplot as plt\n",
    "import seaborn as sns\n",
    "import numpy as np\n",
    "import pandas as pd"
   ]
  },
  {
   "cell_type": "code",
   "execution_count": 7,
   "id": "f81f06a4",
   "metadata": {},
   "outputs": [],
   "source": [
    "f = pd.read_csv(\"data.csv\")"
   ]
  },
  {
   "cell_type": "code",
   "execution_count": 8,
   "id": "4d0c5a80",
   "metadata": {},
   "outputs": [
    {
     "data": {
      "text/plain": [
       "array(['Argentina', 'Portugal', 'Brazil', 'Spain', 'Belgium', 'Croatia',\n",
       "       'Uruguay', 'Slovenia', 'Poland', 'Germany', 'France', 'England',\n",
       "       'Italy', 'Egypt', 'Colombia', 'Denmark', 'Gabon', 'Wales',\n",
       "       'Senegal', 'Costa Rica', 'Slovakia', 'Netherlands',\n",
       "       'Bosnia Herzegovina', 'Morocco', 'Serbia', 'Algeria', 'Austria',\n",
       "       'Greece', 'Chile', 'Sweden', 'Korea Republic', 'Finland', 'Guinea',\n",
       "       'Montenegro', 'Armenia', 'Switzerland', 'Norway', 'Czech Republic',\n",
       "       'Scotland', 'Ghana', 'Central African Rep.', 'DR Congo',\n",
       "       'Ivory Coast', 'Russia', 'Ukraine', 'Iceland', 'Mexico', 'Jamaica',\n",
       "       'Albania', 'Venezuela', 'Japan', 'Turkey', 'Ecuador', 'Paraguay',\n",
       "       'Mali', 'Nigeria', 'Cameroon', 'Dominican Republic', 'Israel',\n",
       "       'Kenya', 'Hungary', 'Republic of Ireland', 'Romania',\n",
       "       'United States', 'Cape Verde', 'Australia', 'Peru', 'Togo',\n",
       "       'Syria', 'Zimbabwe', 'Angola', 'Burkina Faso', 'Iran', 'Estonia',\n",
       "       'Tunisia', 'Equatorial Guinea', 'New Zealand', 'FYR Macedonia',\n",
       "       'United Arab Emirates', 'China PR', 'Guinea Bissau', 'Bulgaria',\n",
       "       'Kosovo', 'South Africa', 'Madagascar', 'Georgia', 'Tanzania',\n",
       "       'Gambia', 'Cuba', 'Belarus', 'Uzbekistan', 'Benin', 'Congo',\n",
       "       'Mozambique', 'Honduras', 'Canada', 'Northern Ireland', 'Cyprus',\n",
       "       'Saudi Arabia', 'Curacao', 'Moldova', 'Bolivia',\n",
       "       'Trinidad & Tobago', 'Sierra Leone', 'Zambia', 'Chad',\n",
       "       'Philippines', 'Haiti', 'Comoros', 'Libya', 'Panama',\n",
       "       'São Tomé & Príncipe', 'Eritrea', 'Oman', 'Iraq', 'Burundi',\n",
       "       'Fiji', 'New Caledonia', 'Lithuania', 'Luxembourg', 'Korea DPR',\n",
       "       'Liechtenstein', 'St Kitts Nevis', 'Latvia', 'Suriname', 'Uganda',\n",
       "       'El Salvador', 'Bermuda', 'Kuwait', 'Antigua & Barbuda',\n",
       "       'Thailand', 'Mauritius', 'Guatemala', 'Liberia', 'Kazakhstan',\n",
       "       'Niger', 'Mauritania', 'Montserrat', 'Namibia', 'Azerbaijan',\n",
       "       'Guam', 'Faroe Islands', 'India', 'Nicaragua', 'Barbados',\n",
       "       'Lebanon', 'Palestine', 'Guyana', 'Sudan', 'St Lucia', 'Ethiopia',\n",
       "       'Puerto Rico', 'Grenada', 'Jordan', 'Rwanda', 'Qatar',\n",
       "       'Afghanistan', 'Hong Kong', 'Andorra', 'Malta', 'Belize',\n",
       "       'South Sudan', 'Indonesia', 'Botswana'], dtype=object)"
      ]
     },
     "execution_count": 8,
     "metadata": {},
     "output_type": "execute_result"
    }
   ],
   "source": [
    "f[\"Nationality\"].unique()"
   ]
  },
  {
   "cell_type": "code",
   "execution_count": 9,
   "id": "fcca9f8e",
   "metadata": {},
   "outputs": [
    {
     "data": {
      "text/html": [
       "<div>\n",
       "<style scoped>\n",
       "    .dataframe tbody tr th:only-of-type {\n",
       "        vertical-align: middle;\n",
       "    }\n",
       "\n",
       "    .dataframe tbody tr th {\n",
       "        vertical-align: top;\n",
       "    }\n",
       "\n",
       "    .dataframe thead th {\n",
       "        text-align: right;\n",
       "    }\n",
       "</style>\n",
       "<table border=\"1\" class=\"dataframe\">\n",
       "  <thead>\n",
       "    <tr style=\"text-align: right;\">\n",
       "      <th></th>\n",
       "      <th>No</th>\n",
       "      <th>ID</th>\n",
       "      <th>Name</th>\n",
       "      <th>Age</th>\n",
       "      <th>Photo</th>\n",
       "      <th>Nationality</th>\n",
       "      <th>Flag</th>\n",
       "      <th>Overall</th>\n",
       "      <th>Potential</th>\n",
       "      <th>Club</th>\n",
       "      <th>...</th>\n",
       "      <th>Composure</th>\n",
       "      <th>Marking</th>\n",
       "      <th>StandingTackle</th>\n",
       "      <th>SlidingTackle</th>\n",
       "      <th>GKDiving</th>\n",
       "      <th>GKHandling</th>\n",
       "      <th>GKKicking</th>\n",
       "      <th>GKPositioning</th>\n",
       "      <th>GKReflexes</th>\n",
       "      <th>Release Clause</th>\n",
       "    </tr>\n",
       "  </thead>\n",
       "  <tbody>\n",
       "    <tr>\n",
       "      <th>0</th>\n",
       "      <td>0</td>\n",
       "      <td>158023</td>\n",
       "      <td>L. Messi</td>\n",
       "      <td>31</td>\n",
       "      <td>https://cdn.sofifa.org/players/4/19/158023.png</td>\n",
       "      <td>Argentina</td>\n",
       "      <td>https://cdn.sofifa.org/flags/52.png</td>\n",
       "      <td>94</td>\n",
       "      <td>94</td>\n",
       "      <td>FC Barcelona</td>\n",
       "      <td>...</td>\n",
       "      <td>96.0</td>\n",
       "      <td>33.0</td>\n",
       "      <td>28.0</td>\n",
       "      <td>26.0</td>\n",
       "      <td>6.0</td>\n",
       "      <td>11.0</td>\n",
       "      <td>15.0</td>\n",
       "      <td>14.0</td>\n",
       "      <td>8.0</td>\n",
       "      <td>€226.5M</td>\n",
       "    </tr>\n",
       "    <tr>\n",
       "      <th>1</th>\n",
       "      <td>1</td>\n",
       "      <td>20801</td>\n",
       "      <td>Cristiano Ronaldo</td>\n",
       "      <td>33</td>\n",
       "      <td>https://cdn.sofifa.org/players/4/19/20801.png</td>\n",
       "      <td>Portugal</td>\n",
       "      <td>https://cdn.sofifa.org/flags/38.png</td>\n",
       "      <td>94</td>\n",
       "      <td>94</td>\n",
       "      <td>Juventus</td>\n",
       "      <td>...</td>\n",
       "      <td>95.0</td>\n",
       "      <td>28.0</td>\n",
       "      <td>31.0</td>\n",
       "      <td>23.0</td>\n",
       "      <td>7.0</td>\n",
       "      <td>11.0</td>\n",
       "      <td>15.0</td>\n",
       "      <td>14.0</td>\n",
       "      <td>11.0</td>\n",
       "      <td>€127.1M</td>\n",
       "    </tr>\n",
       "    <tr>\n",
       "      <th>2</th>\n",
       "      <td>2</td>\n",
       "      <td>190871</td>\n",
       "      <td>Neymar Jr</td>\n",
       "      <td>26</td>\n",
       "      <td>https://cdn.sofifa.org/players/4/19/190871.png</td>\n",
       "      <td>Brazil</td>\n",
       "      <td>https://cdn.sofifa.org/flags/54.png</td>\n",
       "      <td>92</td>\n",
       "      <td>93</td>\n",
       "      <td>Paris Saint-Germain</td>\n",
       "      <td>...</td>\n",
       "      <td>94.0</td>\n",
       "      <td>27.0</td>\n",
       "      <td>24.0</td>\n",
       "      <td>33.0</td>\n",
       "      <td>9.0</td>\n",
       "      <td>9.0</td>\n",
       "      <td>15.0</td>\n",
       "      <td>15.0</td>\n",
       "      <td>11.0</td>\n",
       "      <td>€228.1M</td>\n",
       "    </tr>\n",
       "    <tr>\n",
       "      <th>3</th>\n",
       "      <td>3</td>\n",
       "      <td>193080</td>\n",
       "      <td>De Gea</td>\n",
       "      <td>27</td>\n",
       "      <td>https://cdn.sofifa.org/players/4/19/193080.png</td>\n",
       "      <td>Spain</td>\n",
       "      <td>https://cdn.sofifa.org/flags/45.png</td>\n",
       "      <td>91</td>\n",
       "      <td>93</td>\n",
       "      <td>Manchester United</td>\n",
       "      <td>...</td>\n",
       "      <td>68.0</td>\n",
       "      <td>15.0</td>\n",
       "      <td>21.0</td>\n",
       "      <td>13.0</td>\n",
       "      <td>90.0</td>\n",
       "      <td>85.0</td>\n",
       "      <td>87.0</td>\n",
       "      <td>88.0</td>\n",
       "      <td>94.0</td>\n",
       "      <td>€138.6M</td>\n",
       "    </tr>\n",
       "    <tr>\n",
       "      <th>4</th>\n",
       "      <td>4</td>\n",
       "      <td>192985</td>\n",
       "      <td>K. De Bruyne</td>\n",
       "      <td>27</td>\n",
       "      <td>https://cdn.sofifa.org/players/4/19/192985.png</td>\n",
       "      <td>Belgium</td>\n",
       "      <td>https://cdn.sofifa.org/flags/7.png</td>\n",
       "      <td>91</td>\n",
       "      <td>92</td>\n",
       "      <td>Manchester City</td>\n",
       "      <td>...</td>\n",
       "      <td>88.0</td>\n",
       "      <td>68.0</td>\n",
       "      <td>58.0</td>\n",
       "      <td>51.0</td>\n",
       "      <td>15.0</td>\n",
       "      <td>13.0</td>\n",
       "      <td>5.0</td>\n",
       "      <td>10.0</td>\n",
       "      <td>13.0</td>\n",
       "      <td>€196.4M</td>\n",
       "    </tr>\n",
       "  </tbody>\n",
       "</table>\n",
       "<p>5 rows × 89 columns</p>\n",
       "</div>"
      ],
      "text/plain": [
       "   No      ID               Name  Age  \\\n",
       "0   0  158023           L. Messi   31   \n",
       "1   1   20801  Cristiano Ronaldo   33   \n",
       "2   2  190871          Neymar Jr   26   \n",
       "3   3  193080             De Gea   27   \n",
       "4   4  192985       K. De Bruyne   27   \n",
       "\n",
       "                                            Photo Nationality  \\\n",
       "0  https://cdn.sofifa.org/players/4/19/158023.png   Argentina   \n",
       "1   https://cdn.sofifa.org/players/4/19/20801.png    Portugal   \n",
       "2  https://cdn.sofifa.org/players/4/19/190871.png      Brazil   \n",
       "3  https://cdn.sofifa.org/players/4/19/193080.png       Spain   \n",
       "4  https://cdn.sofifa.org/players/4/19/192985.png     Belgium   \n",
       "\n",
       "                                  Flag  Overall  Potential  \\\n",
       "0  https://cdn.sofifa.org/flags/52.png       94         94   \n",
       "1  https://cdn.sofifa.org/flags/38.png       94         94   \n",
       "2  https://cdn.sofifa.org/flags/54.png       92         93   \n",
       "3  https://cdn.sofifa.org/flags/45.png       91         93   \n",
       "4   https://cdn.sofifa.org/flags/7.png       91         92   \n",
       "\n",
       "                  Club  ... Composure Marking StandingTackle  SlidingTackle  \\\n",
       "0         FC Barcelona  ...      96.0    33.0           28.0           26.0   \n",
       "1             Juventus  ...      95.0    28.0           31.0           23.0   \n",
       "2  Paris Saint-Germain  ...      94.0    27.0           24.0           33.0   \n",
       "3    Manchester United  ...      68.0    15.0           21.0           13.0   \n",
       "4      Manchester City  ...      88.0    68.0           58.0           51.0   \n",
       "\n",
       "  GKDiving  GKHandling  GKKicking  GKPositioning GKReflexes Release Clause  \n",
       "0      6.0        11.0       15.0           14.0        8.0        €226.5M  \n",
       "1      7.0        11.0       15.0           14.0       11.0        €127.1M  \n",
       "2      9.0         9.0       15.0           15.0       11.0        €228.1M  \n",
       "3     90.0        85.0       87.0           88.0       94.0        €138.6M  \n",
       "4     15.0        13.0        5.0           10.0       13.0        €196.4M  \n",
       "\n",
       "[5 rows x 89 columns]"
      ]
     },
     "execution_count": 9,
     "metadata": {},
     "output_type": "execute_result"
    }
   ],
   "source": [
    "f.head()\n",
    "#fifa_data = pd.read_csv(\"data.csv\", index_col=\"Date\", parse_dates=True)"
   ]
  },
  {
   "cell_type": "code",
   "execution_count": 10,
   "id": "ce3a9d8d",
   "metadata": {},
   "outputs": [
    {
     "ename": "NameError",
     "evalue": "name 'numpyarray' is not defined",
     "output_type": "error",
     "traceback": [
      "\u001b[1;31m---------------------------------------------------------------------------\u001b[0m",
      "\u001b[1;31mNameError\u001b[0m                                 Traceback (most recent call last)",
      "\u001b[1;32m~\\AppData\\Local\\Temp/ipykernel_1160/58615294.py\u001b[0m in \u001b[0;36m<module>\u001b[1;34m\u001b[0m\n\u001b[0;32m      1\u001b[0m \u001b[0mp\u001b[0m \u001b[1;33m=\u001b[0m \u001b[0mf\u001b[0m\u001b[1;33m[\u001b[0m\u001b[1;34m\"Nationality\"\u001b[0m\u001b[1;33m]\u001b[0m\u001b[1;33m.\u001b[0m\u001b[0mvalue_counts\u001b[0m\u001b[1;33m(\u001b[0m\u001b[1;33m)\u001b[0m\u001b[1;33m.\u001b[0m\u001b[0mnlargest\u001b[0m\u001b[1;33m(\u001b[0m\u001b[0mn\u001b[0m\u001b[1;33m=\u001b[0m\u001b[1;36m10\u001b[0m\u001b[1;33m)\u001b[0m\u001b[1;33m\u001b[0m\u001b[1;33m\u001b[0m\u001b[0m\n\u001b[1;32m----> 2\u001b[1;33m \u001b[0ma\u001b[0m \u001b[1;33m=\u001b[0m \u001b[0mnumpyarray\u001b[0m\u001b[1;33m(\u001b[0m\u001b[0mp\u001b[0m\u001b[1;33m)\u001b[0m\u001b[1;33m\u001b[0m\u001b[1;33m\u001b[0m\u001b[0m\n\u001b[0m\u001b[0;32m      3\u001b[0m \u001b[0mprint\u001b[0m\u001b[1;33m(\u001b[0m\u001b[0ma\u001b[0m\u001b[1;33m)\u001b[0m\u001b[1;33m\u001b[0m\u001b[1;33m\u001b[0m\u001b[0m\n",
      "\u001b[1;31mNameError\u001b[0m: name 'numpyarray' is not defined"
     ]
    }
   ],
   "source": [
    "p = f[\"Nationality\"].value_counts().nlargest(n=10)\n",
    "a = numpyarray(p)\n",
    "print(a)"
   ]
  },
  {
   "cell_type": "code",
   "execution_count": 11,
   "id": "16d829b9",
   "metadata": {},
   "outputs": [
    {
     "data": {
      "image/png": "[encoded data removed]",
      "text/plain": [
       "<Figure size 1440x720 with 1 Axes>"
      ]
     },
     "metadata": {
      "needs_background": "light"
     },
     "output_type": "display_data"
    }
   ],
   "source": [
    "from collections import Counter\n",
    "#print(Counter(f['Nationality'].values))\n",
    "\n",
    "#print(\"\\n\\n\",Counter(f['Nationality'].values).most_common(10))\n",
    "\n",
    "bar_plot = dict(Counter(f['Nationality'].values).most_common(10))\n",
    "\n",
    "x =[] ; y=[];\n",
    "for a , b in bar_plot.items() :\n",
    "    x.append(a)\n",
    "    y.append(b)\n",
    "\n",
    "#print(x,y)\n",
    "plt.figure(figsize =(20,10))\n",
    "plt.barh(x, y,color='purple')\n",
    " \n",
    "for index, value in enumerate(y):\n",
    "    plt.text(value, index,str(value))\n",
    "\n",
    "\n",
    "plt.show()\n",
    "\n",
    "\n",
    "#print(x,y)"
   ]
  },
  {
   "cell_type": "code",
   "execution_count": 18,
   "id": "da193b60",
   "metadata": {},
   "outputs": [
    {
     "name": "stdout",
     "output_type": "stream",
     "text": [
      "16\n",
      "45\n"
     ]
    }
   ],
   "source": [
    "print(f[\"Age\"].min() )\n",
    "print(f[\"Age\"].max() )"
   ]
  },
  {
   "cell_type": "code",
   "execution_count": 20,
   "id": "a0ebadb5",
   "metadata": {},
   "outputs": [
    {
     "name": "stdout",
     "output_type": "stream",
     "text": [
      "21    1423\n",
      "26    1387\n",
      "24    1358\n",
      "22    1340\n",
      "23    1332\n",
      "25    1319\n",
      "20    1240\n",
      "27    1162\n",
      "28    1101\n",
      "19    1024\n",
      "29     959\n",
      "30     917\n",
      "18     732\n",
      "31     707\n",
      "32     574\n",
      "33     408\n",
      "34     404\n",
      "17     289\n",
      "35     196\n",
      "36     127\n",
      "37      82\n",
      "16      42\n",
      "38      37\n",
      "39      25\n",
      "40      13\n",
      "41       5\n",
      "44       2\n",
      "45       1\n",
      "42       1\n",
      "Name: Age, dtype: int64\n"
     ]
    }
   ],
   "source": [
    "print(f[\"Age\"].value_counts())"
   ]
  },
  {
   "cell_type": "code",
   "execution_count": 14,
   "id": "c104d614",
   "metadata": {
    "scrolled": true
   },
   "outputs": [
    {
     "data": {
      "text/html": [
       "<div>\n",
       "<style scoped>\n",
       "    .dataframe tbody tr th:only-of-type {\n",
       "        vertical-align: middle;\n",
       "    }\n",
       "\n",
       "    .dataframe tbody tr th {\n",
       "        vertical-align: top;\n",
       "    }\n",
       "\n",
       "    .dataframe thead th {\n",
       "        text-align: right;\n",
       "    }\n",
       "</style>\n",
       "<table border=\"1\" class=\"dataframe\">\n",
       "  <thead>\n",
       "    <tr style=\"text-align: right;\">\n",
       "      <th></th>\n",
       "      <th>No</th>\n",
       "      <th>ID</th>\n",
       "      <th>Name</th>\n",
       "      <th>Age</th>\n",
       "      <th>Nationality</th>\n",
       "      <th>Overall</th>\n",
       "      <th>Potential</th>\n",
       "      <th>Club</th>\n",
       "      <th>Value</th>\n",
       "      <th>Wage</th>\n",
       "      <th>...</th>\n",
       "      <th>Composure</th>\n",
       "      <th>Marking</th>\n",
       "      <th>StandingTackle</th>\n",
       "      <th>SlidingTackle</th>\n",
       "      <th>GKDiving</th>\n",
       "      <th>GKHandling</th>\n",
       "      <th>GKKicking</th>\n",
       "      <th>GKPositioning</th>\n",
       "      <th>GKReflexes</th>\n",
       "      <th>Release Clause</th>\n",
       "    </tr>\n",
       "  </thead>\n",
       "  <tbody>\n",
       "    <tr>\n",
       "      <th>4741</th>\n",
       "      <td>4741</td>\n",
       "      <td>140029</td>\n",
       "      <td>O. Pérez</td>\n",
       "      <td>45</td>\n",
       "      <td>Mexico</td>\n",
       "      <td>71</td>\n",
       "      <td>71</td>\n",
       "      <td>Pachuca</td>\n",
       "      <td>€160K</td>\n",
       "      <td>€8K</td>\n",
       "      <td>...</td>\n",
       "      <td>62.0</td>\n",
       "      <td>23.0</td>\n",
       "      <td>12.0</td>\n",
       "      <td>11.0</td>\n",
       "      <td>70.0</td>\n",
       "      <td>64.0</td>\n",
       "      <td>65.0</td>\n",
       "      <td>73.0</td>\n",
       "      <td>74.0</td>\n",
       "      <td>€272K</td>\n",
       "    </tr>\n",
       "    <tr>\n",
       "      <th>18183</th>\n",
       "      <td>18183</td>\n",
       "      <td>53748</td>\n",
       "      <td>K. Pilkington</td>\n",
       "      <td>44</td>\n",
       "      <td>England</td>\n",
       "      <td>48</td>\n",
       "      <td>48</td>\n",
       "      <td>Cambridge United</td>\n",
       "      <td>€ 0</td>\n",
       "      <td>€1K</td>\n",
       "      <td>...</td>\n",
       "      <td>56.0</td>\n",
       "      <td>15.0</td>\n",
       "      <td>15.0</td>\n",
       "      <td>13.0</td>\n",
       "      <td>45.0</td>\n",
       "      <td>48.0</td>\n",
       "      <td>44.0</td>\n",
       "      <td>49.0</td>\n",
       "      <td>46.0</td>\n",
       "      <td>NaN</td>\n",
       "    </tr>\n",
       "    <tr>\n",
       "      <th>17726</th>\n",
       "      <td>17726</td>\n",
       "      <td>51963</td>\n",
       "      <td>T. Warner</td>\n",
       "      <td>44</td>\n",
       "      <td>Trinidad &amp; Tobago</td>\n",
       "      <td>53</td>\n",
       "      <td>53</td>\n",
       "      <td>Accrington Stanley</td>\n",
       "      <td>€ 0</td>\n",
       "      <td>€1K</td>\n",
       "      <td>...</td>\n",
       "      <td>46.0</td>\n",
       "      <td>19.0</td>\n",
       "      <td>15.0</td>\n",
       "      <td>14.0</td>\n",
       "      <td>48.0</td>\n",
       "      <td>56.0</td>\n",
       "      <td>56.0</td>\n",
       "      <td>60.0</td>\n",
       "      <td>44.0</td>\n",
       "      <td>NaN</td>\n",
       "    </tr>\n",
       "    <tr>\n",
       "      <th>10545</th>\n",
       "      <td>10545</td>\n",
       "      <td>140183</td>\n",
       "      <td>S. Narazaki</td>\n",
       "      <td>42</td>\n",
       "      <td>Japan</td>\n",
       "      <td>65</td>\n",
       "      <td>65</td>\n",
       "      <td>Nagoya Grampus</td>\n",
       "      <td>€40K</td>\n",
       "      <td>€1K</td>\n",
       "      <td>...</td>\n",
       "      <td>45.0</td>\n",
       "      <td>27.0</td>\n",
       "      <td>24.0</td>\n",
       "      <td>22.0</td>\n",
       "      <td>64.0</td>\n",
       "      <td>63.0</td>\n",
       "      <td>62.0</td>\n",
       "      <td>67.0</td>\n",
       "      <td>63.0</td>\n",
       "      <td>€50K</td>\n",
       "    </tr>\n",
       "    <tr>\n",
       "      <th>7225</th>\n",
       "      <td>7225</td>\n",
       "      <td>142998</td>\n",
       "      <td>C. Muñoz</td>\n",
       "      <td>41</td>\n",
       "      <td>Argentina</td>\n",
       "      <td>68</td>\n",
       "      <td>68</td>\n",
       "      <td>CD Universidad de Concepción</td>\n",
       "      <td>€60K</td>\n",
       "      <td>€1K</td>\n",
       "      <td>...</td>\n",
       "      <td>62.0</td>\n",
       "      <td>18.0</td>\n",
       "      <td>14.0</td>\n",
       "      <td>19.0</td>\n",
       "      <td>67.0</td>\n",
       "      <td>65.0</td>\n",
       "      <td>68.0</td>\n",
       "      <td>71.0</td>\n",
       "      <td>68.0</td>\n",
       "      <td>€84K</td>\n",
       "    </tr>\n",
       "  </tbody>\n",
       "</table>\n",
       "<p>5 rows × 86 columns</p>\n",
       "</div>"
      ],
      "text/plain": [
       "          No      ID           Name  Age        Nationality  Overall  \\\n",
       "4741    4741  140029       O. Pérez   45             Mexico       71   \n",
       "18183  18183   53748  K. Pilkington   44            England       48   \n",
       "17726  17726   51963      T. Warner   44  Trinidad & Tobago       53   \n",
       "10545  10545  140183    S. Narazaki   42              Japan       65   \n",
       "7225    7225  142998       C. Muñoz   41          Argentina       68   \n",
       "\n",
       "       Potential                          Club  Value Wage  ...  Composure  \\\n",
       "4741          71                       Pachuca  €160K  €8K  ...       62.0   \n",
       "18183         48              Cambridge United    € 0  €1K  ...       56.0   \n",
       "17726         53            Accrington Stanley    € 0  €1K  ...       46.0   \n",
       "10545         65                Nagoya Grampus   €40K  €1K  ...       45.0   \n",
       "7225          68  CD Universidad de Concepción   €60K  €1K  ...       62.0   \n",
       "\n",
       "      Marking  StandingTackle  SlidingTackle  GKDiving GKHandling GKKicking  \\\n",
       "4741     23.0            12.0           11.0      70.0       64.0      65.0   \n",
       "18183    15.0            15.0           13.0      45.0       48.0      44.0   \n",
       "17726    19.0            15.0           14.0      48.0       56.0      56.0   \n",
       "10545    27.0            24.0           22.0      64.0       63.0      62.0   \n",
       "7225     18.0            14.0           19.0      67.0       65.0      68.0   \n",
       "\n",
       "      GKPositioning GKReflexes  Release Clause  \n",
       "4741           73.0       74.0           €272K  \n",
       "18183          49.0       46.0             NaN  \n",
       "17726          60.0       44.0             NaN  \n",
       "10545          67.0       63.0            €50K  \n",
       "7225           71.0       68.0            €84K  \n",
       "\n",
       "[5 rows x 86 columns]"
      ]
     },
     "execution_count": 14,
     "metadata": {},
     "output_type": "execute_result"
    }
   ],
   "source": [
    "\n",
    "a = f.drop([\"Photo\",\"Flag\",\"Club Logo\"] , axis =1 )\n",
    "oldest_player = f['Age'].sort_values(ascending=False).head()\n",
    "a.loc[oldest_player.index]\n"
   ]
  },
  {
   "cell_type": "code",
   "execution_count": 15,
   "id": "b62a3252",
   "metadata": {},
   "outputs": [
    {
     "data": {
      "text/plain": [
       "Right    13948\n",
       "Left      4211\n",
       "Name: Preferred Foot, dtype: int64"
      ]
     },
     "execution_count": 15,
     "metadata": {},
     "output_type": "execute_result"
    }
   ],
   "source": [
    "from sklearn.preprocessing import LabelEncoder\n",
    "names =[\"Right\",\"Left\"]\n",
    "le = LabelEncoder()\n",
    "le.fit(f[\"Preferred Foot\"])\n",
    "b = [13948,4211]\n",
    "\n",
    "f[\"Preferred Foot\"].value_counts()"
   ]
  },
  {
   "cell_type": "code",
   "execution_count": 16,
   "id": "ab02239f",
   "metadata": {},
   "outputs": [
    {
     "data": {
      "image/png": "[encoded data removed]",
      "text/plain": [
       "<Figure size 432x288 with 1 Axes>"
      ]
     },
     "metadata": {},
     "output_type": "display_data"
    }
   ],
   "source": [
    "myexplode = [0.2, 0]\n",
    "plt.pie(b,labels=names,explode = myexplode , shadow =True)\n",
    "plt.title(\"Preferred Foot\")\n",
    "plt.legend()\n",
    "plt.show()"
   ]
  },
  {
   "cell_type": "code",
   "execution_count": 12,
   "id": "9fd10843",
   "metadata": {},
   "outputs": [
    {
     "name": "stderr",
     "output_type": "stream",
     "text": [
      "C:\\Users\\hp\\anaconda3\\lib\\site-packages\\seaborn\\_decorators.py:36: FutureWarning: Pass the following variable as a keyword arg: x. From version 0.12, the only valid positional argument will be `data`, and passing other arguments without an explicit keyword will result in an error or misinterpretation.\n",
      "  warnings.warn(\n"
     ]
    },
    {
     "ename": "TypeError",
     "evalue": "set_theme() got an unexpected keyword argument 'f'",
     "output_type": "error",
     "traceback": [
      "\u001b[1;31m---------------------------------------------------------------------------\u001b[0m",
      "\u001b[1;31mTypeError\u001b[0m                                 Traceback (most recent call last)",
      "\u001b[1;32m~\\AppData\\Local\\Temp/ipykernel_11504/2130960895.py\u001b[0m in \u001b[0;36m<module>\u001b[1;34m\u001b[0m\n\u001b[0;32m      6\u001b[0m \u001b[0mplt\u001b[0m\u001b[1;33m.\u001b[0m\u001b[0mxlabel\u001b[0m\u001b[1;33m(\u001b[0m\u001b[1;34m'Positions of players'\u001b[0m\u001b[1;33m,\u001b[0m \u001b[0mfontsize\u001b[0m \u001b[1;33m=\u001b[0m \u001b[1;36m18\u001b[0m\u001b[1;33m)\u001b[0m\u001b[1;33m\u001b[0m\u001b[1;33m\u001b[0m\u001b[0m\n\u001b[0;32m      7\u001b[0m \u001b[0mplt\u001b[0m\u001b[1;33m.\u001b[0m\u001b[0mylabel\u001b[0m\u001b[1;33m(\u001b[0m\u001b[1;34m'Number of players'\u001b[0m\u001b[1;33m,\u001b[0m\u001b[0mfontsize\u001b[0m \u001b[1;33m=\u001b[0m \u001b[1;36m18\u001b[0m\u001b[1;33m)\u001b[0m\u001b[1;33m\u001b[0m\u001b[1;33m\u001b[0m\u001b[0m\n\u001b[1;32m----> 8\u001b[1;33m \u001b[0msns\u001b[0m\u001b[1;33m.\u001b[0m\u001b[0mset\u001b[0m\u001b[1;33m(\u001b[0m\u001b[0mf\u001b[0m \u001b[1;33m=\u001b[0m \u001b[1;33m{\u001b[0m\u001b[1;34m'figure.figsize'\u001b[0m\u001b[1;33m:\u001b[0m\u001b[1;33m(\u001b[0m\u001b[1;36m12\u001b[0m\u001b[1;33m,\u001b[0m\u001b[1;36m10\u001b[0m\u001b[1;33m)\u001b[0m\u001b[1;33m}\u001b[0m\u001b[1;33m)\u001b[0m\u001b[1;33m\u001b[0m\u001b[1;33m\u001b[0m\u001b[0m\n\u001b[0m",
      "\u001b[1;32m~\\anaconda3\\lib\\site-packages\\seaborn\\rcmod.py\u001b[0m in \u001b[0;36mset\u001b[1;34m(*args, **kwargs)\u001b[0m\n\u001b[0;32m    134\u001b[0m     \u001b[0mThis\u001b[0m \u001b[0mfunction\u001b[0m \u001b[0mmay\u001b[0m \u001b[0mbe\u001b[0m \u001b[0mremoved\u001b[0m \u001b[1;32min\u001b[0m \u001b[0mthe\u001b[0m \u001b[0mfuture\u001b[0m\u001b[1;33m.\u001b[0m\u001b[1;33m\u001b[0m\u001b[1;33m\u001b[0m\u001b[0m\n\u001b[0;32m    135\u001b[0m     \"\"\"\n\u001b[1;32m--> 136\u001b[1;33m     \u001b[0mset_theme\u001b[0m\u001b[1;33m(\u001b[0m\u001b[1;33m*\u001b[0m\u001b[0margs\u001b[0m\u001b[1;33m,\u001b[0m \u001b[1;33m**\u001b[0m\u001b[0mkwargs\u001b[0m\u001b[1;33m)\u001b[0m\u001b[1;33m\u001b[0m\u001b[1;33m\u001b[0m\u001b[0m\n\u001b[0m\u001b[0;32m    137\u001b[0m \u001b[1;33m\u001b[0m\u001b[0m\n\u001b[0;32m    138\u001b[0m \u001b[1;33m\u001b[0m\u001b[0m\n",
      "\u001b[1;31mTypeError\u001b[0m: set_theme() got an unexpected keyword argument 'f'"
     ]
    },
    {
     "data": {
      "image/png": "[encoded data removed]",
      "text/plain": [
       "<Figure size 432x288 with 1 Axes>"
      ]
     },
     "metadata": {
      "needs_background": "light"
     },
     "output_type": "display_data"
    }
   ],
   "source": [
    "f[\"Position\"].value_counts()\n",
    "\n",
    "#plt.bar(f[\"Position\"].value_counts())\n",
    "sns.countplot(f[\"Position\"])\n",
    "#plt.title(\"Position\", fontsize=25)\n",
    "plt.xlabel('Positions of players', fontsize = 18)\n",
    "plt.ylabel('Number of players',fontsize = 18)\n",
    "sns.set(f = {'figure.figsize':(12,10)})"
   ]
  },
  {
   "cell_type": "code",
   "execution_count": 14,
   "id": "56fde057",
   "metadata": {},
   "outputs": [
    {
     "data": {
      "text/plain": [
       "FC Barcelona                 33\n",
       "Valencia CF                  33\n",
       "Fortuna Düsseldorf           33\n",
       "Cardiff City                 33\n",
       "Rayo Vallecano               33\n",
       "                             ..\n",
       "América FC (Minas Gerais)    20\n",
       "Fluminense                   20\n",
       "Sligo Rovers                 19\n",
       "Limerick FC                  19\n",
       "Derry City                   18\n",
       "Name: Club, Length: 651, dtype: int64"
      ]
     },
     "execution_count": 14,
     "metadata": {},
     "output_type": "execute_result"
    }
   ],
   "source": [
    "f[\"Club\"].value_counts()"
   ]
  },
  {
   "cell_type": "code",
   "execution_count": 16,
   "id": "651662b2",
   "metadata": {},
   "outputs": [
    {
     "data": {
      "text/plain": [
       "18207"
      ]
     },
     "execution_count": 16,
     "metadata": {},
     "output_type": "execute_result"
    }
   ],
   "source": [
    "f[\"Height\"].isna().sum()\n"
   ]
  },
  {
   "cell_type": "code",
   "execution_count": null,
   "id": "58997eaf",
   "metadata": {},
   "outputs": [],
   "source": []
  },
  {
   "cell_type": "code",
   "execution_count": 15,
   "id": "688d9787",
   "metadata": {},
   "outputs": [
    {
     "name": "stdout",
     "output_type": "stream",
     "text": [
      "Series([], Name: Height, dtype: int64)\n"
     ]
    }
   ],
   "source": [
    "f['Height'] = pd.to_numeric(f['Height'], errors='coerce')\n",
    "f['Weight'] = pd.to_numeric(f['Weight'], errors='coerce')\n",
    "# x= f['Height']\n",
    "# y= f['Weight']\n",
    "print(f['Height'].value_counts())"
   ]
  },
  {
   "cell_type": "code",
   "execution_count": null,
   "id": "ccfdec0f",
   "metadata": {},
   "outputs": [],
   "source": [
    "print(plt.scatter(f['Height'],f[\"Weight\"]))"
   ]
  },
  {
   "cell_type": "code",
   "execution_count": null,
   "id": "910d7258",
   "metadata": {},
   "outputs": [],
   "source": [
    "f.info()"
   ]
  },
  {
   "cell_type": "code",
   "execution_count": null,
   "id": "08ffa788",
   "metadata": {},
   "outputs": [],
   "source": []
  },
  {
   "cell_type": "code",
   "execution_count": 17,
   "id": "74108a1f",
   "metadata": {},
   "outputs": [
    {
     "data": {
      "text/plain": [
       "dtype('float64')"
      ]
     },
     "execution_count": 17,
     "metadata": {},
     "output_type": "execute_result"
    }
   ],
   "source": [
    "f[\"Height\"].dtypes"
   ]
  },
  {
   "cell_type": "code",
   "execution_count": null,
   "id": "bd15af22",
   "metadata": {},
   "outputs": [],
   "source": []
  },
  {
   "cell_type": "code",
   "execution_count": null,
   "id": "77acc1ca",
   "metadata": {},
   "outputs": [],
   "source": []
  },
  {
   "cell_type": "code",
   "execution_count": null,
   "id": "f9b8e0aa",
   "metadata": {},
   "outputs": [],
   "source": []
  },
  {
   "cell_type": "code",
   "execution_count": null,
   "id": "39f422b9",
   "metadata": {},
   "outputs": [],
   "source": []
  }
 ],
 "metadata": {
  "kernelspec": {
   "display_name": "Python 3 (ipykernel)",
   "language": "python",
   "name": "python3"
  },
  "language_info": {
   "codemirror_mode": {
    "name": "ipython",
    "version": 3
   },
   "file_extension": ".py",
   "mimetype": "text/x-python",
   "name": "python",
   "nbconvert_exporter": "python",
   "pygments_lexer": "ipython3",
   "version": "3.9.7"
  }
 },
 "nbformat": 4,
 "nbformat_minor": 5
}
